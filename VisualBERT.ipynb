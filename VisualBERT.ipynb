{
  "nbformat": 4,
  "nbformat_minor": 0,
  "metadata": {
    "colab": {
      "provenance": [],
      "gpuType": "T4",
      "include_colab_link": true
    },
    "kernelspec": {
      "name": "python3",
      "display_name": "Python 3"
    },
    "language_info": {
      "name": "python"
    },
    "accelerator": "GPU",
    "widgets": {
      "application/vnd.jupyter.widget-state+json": {
        "f08cad717fd148bcb7191534f86c15b7": {
          "model_module": "@jupyter-widgets/controls",
          "model_name": "HBoxModel",
          "model_module_version": "1.5.0",
          "state": {
            "_dom_classes": [],
            "_model_module": "@jupyter-widgets/controls",
            "_model_module_version": "1.5.0",
            "_model_name": "HBoxModel",
            "_view_count": null,
            "_view_module": "@jupyter-widgets/controls",
            "_view_module_version": "1.5.0",
            "_view_name": "HBoxView",
            "box_style": "",
            "children": [
              "IPY_MODEL_3375c0583dc54094b318dc076ca31378",
              "IPY_MODEL_dbd1c8784f18425da056ad9a6e300a87",
              "IPY_MODEL_642a990f81234324bb71ece25e26f47a"
            ],
            "layout": "IPY_MODEL_c39d964266154d64815d9d9a2161269a"
          }
        },
        "3375c0583dc54094b318dc076ca31378": {
          "model_module": "@jupyter-widgets/controls",
          "model_name": "HTMLModel",
          "model_module_version": "1.5.0",
          "state": {
            "_dom_classes": [],
            "_model_module": "@jupyter-widgets/controls",
            "_model_module_version": "1.5.0",
            "_model_name": "HTMLModel",
            "_view_count": null,
            "_view_module": "@jupyter-widgets/controls",
            "_view_module_version": "1.5.0",
            "_view_name": "HTMLView",
            "description": "",
            "description_tooltip": null,
            "layout": "IPY_MODEL_ea23626f14a44c288bb5fb7445f45a10",
            "placeholder": "​",
            "style": "IPY_MODEL_0daff219a0bb4bee9a1522d001c39019",
            "value": "Downloading (…)okenizer_config.json: 100%"
          }
        },
        "dbd1c8784f18425da056ad9a6e300a87": {
          "model_module": "@jupyter-widgets/controls",
          "model_name": "FloatProgressModel",
          "model_module_version": "1.5.0",
          "state": {
            "_dom_classes": [],
            "_model_module": "@jupyter-widgets/controls",
            "_model_module_version": "1.5.0",
            "_model_name": "FloatProgressModel",
            "_view_count": null,
            "_view_module": "@jupyter-widgets/controls",
            "_view_module_version": "1.5.0",
            "_view_name": "ProgressView",
            "bar_style": "success",
            "description": "",
            "description_tooltip": null,
            "layout": "IPY_MODEL_9e8bb6c2581542609a4529c806156bcc",
            "max": 28,
            "min": 0,
            "orientation": "horizontal",
            "style": "IPY_MODEL_8e42e0d4958b4cb1b63b47f956ac2264",
            "value": 28
          }
        },
        "642a990f81234324bb71ece25e26f47a": {
          "model_module": "@jupyter-widgets/controls",
          "model_name": "HTMLModel",
          "model_module_version": "1.5.0",
          "state": {
            "_dom_classes": [],
            "_model_module": "@jupyter-widgets/controls",
            "_model_module_version": "1.5.0",
            "_model_name": "HTMLModel",
            "_view_count": null,
            "_view_module": "@jupyter-widgets/controls",
            "_view_module_version": "1.5.0",
            "_view_name": "HTMLView",
            "description": "",
            "description_tooltip": null,
            "layout": "IPY_MODEL_59e2a586d56a4241a541c17fd838b2cf",
            "placeholder": "​",
            "style": "IPY_MODEL_60b87082545a438cb7d17d19decb73cc",
            "value": " 28.0/28.0 [00:00&lt;00:00, 873B/s]"
          }
        },
        "c39d964266154d64815d9d9a2161269a": {
          "model_module": "@jupyter-widgets/base",
          "model_name": "LayoutModel",
          "model_module_version": "1.2.0",
          "state": {
            "_model_module": "@jupyter-widgets/base",
            "_model_module_version": "1.2.0",
            "_model_name": "LayoutModel",
            "_view_count": null,
            "_view_module": "@jupyter-widgets/base",
            "_view_module_version": "1.2.0",
            "_view_name": "LayoutView",
            "align_content": null,
            "align_items": null,
            "align_self": null,
            "border": null,
            "bottom": null,
            "display": null,
            "flex": null,
            "flex_flow": null,
            "grid_area": null,
            "grid_auto_columns": null,
            "grid_auto_flow": null,
            "grid_auto_rows": null,
            "grid_column": null,
            "grid_gap": null,
            "grid_row": null,
            "grid_template_areas": null,
            "grid_template_columns": null,
            "grid_template_rows": null,
            "height": null,
            "justify_content": null,
            "justify_items": null,
            "left": null,
            "margin": null,
            "max_height": null,
            "max_width": null,
            "min_height": null,
            "min_width": null,
            "object_fit": null,
            "object_position": null,
            "order": null,
            "overflow": null,
            "overflow_x": null,
            "overflow_y": null,
            "padding": null,
            "right": null,
            "top": null,
            "visibility": null,
            "width": null
          }
        },
        "ea23626f14a44c288bb5fb7445f45a10": {
          "model_module": "@jupyter-widgets/base",
          "model_name": "LayoutModel",
          "model_module_version": "1.2.0",
          "state": {
            "_model_module": "@jupyter-widgets/base",
            "_model_module_version": "1.2.0",
            "_model_name": "LayoutModel",
            "_view_count": null,
            "_view_module": "@jupyter-widgets/base",
            "_view_module_version": "1.2.0",
            "_view_name": "LayoutView",
            "align_content": null,
            "align_items": null,
            "align_self": null,
            "border": null,
            "bottom": null,
            "display": null,
            "flex": null,
            "flex_flow": null,
            "grid_area": null,
            "grid_auto_columns": null,
            "grid_auto_flow": null,
            "grid_auto_rows": null,
            "grid_column": null,
            "grid_gap": null,
            "grid_row": null,
            "grid_template_areas": null,
            "grid_template_columns": null,
            "grid_template_rows": null,
            "height": null,
            "justify_content": null,
            "justify_items": null,
            "left": null,
            "margin": null,
            "max_height": null,
            "max_width": null,
            "min_height": null,
            "min_width": null,
            "object_fit": null,
            "object_position": null,
            "order": null,
            "overflow": null,
            "overflow_x": null,
            "overflow_y": null,
            "padding": null,
            "right": null,
            "top": null,
            "visibility": null,
            "width": null
          }
        },
        "0daff219a0bb4bee9a1522d001c39019": {
          "model_module": "@jupyter-widgets/controls",
          "model_name": "DescriptionStyleModel",
          "model_module_version": "1.5.0",
          "state": {
            "_model_module": "@jupyter-widgets/controls",
            "_model_module_version": "1.5.0",
            "_model_name": "DescriptionStyleModel",
            "_view_count": null,
            "_view_module": "@jupyter-widgets/base",
            "_view_module_version": "1.2.0",
            "_view_name": "StyleView",
            "description_width": ""
          }
        },
        "9e8bb6c2581542609a4529c806156bcc": {
          "model_module": "@jupyter-widgets/base",
          "model_name": "LayoutModel",
          "model_module_version": "1.2.0",
          "state": {
            "_model_module": "@jupyter-widgets/base",
            "_model_module_version": "1.2.0",
            "_model_name": "LayoutModel",
            "_view_count": null,
            "_view_module": "@jupyter-widgets/base",
            "_view_module_version": "1.2.0",
            "_view_name": "LayoutView",
            "align_content": null,
            "align_items": null,
            "align_self": null,
            "border": null,
            "bottom": null,
            "display": null,
            "flex": null,
            "flex_flow": null,
            "grid_area": null,
            "grid_auto_columns": null,
            "grid_auto_flow": null,
            "grid_auto_rows": null,
            "grid_column": null,
            "grid_gap": null,
            "grid_row": null,
            "grid_template_areas": null,
            "grid_template_columns": null,
            "grid_template_rows": null,
            "height": null,
            "justify_content": null,
            "justify_items": null,
            "left": null,
            "margin": null,
            "max_height": null,
            "max_width": null,
            "min_height": null,
            "min_width": null,
            "object_fit": null,
            "object_position": null,
            "order": null,
            "overflow": null,
            "overflow_x": null,
            "overflow_y": null,
            "padding": null,
            "right": null,
            "top": null,
            "visibility": null,
            "width": null
          }
        },
        "8e42e0d4958b4cb1b63b47f956ac2264": {
          "model_module": "@jupyter-widgets/controls",
          "model_name": "ProgressStyleModel",
          "model_module_version": "1.5.0",
          "state": {
            "_model_module": "@jupyter-widgets/controls",
            "_model_module_version": "1.5.0",
            "_model_name": "ProgressStyleModel",
            "_view_count": null,
            "_view_module": "@jupyter-widgets/base",
            "_view_module_version": "1.2.0",
            "_view_name": "StyleView",
            "bar_color": null,
            "description_width": ""
          }
        },
        "59e2a586d56a4241a541c17fd838b2cf": {
          "model_module": "@jupyter-widgets/base",
          "model_name": "LayoutModel",
          "model_module_version": "1.2.0",
          "state": {
            "_model_module": "@jupyter-widgets/base",
            "_model_module_version": "1.2.0",
            "_model_name": "LayoutModel",
            "_view_count": null,
            "_view_module": "@jupyter-widgets/base",
            "_view_module_version": "1.2.0",
            "_view_name": "LayoutView",
            "align_content": null,
            "align_items": null,
            "align_self": null,
            "border": null,
            "bottom": null,
            "display": null,
            "flex": null,
            "flex_flow": null,
            "grid_area": null,
            "grid_auto_columns": null,
            "grid_auto_flow": null,
            "grid_auto_rows": null,
            "grid_column": null,
            "grid_gap": null,
            "grid_row": null,
            "grid_template_areas": null,
            "grid_template_columns": null,
            "grid_template_rows": null,
            "height": null,
            "justify_content": null,
            "justify_items": null,
            "left": null,
            "margin": null,
            "max_height": null,
            "max_width": null,
            "min_height": null,
            "min_width": null,
            "object_fit": null,
            "object_position": null,
            "order": null,
            "overflow": null,
            "overflow_x": null,
            "overflow_y": null,
            "padding": null,
            "right": null,
            "top": null,
            "visibility": null,
            "width": null
          }
        },
        "60b87082545a438cb7d17d19decb73cc": {
          "model_module": "@jupyter-widgets/controls",
          "model_name": "DescriptionStyleModel",
          "model_module_version": "1.5.0",
          "state": {
            "_model_module": "@jupyter-widgets/controls",
            "_model_module_version": "1.5.0",
            "_model_name": "DescriptionStyleModel",
            "_view_count": null,
            "_view_module": "@jupyter-widgets/base",
            "_view_module_version": "1.2.0",
            "_view_name": "StyleView",
            "description_width": ""
          }
        },
        "f354aa50329e41e683a9c378e5a513ae": {
          "model_module": "@jupyter-widgets/controls",
          "model_name": "HBoxModel",
          "model_module_version": "1.5.0",
          "state": {
            "_dom_classes": [],
            "_model_module": "@jupyter-widgets/controls",
            "_model_module_version": "1.5.0",
            "_model_name": "HBoxModel",
            "_view_count": null,
            "_view_module": "@jupyter-widgets/controls",
            "_view_module_version": "1.5.0",
            "_view_name": "HBoxView",
            "box_style": "",
            "children": [
              "IPY_MODEL_966b24047d53494fadba7ba792ae3fd3",
              "IPY_MODEL_8a297c3c19f84fdaaeef6658d3eef1f2",
              "IPY_MODEL_e06f2789afef47939f934f257c990362"
            ],
            "layout": "IPY_MODEL_c2e661ae11694290ad54f8474cc58927"
          }
        },
        "966b24047d53494fadba7ba792ae3fd3": {
          "model_module": "@jupyter-widgets/controls",
          "model_name": "HTMLModel",
          "model_module_version": "1.5.0",
          "state": {
            "_dom_classes": [],
            "_model_module": "@jupyter-widgets/controls",
            "_model_module_version": "1.5.0",
            "_model_name": "HTMLModel",
            "_view_count": null,
            "_view_module": "@jupyter-widgets/controls",
            "_view_module_version": "1.5.0",
            "_view_name": "HTMLView",
            "description": "",
            "description_tooltip": null,
            "layout": "IPY_MODEL_9f35c10fab054e2ba9e11e55772ccf9b",
            "placeholder": "​",
            "style": "IPY_MODEL_1be6b409facd42d18cca25a2d108e015",
            "value": "Downloading (…)solve/main/vocab.txt: 100%"
          }
        },
        "8a297c3c19f84fdaaeef6658d3eef1f2": {
          "model_module": "@jupyter-widgets/controls",
          "model_name": "FloatProgressModel",
          "model_module_version": "1.5.0",
          "state": {
            "_dom_classes": [],
            "_model_module": "@jupyter-widgets/controls",
            "_model_module_version": "1.5.0",
            "_model_name": "FloatProgressModel",
            "_view_count": null,
            "_view_module": "@jupyter-widgets/controls",
            "_view_module_version": "1.5.0",
            "_view_name": "ProgressView",
            "bar_style": "success",
            "description": "",
            "description_tooltip": null,
            "layout": "IPY_MODEL_82ba4f4465d94b8ba8315f059d28b9e2",
            "max": 231508,
            "min": 0,
            "orientation": "horizontal",
            "style": "IPY_MODEL_8f61687c56ec41eeb5edffb969b2c4a2",
            "value": 231508
          }
        },
        "e06f2789afef47939f934f257c990362": {
          "model_module": "@jupyter-widgets/controls",
          "model_name": "HTMLModel",
          "model_module_version": "1.5.0",
          "state": {
            "_dom_classes": [],
            "_model_module": "@jupyter-widgets/controls",
            "_model_module_version": "1.5.0",
            "_model_name": "HTMLModel",
            "_view_count": null,
            "_view_module": "@jupyter-widgets/controls",
            "_view_module_version": "1.5.0",
            "_view_name": "HTMLView",
            "description": "",
            "description_tooltip": null,
            "layout": "IPY_MODEL_d394ed8cf95d47b59a6951c5e23bd09a",
            "placeholder": "​",
            "style": "IPY_MODEL_ec858cb896b04b98b7b65f696c4e3f55",
            "value": " 232k/232k [00:00&lt;00:00, 3.24MB/s]"
          }
        },
        "c2e661ae11694290ad54f8474cc58927": {
          "model_module": "@jupyter-widgets/base",
          "model_name": "LayoutModel",
          "model_module_version": "1.2.0",
          "state": {
            "_model_module": "@jupyter-widgets/base",
            "_model_module_version": "1.2.0",
            "_model_name": "LayoutModel",
            "_view_count": null,
            "_view_module": "@jupyter-widgets/base",
            "_view_module_version": "1.2.0",
            "_view_name": "LayoutView",
            "align_content": null,
            "align_items": null,
            "align_self": null,
            "border": null,
            "bottom": null,
            "display": null,
            "flex": null,
            "flex_flow": null,
            "grid_area": null,
            "grid_auto_columns": null,
            "grid_auto_flow": null,
            "grid_auto_rows": null,
            "grid_column": null,
            "grid_gap": null,
            "grid_row": null,
            "grid_template_areas": null,
            "grid_template_columns": null,
            "grid_template_rows": null,
            "height": null,
            "justify_content": null,
            "justify_items": null,
            "left": null,
            "margin": null,
            "max_height": null,
            "max_width": null,
            "min_height": null,
            "min_width": null,
            "object_fit": null,
            "object_position": null,
            "order": null,
            "overflow": null,
            "overflow_x": null,
            "overflow_y": null,
            "padding": null,
            "right": null,
            "top": null,
            "visibility": null,
            "width": null
          }
        },
        "9f35c10fab054e2ba9e11e55772ccf9b": {
          "model_module": "@jupyter-widgets/base",
          "model_name": "LayoutModel",
          "model_module_version": "1.2.0",
          "state": {
            "_model_module": "@jupyter-widgets/base",
            "_model_module_version": "1.2.0",
            "_model_name": "LayoutModel",
            "_view_count": null,
            "_view_module": "@jupyter-widgets/base",
            "_view_module_version": "1.2.0",
            "_view_name": "LayoutView",
            "align_content": null,
            "align_items": null,
            "align_self": null,
            "border": null,
            "bottom": null,
            "display": null,
            "flex": null,
            "flex_flow": null,
            "grid_area": null,
            "grid_auto_columns": null,
            "grid_auto_flow": null,
            "grid_auto_rows": null,
            "grid_column": null,
            "grid_gap": null,
            "grid_row": null,
            "grid_template_areas": null,
            "grid_template_columns": null,
            "grid_template_rows": null,
            "height": null,
            "justify_content": null,
            "justify_items": null,
            "left": null,
            "margin": null,
            "max_height": null,
            "max_width": null,
            "min_height": null,
            "min_width": null,
            "object_fit": null,
            "object_position": null,
            "order": null,
            "overflow": null,
            "overflow_x": null,
            "overflow_y": null,
            "padding": null,
            "right": null,
            "top": null,
            "visibility": null,
            "width": null
          }
        },
        "1be6b409facd42d18cca25a2d108e015": {
          "model_module": "@jupyter-widgets/controls",
          "model_name": "DescriptionStyleModel",
          "model_module_version": "1.5.0",
          "state": {
            "_model_module": "@jupyter-widgets/controls",
            "_model_module_version": "1.5.0",
            "_model_name": "DescriptionStyleModel",
            "_view_count": null,
            "_view_module": "@jupyter-widgets/base",
            "_view_module_version": "1.2.0",
            "_view_name": "StyleView",
            "description_width": ""
          }
        },
        "82ba4f4465d94b8ba8315f059d28b9e2": {
          "model_module": "@jupyter-widgets/base",
          "model_name": "LayoutModel",
          "model_module_version": "1.2.0",
          "state": {
            "_model_module": "@jupyter-widgets/base",
            "_model_module_version": "1.2.0",
            "_model_name": "LayoutModel",
            "_view_count": null,
            "_view_module": "@jupyter-widgets/base",
            "_view_module_version": "1.2.0",
            "_view_name": "LayoutView",
            "align_content": null,
            "align_items": null,
            "align_self": null,
            "border": null,
            "bottom": null,
            "display": null,
            "flex": null,
            "flex_flow": null,
            "grid_area": null,
            "grid_auto_columns": null,
            "grid_auto_flow": null,
            "grid_auto_rows": null,
            "grid_column": null,
            "grid_gap": null,
            "grid_row": null,
            "grid_template_areas": null,
            "grid_template_columns": null,
            "grid_template_rows": null,
            "height": null,
            "justify_content": null,
            "justify_items": null,
            "left": null,
            "margin": null,
            "max_height": null,
            "max_width": null,
            "min_height": null,
            "min_width": null,
            "object_fit": null,
            "object_position": null,
            "order": null,
            "overflow": null,
            "overflow_x": null,
            "overflow_y": null,
            "padding": null,
            "right": null,
            "top": null,
            "visibility": null,
            "width": null
          }
        },
        "8f61687c56ec41eeb5edffb969b2c4a2": {
          "model_module": "@jupyter-widgets/controls",
          "model_name": "ProgressStyleModel",
          "model_module_version": "1.5.0",
          "state": {
            "_model_module": "@jupyter-widgets/controls",
            "_model_module_version": "1.5.0",
            "_model_name": "ProgressStyleModel",
            "_view_count": null,
            "_view_module": "@jupyter-widgets/base",
            "_view_module_version": "1.2.0",
            "_view_name": "StyleView",
            "bar_color": null,
            "description_width": ""
          }
        },
        "d394ed8cf95d47b59a6951c5e23bd09a": {
          "model_module": "@jupyter-widgets/base",
          "model_name": "LayoutModel",
          "model_module_version": "1.2.0",
          "state": {
            "_model_module": "@jupyter-widgets/base",
            "_model_module_version": "1.2.0",
            "_model_name": "LayoutModel",
            "_view_count": null,
            "_view_module": "@jupyter-widgets/base",
            "_view_module_version": "1.2.0",
            "_view_name": "LayoutView",
            "align_content": null,
            "align_items": null,
            "align_self": null,
            "border": null,
            "bottom": null,
            "display": null,
            "flex": null,
            "flex_flow": null,
            "grid_area": null,
            "grid_auto_columns": null,
            "grid_auto_flow": null,
            "grid_auto_rows": null,
            "grid_column": null,
            "grid_gap": null,
            "grid_row": null,
            "grid_template_areas": null,
            "grid_template_columns": null,
            "grid_template_rows": null,
            "height": null,
            "justify_content": null,
            "justify_items": null,
            "left": null,
            "margin": null,
            "max_height": null,
            "max_width": null,
            "min_height": null,
            "min_width": null,
            "object_fit": null,
            "object_position": null,
            "order": null,
            "overflow": null,
            "overflow_x": null,
            "overflow_y": null,
            "padding": null,
            "right": null,
            "top": null,
            "visibility": null,
            "width": null
          }
        },
        "ec858cb896b04b98b7b65f696c4e3f55": {
          "model_module": "@jupyter-widgets/controls",
          "model_name": "DescriptionStyleModel",
          "model_module_version": "1.5.0",
          "state": {
            "_model_module": "@jupyter-widgets/controls",
            "_model_module_version": "1.5.0",
            "_model_name": "DescriptionStyleModel",
            "_view_count": null,
            "_view_module": "@jupyter-widgets/base",
            "_view_module_version": "1.2.0",
            "_view_name": "StyleView",
            "description_width": ""
          }
        },
        "b7da1c33cab245418021607747697a56": {
          "model_module": "@jupyter-widgets/controls",
          "model_name": "HBoxModel",
          "model_module_version": "1.5.0",
          "state": {
            "_dom_classes": [],
            "_model_module": "@jupyter-widgets/controls",
            "_model_module_version": "1.5.0",
            "_model_name": "HBoxModel",
            "_view_count": null,
            "_view_module": "@jupyter-widgets/controls",
            "_view_module_version": "1.5.0",
            "_view_name": "HBoxView",
            "box_style": "",
            "children": [
              "IPY_MODEL_605399d9e92643b09c8e0d9a16eeaf22",
              "IPY_MODEL_812b534f9cd14583892290d2a1b2c8c8",
              "IPY_MODEL_e8c66ce11d4143219f7d05786a56f362"
            ],
            "layout": "IPY_MODEL_5f24cc0bbcaf464abcabd6caeae7e280"
          }
        },
        "605399d9e92643b09c8e0d9a16eeaf22": {
          "model_module": "@jupyter-widgets/controls",
          "model_name": "HTMLModel",
          "model_module_version": "1.5.0",
          "state": {
            "_dom_classes": [],
            "_model_module": "@jupyter-widgets/controls",
            "_model_module_version": "1.5.0",
            "_model_name": "HTMLModel",
            "_view_count": null,
            "_view_module": "@jupyter-widgets/controls",
            "_view_module_version": "1.5.0",
            "_view_name": "HTMLView",
            "description": "",
            "description_tooltip": null,
            "layout": "IPY_MODEL_ad82c0008c8446e6b96b8e79ef52ed75",
            "placeholder": "​",
            "style": "IPY_MODEL_8b12d893738a420fbada237770bdb4e0",
            "value": "Downloading (…)/main/tokenizer.json: 100%"
          }
        },
        "812b534f9cd14583892290d2a1b2c8c8": {
          "model_module": "@jupyter-widgets/controls",
          "model_name": "FloatProgressModel",
          "model_module_version": "1.5.0",
          "state": {
            "_dom_classes": [],
            "_model_module": "@jupyter-widgets/controls",
            "_model_module_version": "1.5.0",
            "_model_name": "FloatProgressModel",
            "_view_count": null,
            "_view_module": "@jupyter-widgets/controls",
            "_view_module_version": "1.5.0",
            "_view_name": "ProgressView",
            "bar_style": "success",
            "description": "",
            "description_tooltip": null,
            "layout": "IPY_MODEL_a6fe02bd5c1e43ceafe0c009941271f3",
            "max": 466062,
            "min": 0,
            "orientation": "horizontal",
            "style": "IPY_MODEL_d4bcefccf4014b65a674ac697ee04926",
            "value": 466062
          }
        },
        "e8c66ce11d4143219f7d05786a56f362": {
          "model_module": "@jupyter-widgets/controls",
          "model_name": "HTMLModel",
          "model_module_version": "1.5.0",
          "state": {
            "_dom_classes": [],
            "_model_module": "@jupyter-widgets/controls",
            "_model_module_version": "1.5.0",
            "_model_name": "HTMLModel",
            "_view_count": null,
            "_view_module": "@jupyter-widgets/controls",
            "_view_module_version": "1.5.0",
            "_view_name": "HTMLView",
            "description": "",
            "description_tooltip": null,
            "layout": "IPY_MODEL_cfd9cc4d11fc40bc9889f316d7f4ec33",
            "placeholder": "​",
            "style": "IPY_MODEL_a06e8bfc3ef5478b9eb1f38be4d11311",
            "value": " 466k/466k [00:00&lt;00:00, 2.33MB/s]"
          }
        },
        "5f24cc0bbcaf464abcabd6caeae7e280": {
          "model_module": "@jupyter-widgets/base",
          "model_name": "LayoutModel",
          "model_module_version": "1.2.0",
          "state": {
            "_model_module": "@jupyter-widgets/base",
            "_model_module_version": "1.2.0",
            "_model_name": "LayoutModel",
            "_view_count": null,
            "_view_module": "@jupyter-widgets/base",
            "_view_module_version": "1.2.0",
            "_view_name": "LayoutView",
            "align_content": null,
            "align_items": null,
            "align_self": null,
            "border": null,
            "bottom": null,
            "display": null,
            "flex": null,
            "flex_flow": null,
            "grid_area": null,
            "grid_auto_columns": null,
            "grid_auto_flow": null,
            "grid_auto_rows": null,
            "grid_column": null,
            "grid_gap": null,
            "grid_row": null,
            "grid_template_areas": null,
            "grid_template_columns": null,
            "grid_template_rows": null,
            "height": null,
            "justify_content": null,
            "justify_items": null,
            "left": null,
            "margin": null,
            "max_height": null,
            "max_width": null,
            "min_height": null,
            "min_width": null,
            "object_fit": null,
            "object_position": null,
            "order": null,
            "overflow": null,
            "overflow_x": null,
            "overflow_y": null,
            "padding": null,
            "right": null,
            "top": null,
            "visibility": null,
            "width": null
          }
        },
        "ad82c0008c8446e6b96b8e79ef52ed75": {
          "model_module": "@jupyter-widgets/base",
          "model_name": "LayoutModel",
          "model_module_version": "1.2.0",
          "state": {
            "_model_module": "@jupyter-widgets/base",
            "_model_module_version": "1.2.0",
            "_model_name": "LayoutModel",
            "_view_count": null,
            "_view_module": "@jupyter-widgets/base",
            "_view_module_version": "1.2.0",
            "_view_name": "LayoutView",
            "align_content": null,
            "align_items": null,
            "align_self": null,
            "border": null,
            "bottom": null,
            "display": null,
            "flex": null,
            "flex_flow": null,
            "grid_area": null,
            "grid_auto_columns": null,
            "grid_auto_flow": null,
            "grid_auto_rows": null,
            "grid_column": null,
            "grid_gap": null,
            "grid_row": null,
            "grid_template_areas": null,
            "grid_template_columns": null,
            "grid_template_rows": null,
            "height": null,
            "justify_content": null,
            "justify_items": null,
            "left": null,
            "margin": null,
            "max_height": null,
            "max_width": null,
            "min_height": null,
            "min_width": null,
            "object_fit": null,
            "object_position": null,
            "order": null,
            "overflow": null,
            "overflow_x": null,
            "overflow_y": null,
            "padding": null,
            "right": null,
            "top": null,
            "visibility": null,
            "width": null
          }
        },
        "8b12d893738a420fbada237770bdb4e0": {
          "model_module": "@jupyter-widgets/controls",
          "model_name": "DescriptionStyleModel",
          "model_module_version": "1.5.0",
          "state": {
            "_model_module": "@jupyter-widgets/controls",
            "_model_module_version": "1.5.0",
            "_model_name": "DescriptionStyleModel",
            "_view_count": null,
            "_view_module": "@jupyter-widgets/base",
            "_view_module_version": "1.2.0",
            "_view_name": "StyleView",
            "description_width": ""
          }
        },
        "a6fe02bd5c1e43ceafe0c009941271f3": {
          "model_module": "@jupyter-widgets/base",
          "model_name": "LayoutModel",
          "model_module_version": "1.2.0",
          "state": {
            "_model_module": "@jupyter-widgets/base",
            "_model_module_version": "1.2.0",
            "_model_name": "LayoutModel",
            "_view_count": null,
            "_view_module": "@jupyter-widgets/base",
            "_view_module_version": "1.2.0",
            "_view_name": "LayoutView",
            "align_content": null,
            "align_items": null,
            "align_self": null,
            "border": null,
            "bottom": null,
            "display": null,
            "flex": null,
            "flex_flow": null,
            "grid_area": null,
            "grid_auto_columns": null,
            "grid_auto_flow": null,
            "grid_auto_rows": null,
            "grid_column": null,
            "grid_gap": null,
            "grid_row": null,
            "grid_template_areas": null,
            "grid_template_columns": null,
            "grid_template_rows": null,
            "height": null,
            "justify_content": null,
            "justify_items": null,
            "left": null,
            "margin": null,
            "max_height": null,
            "max_width": null,
            "min_height": null,
            "min_width": null,
            "object_fit": null,
            "object_position": null,
            "order": null,
            "overflow": null,
            "overflow_x": null,
            "overflow_y": null,
            "padding": null,
            "right": null,
            "top": null,
            "visibility": null,
            "width": null
          }
        },
        "d4bcefccf4014b65a674ac697ee04926": {
          "model_module": "@jupyter-widgets/controls",
          "model_name": "ProgressStyleModel",
          "model_module_version": "1.5.0",
          "state": {
            "_model_module": "@jupyter-widgets/controls",
            "_model_module_version": "1.5.0",
            "_model_name": "ProgressStyleModel",
            "_view_count": null,
            "_view_module": "@jupyter-widgets/base",
            "_view_module_version": "1.2.0",
            "_view_name": "StyleView",
            "bar_color": null,
            "description_width": ""
          }
        },
        "cfd9cc4d11fc40bc9889f316d7f4ec33": {
          "model_module": "@jupyter-widgets/base",
          "model_name": "LayoutModel",
          "model_module_version": "1.2.0",
          "state": {
            "_model_module": "@jupyter-widgets/base",
            "_model_module_version": "1.2.0",
            "_model_name": "LayoutModel",
            "_view_count": null,
            "_view_module": "@jupyter-widgets/base",
            "_view_module_version": "1.2.0",
            "_view_name": "LayoutView",
            "align_content": null,
            "align_items": null,
            "align_self": null,
            "border": null,
            "bottom": null,
            "display": null,
            "flex": null,
            "flex_flow": null,
            "grid_area": null,
            "grid_auto_columns": null,
            "grid_auto_flow": null,
            "grid_auto_rows": null,
            "grid_column": null,
            "grid_gap": null,
            "grid_row": null,
            "grid_template_areas": null,
            "grid_template_columns": null,
            "grid_template_rows": null,
            "height": null,
            "justify_content": null,
            "justify_items": null,
            "left": null,
            "margin": null,
            "max_height": null,
            "max_width": null,
            "min_height": null,
            "min_width": null,
            "object_fit": null,
            "object_position": null,
            "order": null,
            "overflow": null,
            "overflow_x": null,
            "overflow_y": null,
            "padding": null,
            "right": null,
            "top": null,
            "visibility": null,
            "width": null
          }
        },
        "a06e8bfc3ef5478b9eb1f38be4d11311": {
          "model_module": "@jupyter-widgets/controls",
          "model_name": "DescriptionStyleModel",
          "model_module_version": "1.5.0",
          "state": {
            "_model_module": "@jupyter-widgets/controls",
            "_model_module_version": "1.5.0",
            "_model_name": "DescriptionStyleModel",
            "_view_count": null,
            "_view_module": "@jupyter-widgets/base",
            "_view_module_version": "1.2.0",
            "_view_name": "StyleView",
            "description_width": ""
          }
        },
        "d6cb0a14e7064e67ab344b11cebbcb4e": {
          "model_module": "@jupyter-widgets/controls",
          "model_name": "HBoxModel",
          "model_module_version": "1.5.0",
          "state": {
            "_dom_classes": [],
            "_model_module": "@jupyter-widgets/controls",
            "_model_module_version": "1.5.0",
            "_model_name": "HBoxModel",
            "_view_count": null,
            "_view_module": "@jupyter-widgets/controls",
            "_view_module_version": "1.5.0",
            "_view_name": "HBoxView",
            "box_style": "",
            "children": [
              "IPY_MODEL_7466f8b198ee49d289f443dc07e383a9",
              "IPY_MODEL_29e0ff2444de467eba7bc4ec18b9121b",
              "IPY_MODEL_e313eddc7f0a4d88acdf6e96ae427e6e"
            ],
            "layout": "IPY_MODEL_4a3507928c074491a9bb9309e974f617"
          }
        },
        "7466f8b198ee49d289f443dc07e383a9": {
          "model_module": "@jupyter-widgets/controls",
          "model_name": "HTMLModel",
          "model_module_version": "1.5.0",
          "state": {
            "_dom_classes": [],
            "_model_module": "@jupyter-widgets/controls",
            "_model_module_version": "1.5.0",
            "_model_name": "HTMLModel",
            "_view_count": null,
            "_view_module": "@jupyter-widgets/controls",
            "_view_module_version": "1.5.0",
            "_view_name": "HTMLView",
            "description": "",
            "description_tooltip": null,
            "layout": "IPY_MODEL_fe52d34869a346d59197cccb4959f207",
            "placeholder": "​",
            "style": "IPY_MODEL_b59301650f764c5a853198c9255e12cc",
            "value": "Downloading (…)lve/main/config.json: 100%"
          }
        },
        "29e0ff2444de467eba7bc4ec18b9121b": {
          "model_module": "@jupyter-widgets/controls",
          "model_name": "FloatProgressModel",
          "model_module_version": "1.5.0",
          "state": {
            "_dom_classes": [],
            "_model_module": "@jupyter-widgets/controls",
            "_model_module_version": "1.5.0",
            "_model_name": "FloatProgressModel",
            "_view_count": null,
            "_view_module": "@jupyter-widgets/controls",
            "_view_module_version": "1.5.0",
            "_view_name": "ProgressView",
            "bar_style": "success",
            "description": "",
            "description_tooltip": null,
            "layout": "IPY_MODEL_d47ce0d6be39464fa616cc2c5f365d61",
            "max": 570,
            "min": 0,
            "orientation": "horizontal",
            "style": "IPY_MODEL_953858c053fe497891f99fb2e7722fdd",
            "value": 570
          }
        },
        "e313eddc7f0a4d88acdf6e96ae427e6e": {
          "model_module": "@jupyter-widgets/controls",
          "model_name": "HTMLModel",
          "model_module_version": "1.5.0",
          "state": {
            "_dom_classes": [],
            "_model_module": "@jupyter-widgets/controls",
            "_model_module_version": "1.5.0",
            "_model_name": "HTMLModel",
            "_view_count": null,
            "_view_module": "@jupyter-widgets/controls",
            "_view_module_version": "1.5.0",
            "_view_name": "HTMLView",
            "description": "",
            "description_tooltip": null,
            "layout": "IPY_MODEL_d8bf58c550b44381a12bba6dadb3f187",
            "placeholder": "​",
            "style": "IPY_MODEL_6dc5eb7c2b10425d8a5268e57aa15101",
            "value": " 570/570 [00:00&lt;00:00, 22.7kB/s]"
          }
        },
        "4a3507928c074491a9bb9309e974f617": {
          "model_module": "@jupyter-widgets/base",
          "model_name": "LayoutModel",
          "model_module_version": "1.2.0",
          "state": {
            "_model_module": "@jupyter-widgets/base",
            "_model_module_version": "1.2.0",
            "_model_name": "LayoutModel",
            "_view_count": null,
            "_view_module": "@jupyter-widgets/base",
            "_view_module_version": "1.2.0",
            "_view_name": "LayoutView",
            "align_content": null,
            "align_items": null,
            "align_self": null,
            "border": null,
            "bottom": null,
            "display": null,
            "flex": null,
            "flex_flow": null,
            "grid_area": null,
            "grid_auto_columns": null,
            "grid_auto_flow": null,
            "grid_auto_rows": null,
            "grid_column": null,
            "grid_gap": null,
            "grid_row": null,
            "grid_template_areas": null,
            "grid_template_columns": null,
            "grid_template_rows": null,
            "height": null,
            "justify_content": null,
            "justify_items": null,
            "left": null,
            "margin": null,
            "max_height": null,
            "max_width": null,
            "min_height": null,
            "min_width": null,
            "object_fit": null,
            "object_position": null,
            "order": null,
            "overflow": null,
            "overflow_x": null,
            "overflow_y": null,
            "padding": null,
            "right": null,
            "top": null,
            "visibility": null,
            "width": null
          }
        },
        "fe52d34869a346d59197cccb4959f207": {
          "model_module": "@jupyter-widgets/base",
          "model_name": "LayoutModel",
          "model_module_version": "1.2.0",
          "state": {
            "_model_module": "@jupyter-widgets/base",
            "_model_module_version": "1.2.0",
            "_model_name": "LayoutModel",
            "_view_count": null,
            "_view_module": "@jupyter-widgets/base",
            "_view_module_version": "1.2.0",
            "_view_name": "LayoutView",
            "align_content": null,
            "align_items": null,
            "align_self": null,
            "border": null,
            "bottom": null,
            "display": null,
            "flex": null,
            "flex_flow": null,
            "grid_area": null,
            "grid_auto_columns": null,
            "grid_auto_flow": null,
            "grid_auto_rows": null,
            "grid_column": null,
            "grid_gap": null,
            "grid_row": null,
            "grid_template_areas": null,
            "grid_template_columns": null,
            "grid_template_rows": null,
            "height": null,
            "justify_content": null,
            "justify_items": null,
            "left": null,
            "margin": null,
            "max_height": null,
            "max_width": null,
            "min_height": null,
            "min_width": null,
            "object_fit": null,
            "object_position": null,
            "order": null,
            "overflow": null,
            "overflow_x": null,
            "overflow_y": null,
            "padding": null,
            "right": null,
            "top": null,
            "visibility": null,
            "width": null
          }
        },
        "b59301650f764c5a853198c9255e12cc": {
          "model_module": "@jupyter-widgets/controls",
          "model_name": "DescriptionStyleModel",
          "model_module_version": "1.5.0",
          "state": {
            "_model_module": "@jupyter-widgets/controls",
            "_model_module_version": "1.5.0",
            "_model_name": "DescriptionStyleModel",
            "_view_count": null,
            "_view_module": "@jupyter-widgets/base",
            "_view_module_version": "1.2.0",
            "_view_name": "StyleView",
            "description_width": ""
          }
        },
        "d47ce0d6be39464fa616cc2c5f365d61": {
          "model_module": "@jupyter-widgets/base",
          "model_name": "LayoutModel",
          "model_module_version": "1.2.0",
          "state": {
            "_model_module": "@jupyter-widgets/base",
            "_model_module_version": "1.2.0",
            "_model_name": "LayoutModel",
            "_view_count": null,
            "_view_module": "@jupyter-widgets/base",
            "_view_module_version": "1.2.0",
            "_view_name": "LayoutView",
            "align_content": null,
            "align_items": null,
            "align_self": null,
            "border": null,
            "bottom": null,
            "display": null,
            "flex": null,
            "flex_flow": null,
            "grid_area": null,
            "grid_auto_columns": null,
            "grid_auto_flow": null,
            "grid_auto_rows": null,
            "grid_column": null,
            "grid_gap": null,
            "grid_row": null,
            "grid_template_areas": null,
            "grid_template_columns": null,
            "grid_template_rows": null,
            "height": null,
            "justify_content": null,
            "justify_items": null,
            "left": null,
            "margin": null,
            "max_height": null,
            "max_width": null,
            "min_height": null,
            "min_width": null,
            "object_fit": null,
            "object_position": null,
            "order": null,
            "overflow": null,
            "overflow_x": null,
            "overflow_y": null,
            "padding": null,
            "right": null,
            "top": null,
            "visibility": null,
            "width": null
          }
        },
        "953858c053fe497891f99fb2e7722fdd": {
          "model_module": "@jupyter-widgets/controls",
          "model_name": "ProgressStyleModel",
          "model_module_version": "1.5.0",
          "state": {
            "_model_module": "@jupyter-widgets/controls",
            "_model_module_version": "1.5.0",
            "_model_name": "ProgressStyleModel",
            "_view_count": null,
            "_view_module": "@jupyter-widgets/base",
            "_view_module_version": "1.2.0",
            "_view_name": "StyleView",
            "bar_color": null,
            "description_width": ""
          }
        },
        "d8bf58c550b44381a12bba6dadb3f187": {
          "model_module": "@jupyter-widgets/base",
          "model_name": "LayoutModel",
          "model_module_version": "1.2.0",
          "state": {
            "_model_module": "@jupyter-widgets/base",
            "_model_module_version": "1.2.0",
            "_model_name": "LayoutModel",
            "_view_count": null,
            "_view_module": "@jupyter-widgets/base",
            "_view_module_version": "1.2.0",
            "_view_name": "LayoutView",
            "align_content": null,
            "align_items": null,
            "align_self": null,
            "border": null,
            "bottom": null,
            "display": null,
            "flex": null,
            "flex_flow": null,
            "grid_area": null,
            "grid_auto_columns": null,
            "grid_auto_flow": null,
            "grid_auto_rows": null,
            "grid_column": null,
            "grid_gap": null,
            "grid_row": null,
            "grid_template_areas": null,
            "grid_template_columns": null,
            "grid_template_rows": null,
            "height": null,
            "justify_content": null,
            "justify_items": null,
            "left": null,
            "margin": null,
            "max_height": null,
            "max_width": null,
            "min_height": null,
            "min_width": null,
            "object_fit": null,
            "object_position": null,
            "order": null,
            "overflow": null,
            "overflow_x": null,
            "overflow_y": null,
            "padding": null,
            "right": null,
            "top": null,
            "visibility": null,
            "width": null
          }
        },
        "6dc5eb7c2b10425d8a5268e57aa15101": {
          "model_module": "@jupyter-widgets/controls",
          "model_name": "DescriptionStyleModel",
          "model_module_version": "1.5.0",
          "state": {
            "_model_module": "@jupyter-widgets/controls",
            "_model_module_version": "1.5.0",
            "_model_name": "DescriptionStyleModel",
            "_view_count": null,
            "_view_module": "@jupyter-widgets/base",
            "_view_module_version": "1.2.0",
            "_view_name": "StyleView",
            "description_width": ""
          }
        },
        "f4a11cc9abca4ce8ad7d2abb2142d92a": {
          "model_module": "@jupyter-widgets/controls",
          "model_name": "HBoxModel",
          "model_module_version": "1.5.0",
          "state": {
            "_dom_classes": [],
            "_model_module": "@jupyter-widgets/controls",
            "_model_module_version": "1.5.0",
            "_model_name": "HBoxModel",
            "_view_count": null,
            "_view_module": "@jupyter-widgets/controls",
            "_view_module_version": "1.5.0",
            "_view_name": "HBoxView",
            "box_style": "",
            "children": [
              "IPY_MODEL_07a1423a292a4d049da20e1e812b535b",
              "IPY_MODEL_c6a2b34dde964469949eda2c8f3387e1",
              "IPY_MODEL_d8eb3081a98947ada5d07af814e06003"
            ],
            "layout": "IPY_MODEL_8484e8145e564c639609e8c76148aa40"
          }
        },
        "07a1423a292a4d049da20e1e812b535b": {
          "model_module": "@jupyter-widgets/controls",
          "model_name": "HTMLModel",
          "model_module_version": "1.5.0",
          "state": {
            "_dom_classes": [],
            "_model_module": "@jupyter-widgets/controls",
            "_model_module_version": "1.5.0",
            "_model_name": "HTMLModel",
            "_view_count": null,
            "_view_module": "@jupyter-widgets/controls",
            "_view_module_version": "1.5.0",
            "_view_name": "HTMLView",
            "description": "",
            "description_tooltip": null,
            "layout": "IPY_MODEL_dcb725099d1f4bd6a940633d71d80fa3",
            "placeholder": "​",
            "style": "IPY_MODEL_cc4e7e72ecf34b108940cd22fb12d974",
            "value": "Downloading (…)lve/main/config.json: 100%"
          }
        },
        "c6a2b34dde964469949eda2c8f3387e1": {
          "model_module": "@jupyter-widgets/controls",
          "model_name": "FloatProgressModel",
          "model_module_version": "1.5.0",
          "state": {
            "_dom_classes": [],
            "_model_module": "@jupyter-widgets/controls",
            "_model_module_version": "1.5.0",
            "_model_name": "FloatProgressModel",
            "_view_count": null,
            "_view_module": "@jupyter-widgets/controls",
            "_view_module_version": "1.5.0",
            "_view_name": "ProgressView",
            "bar_style": "success",
            "description": "",
            "description_tooltip": null,
            "layout": "IPY_MODEL_8e9c859dba484c5bb8df2848e51c3294",
            "max": 631,
            "min": 0,
            "orientation": "horizontal",
            "style": "IPY_MODEL_2b0524e0255a44828e1c54f3dec97967",
            "value": 631
          }
        },
        "d8eb3081a98947ada5d07af814e06003": {
          "model_module": "@jupyter-widgets/controls",
          "model_name": "HTMLModel",
          "model_module_version": "1.5.0",
          "state": {
            "_dom_classes": [],
            "_model_module": "@jupyter-widgets/controls",
            "_model_module_version": "1.5.0",
            "_model_name": "HTMLModel",
            "_view_count": null,
            "_view_module": "@jupyter-widgets/controls",
            "_view_module_version": "1.5.0",
            "_view_name": "HTMLView",
            "description": "",
            "description_tooltip": null,
            "layout": "IPY_MODEL_b777d0bc6c2344e19b97a8f0edf7600c",
            "placeholder": "​",
            "style": "IPY_MODEL_8e5d126326c94f7ca57cc7550810c34c",
            "value": " 631/631 [00:00&lt;00:00, 23.4kB/s]"
          }
        },
        "8484e8145e564c639609e8c76148aa40": {
          "model_module": "@jupyter-widgets/base",
          "model_name": "LayoutModel",
          "model_module_version": "1.2.0",
          "state": {
            "_model_module": "@jupyter-widgets/base",
            "_model_module_version": "1.2.0",
            "_model_name": "LayoutModel",
            "_view_count": null,
            "_view_module": "@jupyter-widgets/base",
            "_view_module_version": "1.2.0",
            "_view_name": "LayoutView",
            "align_content": null,
            "align_items": null,
            "align_self": null,
            "border": null,
            "bottom": null,
            "display": null,
            "flex": null,
            "flex_flow": null,
            "grid_area": null,
            "grid_auto_columns": null,
            "grid_auto_flow": null,
            "grid_auto_rows": null,
            "grid_column": null,
            "grid_gap": null,
            "grid_row": null,
            "grid_template_areas": null,
            "grid_template_columns": null,
            "grid_template_rows": null,
            "height": null,
            "justify_content": null,
            "justify_items": null,
            "left": null,
            "margin": null,
            "max_height": null,
            "max_width": null,
            "min_height": null,
            "min_width": null,
            "object_fit": null,
            "object_position": null,
            "order": null,
            "overflow": null,
            "overflow_x": null,
            "overflow_y": null,
            "padding": null,
            "right": null,
            "top": null,
            "visibility": null,
            "width": null
          }
        },
        "dcb725099d1f4bd6a940633d71d80fa3": {
          "model_module": "@jupyter-widgets/base",
          "model_name": "LayoutModel",
          "model_module_version": "1.2.0",
          "state": {
            "_model_module": "@jupyter-widgets/base",
            "_model_module_version": "1.2.0",
            "_model_name": "LayoutModel",
            "_view_count": null,
            "_view_module": "@jupyter-widgets/base",
            "_view_module_version": "1.2.0",
            "_view_name": "LayoutView",
            "align_content": null,
            "align_items": null,
            "align_self": null,
            "border": null,
            "bottom": null,
            "display": null,
            "flex": null,
            "flex_flow": null,
            "grid_area": null,
            "grid_auto_columns": null,
            "grid_auto_flow": null,
            "grid_auto_rows": null,
            "grid_column": null,
            "grid_gap": null,
            "grid_row": null,
            "grid_template_areas": null,
            "grid_template_columns": null,
            "grid_template_rows": null,
            "height": null,
            "justify_content": null,
            "justify_items": null,
            "left": null,
            "margin": null,
            "max_height": null,
            "max_width": null,
            "min_height": null,
            "min_width": null,
            "object_fit": null,
            "object_position": null,
            "order": null,
            "overflow": null,
            "overflow_x": null,
            "overflow_y": null,
            "padding": null,
            "right": null,
            "top": null,
            "visibility": null,
            "width": null
          }
        },
        "cc4e7e72ecf34b108940cd22fb12d974": {
          "model_module": "@jupyter-widgets/controls",
          "model_name": "DescriptionStyleModel",
          "model_module_version": "1.5.0",
          "state": {
            "_model_module": "@jupyter-widgets/controls",
            "_model_module_version": "1.5.0",
            "_model_name": "DescriptionStyleModel",
            "_view_count": null,
            "_view_module": "@jupyter-widgets/base",
            "_view_module_version": "1.2.0",
            "_view_name": "StyleView",
            "description_width": ""
          }
        },
        "8e9c859dba484c5bb8df2848e51c3294": {
          "model_module": "@jupyter-widgets/base",
          "model_name": "LayoutModel",
          "model_module_version": "1.2.0",
          "state": {
            "_model_module": "@jupyter-widgets/base",
            "_model_module_version": "1.2.0",
            "_model_name": "LayoutModel",
            "_view_count": null,
            "_view_module": "@jupyter-widgets/base",
            "_view_module_version": "1.2.0",
            "_view_name": "LayoutView",
            "align_content": null,
            "align_items": null,
            "align_self": null,
            "border": null,
            "bottom": null,
            "display": null,
            "flex": null,
            "flex_flow": null,
            "grid_area": null,
            "grid_auto_columns": null,
            "grid_auto_flow": null,
            "grid_auto_rows": null,
            "grid_column": null,
            "grid_gap": null,
            "grid_row": null,
            "grid_template_areas": null,
            "grid_template_columns": null,
            "grid_template_rows": null,
            "height": null,
            "justify_content": null,
            "justify_items": null,
            "left": null,
            "margin": null,
            "max_height": null,
            "max_width": null,
            "min_height": null,
            "min_width": null,
            "object_fit": null,
            "object_position": null,
            "order": null,
            "overflow": null,
            "overflow_x": null,
            "overflow_y": null,
            "padding": null,
            "right": null,
            "top": null,
            "visibility": null,
            "width": null
          }
        },
        "2b0524e0255a44828e1c54f3dec97967": {
          "model_module": "@jupyter-widgets/controls",
          "model_name": "ProgressStyleModel",
          "model_module_version": "1.5.0",
          "state": {
            "_model_module": "@jupyter-widgets/controls",
            "_model_module_version": "1.5.0",
            "_model_name": "ProgressStyleModel",
            "_view_count": null,
            "_view_module": "@jupyter-widgets/base",
            "_view_module_version": "1.2.0",
            "_view_name": "StyleView",
            "bar_color": null,
            "description_width": ""
          }
        },
        "b777d0bc6c2344e19b97a8f0edf7600c": {
          "model_module": "@jupyter-widgets/base",
          "model_name": "LayoutModel",
          "model_module_version": "1.2.0",
          "state": {
            "_model_module": "@jupyter-widgets/base",
            "_model_module_version": "1.2.0",
            "_model_name": "LayoutModel",
            "_view_count": null,
            "_view_module": "@jupyter-widgets/base",
            "_view_module_version": "1.2.0",
            "_view_name": "LayoutView",
            "align_content": null,
            "align_items": null,
            "align_self": null,
            "border": null,
            "bottom": null,
            "display": null,
            "flex": null,
            "flex_flow": null,
            "grid_area": null,
            "grid_auto_columns": null,
            "grid_auto_flow": null,
            "grid_auto_rows": null,
            "grid_column": null,
            "grid_gap": null,
            "grid_row": null,
            "grid_template_areas": null,
            "grid_template_columns": null,
            "grid_template_rows": null,
            "height": null,
            "justify_content": null,
            "justify_items": null,
            "left": null,
            "margin": null,
            "max_height": null,
            "max_width": null,
            "min_height": null,
            "min_width": null,
            "object_fit": null,
            "object_position": null,
            "order": null,
            "overflow": null,
            "overflow_x": null,
            "overflow_y": null,
            "padding": null,
            "right": null,
            "top": null,
            "visibility": null,
            "width": null
          }
        },
        "8e5d126326c94f7ca57cc7550810c34c": {
          "model_module": "@jupyter-widgets/controls",
          "model_name": "DescriptionStyleModel",
          "model_module_version": "1.5.0",
          "state": {
            "_model_module": "@jupyter-widgets/controls",
            "_model_module_version": "1.5.0",
            "_model_name": "DescriptionStyleModel",
            "_view_count": null,
            "_view_module": "@jupyter-widgets/base",
            "_view_module_version": "1.2.0",
            "_view_name": "StyleView",
            "description_width": ""
          }
        },
        "70f2b2d9b863469da0c31851eab54024": {
          "model_module": "@jupyter-widgets/controls",
          "model_name": "HBoxModel",
          "model_module_version": "1.5.0",
          "state": {
            "_dom_classes": [],
            "_model_module": "@jupyter-widgets/controls",
            "_model_module_version": "1.5.0",
            "_model_name": "HBoxModel",
            "_view_count": null,
            "_view_module": "@jupyter-widgets/controls",
            "_view_module_version": "1.5.0",
            "_view_name": "HBoxView",
            "box_style": "",
            "children": [
              "IPY_MODEL_d3406430783b4ca98ce0cd63ce0b5659",
              "IPY_MODEL_087c9b511663442dba72f97963999a6d",
              "IPY_MODEL_2a57f193812a4ca7a445f9580d8a9146"
            ],
            "layout": "IPY_MODEL_ee6d533322264f6da4117c54054f8f05"
          }
        },
        "d3406430783b4ca98ce0cd63ce0b5659": {
          "model_module": "@jupyter-widgets/controls",
          "model_name": "HTMLModel",
          "model_module_version": "1.5.0",
          "state": {
            "_dom_classes": [],
            "_model_module": "@jupyter-widgets/controls",
            "_model_module_version": "1.5.0",
            "_model_name": "HTMLModel",
            "_view_count": null,
            "_view_module": "@jupyter-widgets/controls",
            "_view_module_version": "1.5.0",
            "_view_name": "HTMLView",
            "description": "",
            "description_tooltip": null,
            "layout": "IPY_MODEL_8b191c3191a8437aa932c17e7b30b941",
            "placeholder": "​",
            "style": "IPY_MODEL_4c30de07c0e94e01981c9f464e14d3be",
            "value": "Downloading pytorch_model.bin: 100%"
          }
        },
        "087c9b511663442dba72f97963999a6d": {
          "model_module": "@jupyter-widgets/controls",
          "model_name": "FloatProgressModel",
          "model_module_version": "1.5.0",
          "state": {
            "_dom_classes": [],
            "_model_module": "@jupyter-widgets/controls",
            "_model_module_version": "1.5.0",
            "_model_name": "FloatProgressModel",
            "_view_count": null,
            "_view_module": "@jupyter-widgets/controls",
            "_view_module_version": "1.5.0",
            "_view_name": "ProgressView",
            "bar_style": "success",
            "description": "",
            "description_tooltip": null,
            "layout": "IPY_MODEL_5929c345ff3a4b05bf5352de20fafdfa",
            "max": 445210461,
            "min": 0,
            "orientation": "horizontal",
            "style": "IPY_MODEL_732349335d4445f181cf339f8aa8332e",
            "value": 445210461
          }
        },
        "2a57f193812a4ca7a445f9580d8a9146": {
          "model_module": "@jupyter-widgets/controls",
          "model_name": "HTMLModel",
          "model_module_version": "1.5.0",
          "state": {
            "_dom_classes": [],
            "_model_module": "@jupyter-widgets/controls",
            "_model_module_version": "1.5.0",
            "_model_name": "HTMLModel",
            "_view_count": null,
            "_view_module": "@jupyter-widgets/controls",
            "_view_module_version": "1.5.0",
            "_view_name": "HTMLView",
            "description": "",
            "description_tooltip": null,
            "layout": "IPY_MODEL_f12dd7eefb0245c4bde411a099346246",
            "placeholder": "​",
            "style": "IPY_MODEL_fc71eeaa9ef34f55af440a721088e735",
            "value": " 445M/445M [00:13&lt;00:00, 38.1MB/s]"
          }
        },
        "ee6d533322264f6da4117c54054f8f05": {
          "model_module": "@jupyter-widgets/base",
          "model_name": "LayoutModel",
          "model_module_version": "1.2.0",
          "state": {
            "_model_module": "@jupyter-widgets/base",
            "_model_module_version": "1.2.0",
            "_model_name": "LayoutModel",
            "_view_count": null,
            "_view_module": "@jupyter-widgets/base",
            "_view_module_version": "1.2.0",
            "_view_name": "LayoutView",
            "align_content": null,
            "align_items": null,
            "align_self": null,
            "border": null,
            "bottom": null,
            "display": null,
            "flex": null,
            "flex_flow": null,
            "grid_area": null,
            "grid_auto_columns": null,
            "grid_auto_flow": null,
            "grid_auto_rows": null,
            "grid_column": null,
            "grid_gap": null,
            "grid_row": null,
            "grid_template_areas": null,
            "grid_template_columns": null,
            "grid_template_rows": null,
            "height": null,
            "justify_content": null,
            "justify_items": null,
            "left": null,
            "margin": null,
            "max_height": null,
            "max_width": null,
            "min_height": null,
            "min_width": null,
            "object_fit": null,
            "object_position": null,
            "order": null,
            "overflow": null,
            "overflow_x": null,
            "overflow_y": null,
            "padding": null,
            "right": null,
            "top": null,
            "visibility": null,
            "width": null
          }
        },
        "8b191c3191a8437aa932c17e7b30b941": {
          "model_module": "@jupyter-widgets/base",
          "model_name": "LayoutModel",
          "model_module_version": "1.2.0",
          "state": {
            "_model_module": "@jupyter-widgets/base",
            "_model_module_version": "1.2.0",
            "_model_name": "LayoutModel",
            "_view_count": null,
            "_view_module": "@jupyter-widgets/base",
            "_view_module_version": "1.2.0",
            "_view_name": "LayoutView",
            "align_content": null,
            "align_items": null,
            "align_self": null,
            "border": null,
            "bottom": null,
            "display": null,
            "flex": null,
            "flex_flow": null,
            "grid_area": null,
            "grid_auto_columns": null,
            "grid_auto_flow": null,
            "grid_auto_rows": null,
            "grid_column": null,
            "grid_gap": null,
            "grid_row": null,
            "grid_template_areas": null,
            "grid_template_columns": null,
            "grid_template_rows": null,
            "height": null,
            "justify_content": null,
            "justify_items": null,
            "left": null,
            "margin": null,
            "max_height": null,
            "max_width": null,
            "min_height": null,
            "min_width": null,
            "object_fit": null,
            "object_position": null,
            "order": null,
            "overflow": null,
            "overflow_x": null,
            "overflow_y": null,
            "padding": null,
            "right": null,
            "top": null,
            "visibility": null,
            "width": null
          }
        },
        "4c30de07c0e94e01981c9f464e14d3be": {
          "model_module": "@jupyter-widgets/controls",
          "model_name": "DescriptionStyleModel",
          "model_module_version": "1.5.0",
          "state": {
            "_model_module": "@jupyter-widgets/controls",
            "_model_module_version": "1.5.0",
            "_model_name": "DescriptionStyleModel",
            "_view_count": null,
            "_view_module": "@jupyter-widgets/base",
            "_view_module_version": "1.2.0",
            "_view_name": "StyleView",
            "description_width": ""
          }
        },
        "5929c345ff3a4b05bf5352de20fafdfa": {
          "model_module": "@jupyter-widgets/base",
          "model_name": "LayoutModel",
          "model_module_version": "1.2.0",
          "state": {
            "_model_module": "@jupyter-widgets/base",
            "_model_module_version": "1.2.0",
            "_model_name": "LayoutModel",
            "_view_count": null,
            "_view_module": "@jupyter-widgets/base",
            "_view_module_version": "1.2.0",
            "_view_name": "LayoutView",
            "align_content": null,
            "align_items": null,
            "align_self": null,
            "border": null,
            "bottom": null,
            "display": null,
            "flex": null,
            "flex_flow": null,
            "grid_area": null,
            "grid_auto_columns": null,
            "grid_auto_flow": null,
            "grid_auto_rows": null,
            "grid_column": null,
            "grid_gap": null,
            "grid_row": null,
            "grid_template_areas": null,
            "grid_template_columns": null,
            "grid_template_rows": null,
            "height": null,
            "justify_content": null,
            "justify_items": null,
            "left": null,
            "margin": null,
            "max_height": null,
            "max_width": null,
            "min_height": null,
            "min_width": null,
            "object_fit": null,
            "object_position": null,
            "order": null,
            "overflow": null,
            "overflow_x": null,
            "overflow_y": null,
            "padding": null,
            "right": null,
            "top": null,
            "visibility": null,
            "width": null
          }
        },
        "732349335d4445f181cf339f8aa8332e": {
          "model_module": "@jupyter-widgets/controls",
          "model_name": "ProgressStyleModel",
          "model_module_version": "1.5.0",
          "state": {
            "_model_module": "@jupyter-widgets/controls",
            "_model_module_version": "1.5.0",
            "_model_name": "ProgressStyleModel",
            "_view_count": null,
            "_view_module": "@jupyter-widgets/base",
            "_view_module_version": "1.2.0",
            "_view_name": "StyleView",
            "bar_color": null,
            "description_width": ""
          }
        },
        "f12dd7eefb0245c4bde411a099346246": {
          "model_module": "@jupyter-widgets/base",
          "model_name": "LayoutModel",
          "model_module_version": "1.2.0",
          "state": {
            "_model_module": "@jupyter-widgets/base",
            "_model_module_version": "1.2.0",
            "_model_name": "LayoutModel",
            "_view_count": null,
            "_view_module": "@jupyter-widgets/base",
            "_view_module_version": "1.2.0",
            "_view_name": "LayoutView",
            "align_content": null,
            "align_items": null,
            "align_self": null,
            "border": null,
            "bottom": null,
            "display": null,
            "flex": null,
            "flex_flow": null,
            "grid_area": null,
            "grid_auto_columns": null,
            "grid_auto_flow": null,
            "grid_auto_rows": null,
            "grid_column": null,
            "grid_gap": null,
            "grid_row": null,
            "grid_template_areas": null,
            "grid_template_columns": null,
            "grid_template_rows": null,
            "height": null,
            "justify_content": null,
            "justify_items": null,
            "left": null,
            "margin": null,
            "max_height": null,
            "max_width": null,
            "min_height": null,
            "min_width": null,
            "object_fit": null,
            "object_position": null,
            "order": null,
            "overflow": null,
            "overflow_x": null,
            "overflow_y": null,
            "padding": null,
            "right": null,
            "top": null,
            "visibility": null,
            "width": null
          }
        },
        "fc71eeaa9ef34f55af440a721088e735": {
          "model_module": "@jupyter-widgets/controls",
          "model_name": "DescriptionStyleModel",
          "model_module_version": "1.5.0",
          "state": {
            "_model_module": "@jupyter-widgets/controls",
            "_model_module_version": "1.5.0",
            "_model_name": "DescriptionStyleModel",
            "_view_count": null,
            "_view_module": "@jupyter-widgets/base",
            "_view_module_version": "1.2.0",
            "_view_name": "StyleView",
            "description_width": ""
          }
        }
      }
    }
  },
  "cells": [
    {
      "cell_type": "markdown",
      "metadata": {
        "id": "view-in-github",
        "colab_type": "text"
      },
      "source": [
        "<a href=\"https://colab.research.google.com/github/sanjanagarai/InterIIT_Team1_Task2/blob/main/VisualBERT.ipynb\" target=\"_parent\"><img src=\"https://colab.research.google.com/assets/colab-badge.svg\" alt=\"Open In Colab\"/></a>"
      ]
    },
    {
      "cell_type": "markdown",
      "source": [
        "## Importing modules\n"
      ],
      "metadata": {
        "id": "1SgDS0ok1u1a"
      }
    },
    {
      "cell_type": "code",
      "execution_count": null,
      "metadata": {
        "id": "iRPZ4HU_eiQn"
      },
      "outputs": [],
      "source": [
        "import pandas as pd\n",
        "\n",
        "import torch\n",
        "from torchvision.models.detection import fasterrcnn_resnet50_fpn\n",
        "from torchvision.transforms import functional as F\n",
        "from PIL import Image\n",
        "from tqdm import tqdm\n",
        "from pathlib import Path\n",
        "import torch\n",
        "from torchvision import transforms as T\n",
        "import torch.nn as nn\n",
        "\n",
        "from transformers import BertTokenizer\n",
        "from transformers import BertTokenizer, VisualBertForPreTraining"
      ]
    },
    {
      "cell_type": "markdown",
      "source": [
        "## IMAGE FEATURE EXTRACTION"
      ],
      "metadata": {
        "id": "FLx6R4101ypA"
      }
    },
    {
      "cell_type": "markdown",
      "source": [
        "Loading the fasterrcnn_resnet model\n"
      ],
      "metadata": {
        "id": "YJZsoNZc1188"
      }
    },
    {
      "cell_type": "code",
      "source": [
        "# Load pre-trained Faster R-CNN model with ResNet-50 backbone\n",
        "model = fasterrcnn_resnet50_fpn(pretrained=True)\n",
        "model.eval()"
      ],
      "metadata": {
        "colab": {
          "base_uri": "https://localhost:8080/"
        },
        "id": "-e0RHAFlevbu",
        "outputId": "0a0c1ee9-70a9-4528-fa60-6c1fe051f11a"
      },
      "execution_count": null,
      "outputs": [
        {
          "output_type": "stream",
          "name": "stderr",
          "text": [
            "/usr/local/lib/python3.10/dist-packages/torchvision/models/_utils.py:208: UserWarning: The parameter 'pretrained' is deprecated since 0.13 and may be removed in the future, please use 'weights' instead.\n",
            "  warnings.warn(\n",
            "/usr/local/lib/python3.10/dist-packages/torchvision/models/_utils.py:223: UserWarning: Arguments other than a weight enum or `None` for 'weights' are deprecated since 0.13 and may be removed in the future. The current behavior is equivalent to passing `weights=FasterRCNN_ResNet50_FPN_Weights.COCO_V1`. You can also use `weights=FasterRCNN_ResNet50_FPN_Weights.DEFAULT` to get the most up-to-date weights.\n",
            "  warnings.warn(msg)\n",
            "Downloading: \"https://download.pytorch.org/models/fasterrcnn_resnet50_fpn_coco-258fb6c6.pth\" to /root/.cache/torch/hub/checkpoints/fasterrcnn_resnet50_fpn_coco-258fb6c6.pth\n",
            "100%|██████████| 160M/160M [00:00<00:00, 227MB/s]\n"
          ]
        },
        {
          "output_type": "execute_result",
          "data": {
            "text/plain": [
              "FasterRCNN(\n",
              "  (transform): GeneralizedRCNNTransform(\n",
              "      Normalize(mean=[0.485, 0.456, 0.406], std=[0.229, 0.224, 0.225])\n",
              "      Resize(min_size=(800,), max_size=1333, mode='bilinear')\n",
              "  )\n",
              "  (backbone): BackboneWithFPN(\n",
              "    (body): IntermediateLayerGetter(\n",
              "      (conv1): Conv2d(3, 64, kernel_size=(7, 7), stride=(2, 2), padding=(3, 3), bias=False)\n",
              "      (bn1): FrozenBatchNorm2d(64, eps=0.0)\n",
              "      (relu): ReLU(inplace=True)\n",
              "      (maxpool): MaxPool2d(kernel_size=3, stride=2, padding=1, dilation=1, ceil_mode=False)\n",
              "      (layer1): Sequential(\n",
              "        (0): Bottleneck(\n",
              "          (conv1): Conv2d(64, 64, kernel_size=(1, 1), stride=(1, 1), bias=False)\n",
              "          (bn1): FrozenBatchNorm2d(64, eps=0.0)\n",
              "          (conv2): Conv2d(64, 64, kernel_size=(3, 3), stride=(1, 1), padding=(1, 1), bias=False)\n",
              "          (bn2): FrozenBatchNorm2d(64, eps=0.0)\n",
              "          (conv3): Conv2d(64, 256, kernel_size=(1, 1), stride=(1, 1), bias=False)\n",
              "          (bn3): FrozenBatchNorm2d(256, eps=0.0)\n",
              "          (relu): ReLU(inplace=True)\n",
              "          (downsample): Sequential(\n",
              "            (0): Conv2d(64, 256, kernel_size=(1, 1), stride=(1, 1), bias=False)\n",
              "            (1): FrozenBatchNorm2d(256, eps=0.0)\n",
              "          )\n",
              "        )\n",
              "        (1): Bottleneck(\n",
              "          (conv1): Conv2d(256, 64, kernel_size=(1, 1), stride=(1, 1), bias=False)\n",
              "          (bn1): FrozenBatchNorm2d(64, eps=0.0)\n",
              "          (conv2): Conv2d(64, 64, kernel_size=(3, 3), stride=(1, 1), padding=(1, 1), bias=False)\n",
              "          (bn2): FrozenBatchNorm2d(64, eps=0.0)\n",
              "          (conv3): Conv2d(64, 256, kernel_size=(1, 1), stride=(1, 1), bias=False)\n",
              "          (bn3): FrozenBatchNorm2d(256, eps=0.0)\n",
              "          (relu): ReLU(inplace=True)\n",
              "        )\n",
              "        (2): Bottleneck(\n",
              "          (conv1): Conv2d(256, 64, kernel_size=(1, 1), stride=(1, 1), bias=False)\n",
              "          (bn1): FrozenBatchNorm2d(64, eps=0.0)\n",
              "          (conv2): Conv2d(64, 64, kernel_size=(3, 3), stride=(1, 1), padding=(1, 1), bias=False)\n",
              "          (bn2): FrozenBatchNorm2d(64, eps=0.0)\n",
              "          (conv3): Conv2d(64, 256, kernel_size=(1, 1), stride=(1, 1), bias=False)\n",
              "          (bn3): FrozenBatchNorm2d(256, eps=0.0)\n",
              "          (relu): ReLU(inplace=True)\n",
              "        )\n",
              "      )\n",
              "      (layer2): Sequential(\n",
              "        (0): Bottleneck(\n",
              "          (conv1): Conv2d(256, 128, kernel_size=(1, 1), stride=(1, 1), bias=False)\n",
              "          (bn1): FrozenBatchNorm2d(128, eps=0.0)\n",
              "          (conv2): Conv2d(128, 128, kernel_size=(3, 3), stride=(2, 2), padding=(1, 1), bias=False)\n",
              "          (bn2): FrozenBatchNorm2d(128, eps=0.0)\n",
              "          (conv3): Conv2d(128, 512, kernel_size=(1, 1), stride=(1, 1), bias=False)\n",
              "          (bn3): FrozenBatchNorm2d(512, eps=0.0)\n",
              "          (relu): ReLU(inplace=True)\n",
              "          (downsample): Sequential(\n",
              "            (0): Conv2d(256, 512, kernel_size=(1, 1), stride=(2, 2), bias=False)\n",
              "            (1): FrozenBatchNorm2d(512, eps=0.0)\n",
              "          )\n",
              "        )\n",
              "        (1): Bottleneck(\n",
              "          (conv1): Conv2d(512, 128, kernel_size=(1, 1), stride=(1, 1), bias=False)\n",
              "          (bn1): FrozenBatchNorm2d(128, eps=0.0)\n",
              "          (conv2): Conv2d(128, 128, kernel_size=(3, 3), stride=(1, 1), padding=(1, 1), bias=False)\n",
              "          (bn2): FrozenBatchNorm2d(128, eps=0.0)\n",
              "          (conv3): Conv2d(128, 512, kernel_size=(1, 1), stride=(1, 1), bias=False)\n",
              "          (bn3): FrozenBatchNorm2d(512, eps=0.0)\n",
              "          (relu): ReLU(inplace=True)\n",
              "        )\n",
              "        (2): Bottleneck(\n",
              "          (conv1): Conv2d(512, 128, kernel_size=(1, 1), stride=(1, 1), bias=False)\n",
              "          (bn1): FrozenBatchNorm2d(128, eps=0.0)\n",
              "          (conv2): Conv2d(128, 128, kernel_size=(3, 3), stride=(1, 1), padding=(1, 1), bias=False)\n",
              "          (bn2): FrozenBatchNorm2d(128, eps=0.0)\n",
              "          (conv3): Conv2d(128, 512, kernel_size=(1, 1), stride=(1, 1), bias=False)\n",
              "          (bn3): FrozenBatchNorm2d(512, eps=0.0)\n",
              "          (relu): ReLU(inplace=True)\n",
              "        )\n",
              "        (3): Bottleneck(\n",
              "          (conv1): Conv2d(512, 128, kernel_size=(1, 1), stride=(1, 1), bias=False)\n",
              "          (bn1): FrozenBatchNorm2d(128, eps=0.0)\n",
              "          (conv2): Conv2d(128, 128, kernel_size=(3, 3), stride=(1, 1), padding=(1, 1), bias=False)\n",
              "          (bn2): FrozenBatchNorm2d(128, eps=0.0)\n",
              "          (conv3): Conv2d(128, 512, kernel_size=(1, 1), stride=(1, 1), bias=False)\n",
              "          (bn3): FrozenBatchNorm2d(512, eps=0.0)\n",
              "          (relu): ReLU(inplace=True)\n",
              "        )\n",
              "      )\n",
              "      (layer3): Sequential(\n",
              "        (0): Bottleneck(\n",
              "          (conv1): Conv2d(512, 256, kernel_size=(1, 1), stride=(1, 1), bias=False)\n",
              "          (bn1): FrozenBatchNorm2d(256, eps=0.0)\n",
              "          (conv2): Conv2d(256, 256, kernel_size=(3, 3), stride=(2, 2), padding=(1, 1), bias=False)\n",
              "          (bn2): FrozenBatchNorm2d(256, eps=0.0)\n",
              "          (conv3): Conv2d(256, 1024, kernel_size=(1, 1), stride=(1, 1), bias=False)\n",
              "          (bn3): FrozenBatchNorm2d(1024, eps=0.0)\n",
              "          (relu): ReLU(inplace=True)\n",
              "          (downsample): Sequential(\n",
              "            (0): Conv2d(512, 1024, kernel_size=(1, 1), stride=(2, 2), bias=False)\n",
              "            (1): FrozenBatchNorm2d(1024, eps=0.0)\n",
              "          )\n",
              "        )\n",
              "        (1): Bottleneck(\n",
              "          (conv1): Conv2d(1024, 256, kernel_size=(1, 1), stride=(1, 1), bias=False)\n",
              "          (bn1): FrozenBatchNorm2d(256, eps=0.0)\n",
              "          (conv2): Conv2d(256, 256, kernel_size=(3, 3), stride=(1, 1), padding=(1, 1), bias=False)\n",
              "          (bn2): FrozenBatchNorm2d(256, eps=0.0)\n",
              "          (conv3): Conv2d(256, 1024, kernel_size=(1, 1), stride=(1, 1), bias=False)\n",
              "          (bn3): FrozenBatchNorm2d(1024, eps=0.0)\n",
              "          (relu): ReLU(inplace=True)\n",
              "        )\n",
              "        (2): Bottleneck(\n",
              "          (conv1): Conv2d(1024, 256, kernel_size=(1, 1), stride=(1, 1), bias=False)\n",
              "          (bn1): FrozenBatchNorm2d(256, eps=0.0)\n",
              "          (conv2): Conv2d(256, 256, kernel_size=(3, 3), stride=(1, 1), padding=(1, 1), bias=False)\n",
              "          (bn2): FrozenBatchNorm2d(256, eps=0.0)\n",
              "          (conv3): Conv2d(256, 1024, kernel_size=(1, 1), stride=(1, 1), bias=False)\n",
              "          (bn3): FrozenBatchNorm2d(1024, eps=0.0)\n",
              "          (relu): ReLU(inplace=True)\n",
              "        )\n",
              "        (3): Bottleneck(\n",
              "          (conv1): Conv2d(1024, 256, kernel_size=(1, 1), stride=(1, 1), bias=False)\n",
              "          (bn1): FrozenBatchNorm2d(256, eps=0.0)\n",
              "          (conv2): Conv2d(256, 256, kernel_size=(3, 3), stride=(1, 1), padding=(1, 1), bias=False)\n",
              "          (bn2): FrozenBatchNorm2d(256, eps=0.0)\n",
              "          (conv3): Conv2d(256, 1024, kernel_size=(1, 1), stride=(1, 1), bias=False)\n",
              "          (bn3): FrozenBatchNorm2d(1024, eps=0.0)\n",
              "          (relu): ReLU(inplace=True)\n",
              "        )\n",
              "        (4): Bottleneck(\n",
              "          (conv1): Conv2d(1024, 256, kernel_size=(1, 1), stride=(1, 1), bias=False)\n",
              "          (bn1): FrozenBatchNorm2d(256, eps=0.0)\n",
              "          (conv2): Conv2d(256, 256, kernel_size=(3, 3), stride=(1, 1), padding=(1, 1), bias=False)\n",
              "          (bn2): FrozenBatchNorm2d(256, eps=0.0)\n",
              "          (conv3): Conv2d(256, 1024, kernel_size=(1, 1), stride=(1, 1), bias=False)\n",
              "          (bn3): FrozenBatchNorm2d(1024, eps=0.0)\n",
              "          (relu): ReLU(inplace=True)\n",
              "        )\n",
              "        (5): Bottleneck(\n",
              "          (conv1): Conv2d(1024, 256, kernel_size=(1, 1), stride=(1, 1), bias=False)\n",
              "          (bn1): FrozenBatchNorm2d(256, eps=0.0)\n",
              "          (conv2): Conv2d(256, 256, kernel_size=(3, 3), stride=(1, 1), padding=(1, 1), bias=False)\n",
              "          (bn2): FrozenBatchNorm2d(256, eps=0.0)\n",
              "          (conv3): Conv2d(256, 1024, kernel_size=(1, 1), stride=(1, 1), bias=False)\n",
              "          (bn3): FrozenBatchNorm2d(1024, eps=0.0)\n",
              "          (relu): ReLU(inplace=True)\n",
              "        )\n",
              "      )\n",
              "      (layer4): Sequential(\n",
              "        (0): Bottleneck(\n",
              "          (conv1): Conv2d(1024, 512, kernel_size=(1, 1), stride=(1, 1), bias=False)\n",
              "          (bn1): FrozenBatchNorm2d(512, eps=0.0)\n",
              "          (conv2): Conv2d(512, 512, kernel_size=(3, 3), stride=(2, 2), padding=(1, 1), bias=False)\n",
              "          (bn2): FrozenBatchNorm2d(512, eps=0.0)\n",
              "          (conv3): Conv2d(512, 2048, kernel_size=(1, 1), stride=(1, 1), bias=False)\n",
              "          (bn3): FrozenBatchNorm2d(2048, eps=0.0)\n",
              "          (relu): ReLU(inplace=True)\n",
              "          (downsample): Sequential(\n",
              "            (0): Conv2d(1024, 2048, kernel_size=(1, 1), stride=(2, 2), bias=False)\n",
              "            (1): FrozenBatchNorm2d(2048, eps=0.0)\n",
              "          )\n",
              "        )\n",
              "        (1): Bottleneck(\n",
              "          (conv1): Conv2d(2048, 512, kernel_size=(1, 1), stride=(1, 1), bias=False)\n",
              "          (bn1): FrozenBatchNorm2d(512, eps=0.0)\n",
              "          (conv2): Conv2d(512, 512, kernel_size=(3, 3), stride=(1, 1), padding=(1, 1), bias=False)\n",
              "          (bn2): FrozenBatchNorm2d(512, eps=0.0)\n",
              "          (conv3): Conv2d(512, 2048, kernel_size=(1, 1), stride=(1, 1), bias=False)\n",
              "          (bn3): FrozenBatchNorm2d(2048, eps=0.0)\n",
              "          (relu): ReLU(inplace=True)\n",
              "        )\n",
              "        (2): Bottleneck(\n",
              "          (conv1): Conv2d(2048, 512, kernel_size=(1, 1), stride=(1, 1), bias=False)\n",
              "          (bn1): FrozenBatchNorm2d(512, eps=0.0)\n",
              "          (conv2): Conv2d(512, 512, kernel_size=(3, 3), stride=(1, 1), padding=(1, 1), bias=False)\n",
              "          (bn2): FrozenBatchNorm2d(512, eps=0.0)\n",
              "          (conv3): Conv2d(512, 2048, kernel_size=(1, 1), stride=(1, 1), bias=False)\n",
              "          (bn3): FrozenBatchNorm2d(2048, eps=0.0)\n",
              "          (relu): ReLU(inplace=True)\n",
              "        )\n",
              "      )\n",
              "    )\n",
              "    (fpn): FeaturePyramidNetwork(\n",
              "      (inner_blocks): ModuleList(\n",
              "        (0): Conv2dNormActivation(\n",
              "          (0): Conv2d(256, 256, kernel_size=(1, 1), stride=(1, 1))\n",
              "        )\n",
              "        (1): Conv2dNormActivation(\n",
              "          (0): Conv2d(512, 256, kernel_size=(1, 1), stride=(1, 1))\n",
              "        )\n",
              "        (2): Conv2dNormActivation(\n",
              "          (0): Conv2d(1024, 256, kernel_size=(1, 1), stride=(1, 1))\n",
              "        )\n",
              "        (3): Conv2dNormActivation(\n",
              "          (0): Conv2d(2048, 256, kernel_size=(1, 1), stride=(1, 1))\n",
              "        )\n",
              "      )\n",
              "      (layer_blocks): ModuleList(\n",
              "        (0-3): 4 x Conv2dNormActivation(\n",
              "          (0): Conv2d(256, 256, kernel_size=(3, 3), stride=(1, 1), padding=(1, 1))\n",
              "        )\n",
              "      )\n",
              "      (extra_blocks): LastLevelMaxPool()\n",
              "    )\n",
              "  )\n",
              "  (rpn): RegionProposalNetwork(\n",
              "    (anchor_generator): AnchorGenerator()\n",
              "    (head): RPNHead(\n",
              "      (conv): Sequential(\n",
              "        (0): Conv2dNormActivation(\n",
              "          (0): Conv2d(256, 256, kernel_size=(3, 3), stride=(1, 1), padding=(1, 1))\n",
              "          (1): ReLU(inplace=True)\n",
              "        )\n",
              "      )\n",
              "      (cls_logits): Conv2d(256, 3, kernel_size=(1, 1), stride=(1, 1))\n",
              "      (bbox_pred): Conv2d(256, 12, kernel_size=(1, 1), stride=(1, 1))\n",
              "    )\n",
              "  )\n",
              "  (roi_heads): RoIHeads(\n",
              "    (box_roi_pool): MultiScaleRoIAlign(featmap_names=['0', '1', '2', '3'], output_size=(7, 7), sampling_ratio=2)\n",
              "    (box_head): TwoMLPHead(\n",
              "      (fc6): Linear(in_features=12544, out_features=1024, bias=True)\n",
              "      (fc7): Linear(in_features=1024, out_features=1024, bias=True)\n",
              "    )\n",
              "    (box_predictor): FastRCNNPredictor(\n",
              "      (cls_score): Linear(in_features=1024, out_features=91, bias=True)\n",
              "      (bbox_pred): Linear(in_features=1024, out_features=364, bias=True)\n",
              "    )\n",
              "  )\n",
              ")"
            ]
          },
          "metadata": {},
          "execution_count": 2
        }
      ]
    },
    {
      "cell_type": "markdown",
      "source": [
        "connecting to drive"
      ],
      "metadata": {
        "id": "TCESe_om16YZ"
      }
    },
    {
      "cell_type": "code",
      "source": [
        "from google.colab import drive\n",
        "\n",
        "# Mount Google Drive\n",
        "drive.mount('/content/drive')\n"
      ],
      "metadata": {
        "colab": {
          "base_uri": "https://localhost:8080/"
        },
        "id": "jsy0sMSMe9dK",
        "outputId": "6c2baf78-2a2f-4a02-8363-130e123a2b22"
      },
      "execution_count": null,
      "outputs": [
        {
          "output_type": "stream",
          "name": "stdout",
          "text": [
            "Mounted at /content/drive\n"
          ]
        }
      ]
    },
    {
      "cell_type": "markdown",
      "source": [
        "Creating object_features_tensor from the images by extracting features from the images"
      ],
      "metadata": {
        "id": "ZerV3BO71_4a"
      }
    },
    {
      "cell_type": "code",
      "source": [
        "# Create a Path object for the image folder\n",
        "image_folder_path = Path(\"/content/drive/MyDrive/VQA_RAD_Dataset/RGB_images\")\n",
        "\n",
        "# List to store object feature tensors\n",
        "object_feature_tensors = []\n",
        "\n",
        "# Initialize the transform to convert images to tensors and resize them\n",
        "transform = T.Compose([T.Resize((224, 224)), T.ToTensor()])\n",
        "\n",
        "# Iterate through each image in the folder\n",
        "for image_path in tqdm(image_folder_path.glob(\"*.jpg\")):\n",
        "    # Load image\n",
        "    img = Image.open(image_path).convert(\"RGB\")\n",
        "\n",
        "    # Perform inference and extract object features (boxes)\n",
        "    with torch.no_grad():\n",
        "        predictions = model(transform(img).unsqueeze(0))[0]\n",
        "\n",
        "    if \"boxes\" in predictions:\n",
        "        boxes = predictions[\"boxes\"]\n",
        "        for box in boxes:\n",
        "            x1, y1, x2, y2 = box.tolist()\n",
        "\n",
        "            # Extract object region from the image and resize to a fixed size\n",
        "            object_img = img.crop((x1, y1, x2, y2))\n",
        "            object_img_resized = transform(object_img).unsqueeze(0)\n",
        "\n",
        "            # Append object feature tensor to the list\n",
        "            object_feature_tensors.append(object_img_resized)\n"
      ],
      "metadata": {
        "colab": {
          "base_uri": "https://localhost:8080/",
          "height": 425
        },
        "id": "JmcRUsQmn8tZ",
        "outputId": "cbafc9a9-a70f-4de0-b61e-b3bf92fb39ff"
      },
      "execution_count": null,
      "outputs": [
        {
          "output_type": "stream",
          "name": "stderr",
          "text": [
            "9it [00:39,  4.41s/it]\n"
          ]
        },
        {
          "output_type": "error",
          "ename": "KeyboardInterrupt",
          "evalue": "ignored",
          "traceback": [
            "\u001b[0;31m---------------------------------------------------------------------------\u001b[0m",
            "\u001b[0;31mKeyboardInterrupt\u001b[0m                         Traceback (most recent call last)",
            "\u001b[0;32m<ipython-input-7-72b8bfbc1b75>\u001b[0m in \u001b[0;36m<cell line: 18>\u001b[0;34m()\u001b[0m\n\u001b[1;32m     22\u001b[0m     \u001b[0;31m# Perform inference and extract object features (boxes)\u001b[0m\u001b[0;34m\u001b[0m\u001b[0;34m\u001b[0m\u001b[0m\n\u001b[1;32m     23\u001b[0m     \u001b[0;32mwith\u001b[0m \u001b[0mtorch\u001b[0m\u001b[0;34m.\u001b[0m\u001b[0mno_grad\u001b[0m\u001b[0;34m(\u001b[0m\u001b[0;34m)\u001b[0m\u001b[0;34m:\u001b[0m\u001b[0;34m\u001b[0m\u001b[0;34m\u001b[0m\u001b[0m\n\u001b[0;32m---> 24\u001b[0;31m         \u001b[0mpredictions\u001b[0m \u001b[0;34m=\u001b[0m \u001b[0mmodel\u001b[0m\u001b[0;34m(\u001b[0m\u001b[0mtransform\u001b[0m\u001b[0;34m(\u001b[0m\u001b[0mimg\u001b[0m\u001b[0;34m)\u001b[0m\u001b[0;34m.\u001b[0m\u001b[0munsqueeze\u001b[0m\u001b[0;34m(\u001b[0m\u001b[0;36m0\u001b[0m\u001b[0;34m)\u001b[0m\u001b[0;34m)\u001b[0m\u001b[0;34m[\u001b[0m\u001b[0;36m0\u001b[0m\u001b[0;34m]\u001b[0m\u001b[0;34m\u001b[0m\u001b[0;34m\u001b[0m\u001b[0m\n\u001b[0m\u001b[1;32m     25\u001b[0m \u001b[0;34m\u001b[0m\u001b[0m\n\u001b[1;32m     26\u001b[0m     \u001b[0;32mif\u001b[0m \u001b[0;34m\"boxes\"\u001b[0m \u001b[0;32min\u001b[0m \u001b[0mpredictions\u001b[0m\u001b[0;34m:\u001b[0m\u001b[0;34m\u001b[0m\u001b[0;34m\u001b[0m\u001b[0m\n",
            "\u001b[0;32m/usr/local/lib/python3.10/dist-packages/torch/nn/modules/module.py\u001b[0m in \u001b[0;36m_call_impl\u001b[0;34m(self, *args, **kwargs)\u001b[0m\n\u001b[1;32m   1499\u001b[0m                 \u001b[0;32mor\u001b[0m \u001b[0m_global_backward_pre_hooks\u001b[0m \u001b[0;32mor\u001b[0m \u001b[0m_global_backward_hooks\u001b[0m\u001b[0;34m\u001b[0m\u001b[0;34m\u001b[0m\u001b[0m\n\u001b[1;32m   1500\u001b[0m                 or _global_forward_hooks or _global_forward_pre_hooks):\n\u001b[0;32m-> 1501\u001b[0;31m             \u001b[0;32mreturn\u001b[0m \u001b[0mforward_call\u001b[0m\u001b[0;34m(\u001b[0m\u001b[0;34m*\u001b[0m\u001b[0margs\u001b[0m\u001b[0;34m,\u001b[0m \u001b[0;34m**\u001b[0m\u001b[0mkwargs\u001b[0m\u001b[0;34m)\u001b[0m\u001b[0;34m\u001b[0m\u001b[0;34m\u001b[0m\u001b[0m\n\u001b[0m\u001b[1;32m   1502\u001b[0m         \u001b[0;31m# Do not call functions when jit is used\u001b[0m\u001b[0;34m\u001b[0m\u001b[0;34m\u001b[0m\u001b[0m\n\u001b[1;32m   1503\u001b[0m         \u001b[0mfull_backward_hooks\u001b[0m\u001b[0;34m,\u001b[0m \u001b[0mnon_full_backward_hooks\u001b[0m \u001b[0;34m=\u001b[0m \u001b[0;34m[\u001b[0m\u001b[0;34m]\u001b[0m\u001b[0;34m,\u001b[0m \u001b[0;34m[\u001b[0m\u001b[0;34m]\u001b[0m\u001b[0;34m\u001b[0m\u001b[0;34m\u001b[0m\u001b[0m\n",
            "\u001b[0;32m/usr/local/lib/python3.10/dist-packages/torchvision/models/detection/generalized_rcnn.py\u001b[0m in \u001b[0;36mforward\u001b[0;34m(self, images, targets)\u001b[0m\n\u001b[1;32m     99\u001b[0m                     )\n\u001b[1;32m    100\u001b[0m \u001b[0;34m\u001b[0m\u001b[0m\n\u001b[0;32m--> 101\u001b[0;31m         \u001b[0mfeatures\u001b[0m \u001b[0;34m=\u001b[0m \u001b[0mself\u001b[0m\u001b[0;34m.\u001b[0m\u001b[0mbackbone\u001b[0m\u001b[0;34m(\u001b[0m\u001b[0mimages\u001b[0m\u001b[0;34m.\u001b[0m\u001b[0mtensors\u001b[0m\u001b[0;34m)\u001b[0m\u001b[0;34m\u001b[0m\u001b[0;34m\u001b[0m\u001b[0m\n\u001b[0m\u001b[1;32m    102\u001b[0m         \u001b[0;32mif\u001b[0m \u001b[0misinstance\u001b[0m\u001b[0;34m(\u001b[0m\u001b[0mfeatures\u001b[0m\u001b[0;34m,\u001b[0m \u001b[0mtorch\u001b[0m\u001b[0;34m.\u001b[0m\u001b[0mTensor\u001b[0m\u001b[0;34m)\u001b[0m\u001b[0;34m:\u001b[0m\u001b[0;34m\u001b[0m\u001b[0;34m\u001b[0m\u001b[0m\n\u001b[1;32m    103\u001b[0m             \u001b[0mfeatures\u001b[0m \u001b[0;34m=\u001b[0m \u001b[0mOrderedDict\u001b[0m\u001b[0;34m(\u001b[0m\u001b[0;34m[\u001b[0m\u001b[0;34m(\u001b[0m\u001b[0;34m\"0\"\u001b[0m\u001b[0;34m,\u001b[0m \u001b[0mfeatures\u001b[0m\u001b[0;34m)\u001b[0m\u001b[0;34m]\u001b[0m\u001b[0;34m)\u001b[0m\u001b[0;34m\u001b[0m\u001b[0;34m\u001b[0m\u001b[0m\n",
            "\u001b[0;32m/usr/local/lib/python3.10/dist-packages/torch/nn/modules/module.py\u001b[0m in \u001b[0;36m_call_impl\u001b[0;34m(self, *args, **kwargs)\u001b[0m\n\u001b[1;32m   1499\u001b[0m                 \u001b[0;32mor\u001b[0m \u001b[0m_global_backward_pre_hooks\u001b[0m \u001b[0;32mor\u001b[0m \u001b[0m_global_backward_hooks\u001b[0m\u001b[0;34m\u001b[0m\u001b[0;34m\u001b[0m\u001b[0m\n\u001b[1;32m   1500\u001b[0m                 or _global_forward_hooks or _global_forward_pre_hooks):\n\u001b[0;32m-> 1501\u001b[0;31m             \u001b[0;32mreturn\u001b[0m \u001b[0mforward_call\u001b[0m\u001b[0;34m(\u001b[0m\u001b[0;34m*\u001b[0m\u001b[0margs\u001b[0m\u001b[0;34m,\u001b[0m \u001b[0;34m**\u001b[0m\u001b[0mkwargs\u001b[0m\u001b[0;34m)\u001b[0m\u001b[0;34m\u001b[0m\u001b[0;34m\u001b[0m\u001b[0m\n\u001b[0m\u001b[1;32m   1502\u001b[0m         \u001b[0;31m# Do not call functions when jit is used\u001b[0m\u001b[0;34m\u001b[0m\u001b[0;34m\u001b[0m\u001b[0m\n\u001b[1;32m   1503\u001b[0m         \u001b[0mfull_backward_hooks\u001b[0m\u001b[0;34m,\u001b[0m \u001b[0mnon_full_backward_hooks\u001b[0m \u001b[0;34m=\u001b[0m \u001b[0;34m[\u001b[0m\u001b[0;34m]\u001b[0m\u001b[0;34m,\u001b[0m \u001b[0;34m[\u001b[0m\u001b[0;34m]\u001b[0m\u001b[0;34m\u001b[0m\u001b[0;34m\u001b[0m\u001b[0m\n",
            "\u001b[0;32m/usr/local/lib/python3.10/dist-packages/torchvision/models/detection/backbone_utils.py\u001b[0m in \u001b[0;36mforward\u001b[0;34m(self, x)\u001b[0m\n\u001b[1;32m     55\u001b[0m \u001b[0;34m\u001b[0m\u001b[0m\n\u001b[1;32m     56\u001b[0m     \u001b[0;32mdef\u001b[0m \u001b[0mforward\u001b[0m\u001b[0;34m(\u001b[0m\u001b[0mself\u001b[0m\u001b[0;34m,\u001b[0m \u001b[0mx\u001b[0m\u001b[0;34m:\u001b[0m \u001b[0mTensor\u001b[0m\u001b[0;34m)\u001b[0m \u001b[0;34m->\u001b[0m \u001b[0mDict\u001b[0m\u001b[0;34m[\u001b[0m\u001b[0mstr\u001b[0m\u001b[0;34m,\u001b[0m \u001b[0mTensor\u001b[0m\u001b[0;34m]\u001b[0m\u001b[0;34m:\u001b[0m\u001b[0;34m\u001b[0m\u001b[0;34m\u001b[0m\u001b[0m\n\u001b[0;32m---> 57\u001b[0;31m         \u001b[0mx\u001b[0m \u001b[0;34m=\u001b[0m \u001b[0mself\u001b[0m\u001b[0;34m.\u001b[0m\u001b[0mbody\u001b[0m\u001b[0;34m(\u001b[0m\u001b[0mx\u001b[0m\u001b[0;34m)\u001b[0m\u001b[0;34m\u001b[0m\u001b[0;34m\u001b[0m\u001b[0m\n\u001b[0m\u001b[1;32m     58\u001b[0m         \u001b[0mx\u001b[0m \u001b[0;34m=\u001b[0m \u001b[0mself\u001b[0m\u001b[0;34m.\u001b[0m\u001b[0mfpn\u001b[0m\u001b[0;34m(\u001b[0m\u001b[0mx\u001b[0m\u001b[0;34m)\u001b[0m\u001b[0;34m\u001b[0m\u001b[0;34m\u001b[0m\u001b[0m\n\u001b[1;32m     59\u001b[0m         \u001b[0;32mreturn\u001b[0m \u001b[0mx\u001b[0m\u001b[0;34m\u001b[0m\u001b[0;34m\u001b[0m\u001b[0m\n",
            "\u001b[0;32m/usr/local/lib/python3.10/dist-packages/torch/nn/modules/module.py\u001b[0m in \u001b[0;36m_call_impl\u001b[0;34m(self, *args, **kwargs)\u001b[0m\n\u001b[1;32m   1499\u001b[0m                 \u001b[0;32mor\u001b[0m \u001b[0m_global_backward_pre_hooks\u001b[0m \u001b[0;32mor\u001b[0m \u001b[0m_global_backward_hooks\u001b[0m\u001b[0;34m\u001b[0m\u001b[0;34m\u001b[0m\u001b[0m\n\u001b[1;32m   1500\u001b[0m                 or _global_forward_hooks or _global_forward_pre_hooks):\n\u001b[0;32m-> 1501\u001b[0;31m             \u001b[0;32mreturn\u001b[0m \u001b[0mforward_call\u001b[0m\u001b[0;34m(\u001b[0m\u001b[0;34m*\u001b[0m\u001b[0margs\u001b[0m\u001b[0;34m,\u001b[0m \u001b[0;34m**\u001b[0m\u001b[0mkwargs\u001b[0m\u001b[0;34m)\u001b[0m\u001b[0;34m\u001b[0m\u001b[0;34m\u001b[0m\u001b[0m\n\u001b[0m\u001b[1;32m   1502\u001b[0m         \u001b[0;31m# Do not call functions when jit is used\u001b[0m\u001b[0;34m\u001b[0m\u001b[0;34m\u001b[0m\u001b[0m\n\u001b[1;32m   1503\u001b[0m         \u001b[0mfull_backward_hooks\u001b[0m\u001b[0;34m,\u001b[0m \u001b[0mnon_full_backward_hooks\u001b[0m \u001b[0;34m=\u001b[0m \u001b[0;34m[\u001b[0m\u001b[0;34m]\u001b[0m\u001b[0;34m,\u001b[0m \u001b[0;34m[\u001b[0m\u001b[0;34m]\u001b[0m\u001b[0;34m\u001b[0m\u001b[0;34m\u001b[0m\u001b[0m\n",
            "\u001b[0;32m/usr/local/lib/python3.10/dist-packages/torchvision/models/_utils.py\u001b[0m in \u001b[0;36mforward\u001b[0;34m(self, x)\u001b[0m\n\u001b[1;32m     67\u001b[0m         \u001b[0mout\u001b[0m \u001b[0;34m=\u001b[0m \u001b[0mOrderedDict\u001b[0m\u001b[0;34m(\u001b[0m\u001b[0;34m)\u001b[0m\u001b[0;34m\u001b[0m\u001b[0;34m\u001b[0m\u001b[0m\n\u001b[1;32m     68\u001b[0m         \u001b[0;32mfor\u001b[0m \u001b[0mname\u001b[0m\u001b[0;34m,\u001b[0m \u001b[0mmodule\u001b[0m \u001b[0;32min\u001b[0m \u001b[0mself\u001b[0m\u001b[0;34m.\u001b[0m\u001b[0mitems\u001b[0m\u001b[0;34m(\u001b[0m\u001b[0;34m)\u001b[0m\u001b[0;34m:\u001b[0m\u001b[0;34m\u001b[0m\u001b[0;34m\u001b[0m\u001b[0m\n\u001b[0;32m---> 69\u001b[0;31m             \u001b[0mx\u001b[0m \u001b[0;34m=\u001b[0m \u001b[0mmodule\u001b[0m\u001b[0;34m(\u001b[0m\u001b[0mx\u001b[0m\u001b[0;34m)\u001b[0m\u001b[0;34m\u001b[0m\u001b[0;34m\u001b[0m\u001b[0m\n\u001b[0m\u001b[1;32m     70\u001b[0m             \u001b[0;32mif\u001b[0m \u001b[0mname\u001b[0m \u001b[0;32min\u001b[0m \u001b[0mself\u001b[0m\u001b[0;34m.\u001b[0m\u001b[0mreturn_layers\u001b[0m\u001b[0;34m:\u001b[0m\u001b[0;34m\u001b[0m\u001b[0;34m\u001b[0m\u001b[0m\n\u001b[1;32m     71\u001b[0m                 \u001b[0mout_name\u001b[0m \u001b[0;34m=\u001b[0m \u001b[0mself\u001b[0m\u001b[0;34m.\u001b[0m\u001b[0mreturn_layers\u001b[0m\u001b[0;34m[\u001b[0m\u001b[0mname\u001b[0m\u001b[0;34m]\u001b[0m\u001b[0;34m\u001b[0m\u001b[0;34m\u001b[0m\u001b[0m\n",
            "\u001b[0;32m/usr/local/lib/python3.10/dist-packages/torch/nn/modules/module.py\u001b[0m in \u001b[0;36m_call_impl\u001b[0;34m(self, *args, **kwargs)\u001b[0m\n\u001b[1;32m   1499\u001b[0m                 \u001b[0;32mor\u001b[0m \u001b[0m_global_backward_pre_hooks\u001b[0m \u001b[0;32mor\u001b[0m \u001b[0m_global_backward_hooks\u001b[0m\u001b[0;34m\u001b[0m\u001b[0;34m\u001b[0m\u001b[0m\n\u001b[1;32m   1500\u001b[0m                 or _global_forward_hooks or _global_forward_pre_hooks):\n\u001b[0;32m-> 1501\u001b[0;31m             \u001b[0;32mreturn\u001b[0m \u001b[0mforward_call\u001b[0m\u001b[0;34m(\u001b[0m\u001b[0;34m*\u001b[0m\u001b[0margs\u001b[0m\u001b[0;34m,\u001b[0m \u001b[0;34m**\u001b[0m\u001b[0mkwargs\u001b[0m\u001b[0;34m)\u001b[0m\u001b[0;34m\u001b[0m\u001b[0;34m\u001b[0m\u001b[0m\n\u001b[0m\u001b[1;32m   1502\u001b[0m         \u001b[0;31m# Do not call functions when jit is used\u001b[0m\u001b[0;34m\u001b[0m\u001b[0;34m\u001b[0m\u001b[0m\n\u001b[1;32m   1503\u001b[0m         \u001b[0mfull_backward_hooks\u001b[0m\u001b[0;34m,\u001b[0m \u001b[0mnon_full_backward_hooks\u001b[0m \u001b[0;34m=\u001b[0m \u001b[0;34m[\u001b[0m\u001b[0;34m]\u001b[0m\u001b[0;34m,\u001b[0m \u001b[0;34m[\u001b[0m\u001b[0;34m]\u001b[0m\u001b[0;34m\u001b[0m\u001b[0;34m\u001b[0m\u001b[0m\n",
            "\u001b[0;32m/usr/local/lib/python3.10/dist-packages/torch/nn/modules/container.py\u001b[0m in \u001b[0;36mforward\u001b[0;34m(self, input)\u001b[0m\n\u001b[1;32m    215\u001b[0m     \u001b[0;32mdef\u001b[0m \u001b[0mforward\u001b[0m\u001b[0;34m(\u001b[0m\u001b[0mself\u001b[0m\u001b[0;34m,\u001b[0m \u001b[0minput\u001b[0m\u001b[0;34m)\u001b[0m\u001b[0;34m:\u001b[0m\u001b[0;34m\u001b[0m\u001b[0;34m\u001b[0m\u001b[0m\n\u001b[1;32m    216\u001b[0m         \u001b[0;32mfor\u001b[0m \u001b[0mmodule\u001b[0m \u001b[0;32min\u001b[0m \u001b[0mself\u001b[0m\u001b[0;34m:\u001b[0m\u001b[0;34m\u001b[0m\u001b[0;34m\u001b[0m\u001b[0m\n\u001b[0;32m--> 217\u001b[0;31m             \u001b[0minput\u001b[0m \u001b[0;34m=\u001b[0m \u001b[0mmodule\u001b[0m\u001b[0;34m(\u001b[0m\u001b[0minput\u001b[0m\u001b[0;34m)\u001b[0m\u001b[0;34m\u001b[0m\u001b[0;34m\u001b[0m\u001b[0m\n\u001b[0m\u001b[1;32m    218\u001b[0m         \u001b[0;32mreturn\u001b[0m \u001b[0minput\u001b[0m\u001b[0;34m\u001b[0m\u001b[0;34m\u001b[0m\u001b[0m\n\u001b[1;32m    219\u001b[0m \u001b[0;34m\u001b[0m\u001b[0m\n",
            "\u001b[0;32m/usr/local/lib/python3.10/dist-packages/torch/nn/modules/module.py\u001b[0m in \u001b[0;36m_call_impl\u001b[0;34m(self, *args, **kwargs)\u001b[0m\n\u001b[1;32m   1499\u001b[0m                 \u001b[0;32mor\u001b[0m \u001b[0m_global_backward_pre_hooks\u001b[0m \u001b[0;32mor\u001b[0m \u001b[0m_global_backward_hooks\u001b[0m\u001b[0;34m\u001b[0m\u001b[0;34m\u001b[0m\u001b[0m\n\u001b[1;32m   1500\u001b[0m                 or _global_forward_hooks or _global_forward_pre_hooks):\n\u001b[0;32m-> 1501\u001b[0;31m             \u001b[0;32mreturn\u001b[0m \u001b[0mforward_call\u001b[0m\u001b[0;34m(\u001b[0m\u001b[0;34m*\u001b[0m\u001b[0margs\u001b[0m\u001b[0;34m,\u001b[0m \u001b[0;34m**\u001b[0m\u001b[0mkwargs\u001b[0m\u001b[0;34m)\u001b[0m\u001b[0;34m\u001b[0m\u001b[0;34m\u001b[0m\u001b[0m\n\u001b[0m\u001b[1;32m   1502\u001b[0m         \u001b[0;31m# Do not call functions when jit is used\u001b[0m\u001b[0;34m\u001b[0m\u001b[0;34m\u001b[0m\u001b[0m\n\u001b[1;32m   1503\u001b[0m         \u001b[0mfull_backward_hooks\u001b[0m\u001b[0;34m,\u001b[0m \u001b[0mnon_full_backward_hooks\u001b[0m \u001b[0;34m=\u001b[0m \u001b[0;34m[\u001b[0m\u001b[0;34m]\u001b[0m\u001b[0;34m,\u001b[0m \u001b[0;34m[\u001b[0m\u001b[0;34m]\u001b[0m\u001b[0;34m\u001b[0m\u001b[0;34m\u001b[0m\u001b[0m\n",
            "\u001b[0;32m/usr/local/lib/python3.10/dist-packages/torchvision/models/resnet.py\u001b[0m in \u001b[0;36mforward\u001b[0;34m(self, x)\u001b[0m\n\u001b[1;32m    152\u001b[0m         \u001b[0mout\u001b[0m \u001b[0;34m=\u001b[0m \u001b[0mself\u001b[0m\u001b[0;34m.\u001b[0m\u001b[0mrelu\u001b[0m\u001b[0;34m(\u001b[0m\u001b[0mout\u001b[0m\u001b[0;34m)\u001b[0m\u001b[0;34m\u001b[0m\u001b[0;34m\u001b[0m\u001b[0m\n\u001b[1;32m    153\u001b[0m \u001b[0;34m\u001b[0m\u001b[0m\n\u001b[0;32m--> 154\u001b[0;31m         \u001b[0mout\u001b[0m \u001b[0;34m=\u001b[0m \u001b[0mself\u001b[0m\u001b[0;34m.\u001b[0m\u001b[0mconv3\u001b[0m\u001b[0;34m(\u001b[0m\u001b[0mout\u001b[0m\u001b[0;34m)\u001b[0m\u001b[0;34m\u001b[0m\u001b[0;34m\u001b[0m\u001b[0m\n\u001b[0m\u001b[1;32m    155\u001b[0m         \u001b[0mout\u001b[0m \u001b[0;34m=\u001b[0m \u001b[0mself\u001b[0m\u001b[0;34m.\u001b[0m\u001b[0mbn3\u001b[0m\u001b[0;34m(\u001b[0m\u001b[0mout\u001b[0m\u001b[0;34m)\u001b[0m\u001b[0;34m\u001b[0m\u001b[0;34m\u001b[0m\u001b[0m\n\u001b[1;32m    156\u001b[0m \u001b[0;34m\u001b[0m\u001b[0m\n",
            "\u001b[0;32m/usr/local/lib/python3.10/dist-packages/torch/nn/modules/module.py\u001b[0m in \u001b[0;36m_call_impl\u001b[0;34m(self, *args, **kwargs)\u001b[0m\n\u001b[1;32m   1499\u001b[0m                 \u001b[0;32mor\u001b[0m \u001b[0m_global_backward_pre_hooks\u001b[0m \u001b[0;32mor\u001b[0m \u001b[0m_global_backward_hooks\u001b[0m\u001b[0;34m\u001b[0m\u001b[0;34m\u001b[0m\u001b[0m\n\u001b[1;32m   1500\u001b[0m                 or _global_forward_hooks or _global_forward_pre_hooks):\n\u001b[0;32m-> 1501\u001b[0;31m             \u001b[0;32mreturn\u001b[0m \u001b[0mforward_call\u001b[0m\u001b[0;34m(\u001b[0m\u001b[0;34m*\u001b[0m\u001b[0margs\u001b[0m\u001b[0;34m,\u001b[0m \u001b[0;34m**\u001b[0m\u001b[0mkwargs\u001b[0m\u001b[0;34m)\u001b[0m\u001b[0;34m\u001b[0m\u001b[0;34m\u001b[0m\u001b[0m\n\u001b[0m\u001b[1;32m   1502\u001b[0m         \u001b[0;31m# Do not call functions when jit is used\u001b[0m\u001b[0;34m\u001b[0m\u001b[0;34m\u001b[0m\u001b[0m\n\u001b[1;32m   1503\u001b[0m         \u001b[0mfull_backward_hooks\u001b[0m\u001b[0;34m,\u001b[0m \u001b[0mnon_full_backward_hooks\u001b[0m \u001b[0;34m=\u001b[0m \u001b[0;34m[\u001b[0m\u001b[0;34m]\u001b[0m\u001b[0;34m,\u001b[0m \u001b[0;34m[\u001b[0m\u001b[0;34m]\u001b[0m\u001b[0;34m\u001b[0m\u001b[0;34m\u001b[0m\u001b[0m\n",
            "\u001b[0;32m/usr/local/lib/python3.10/dist-packages/torch/nn/modules/conv.py\u001b[0m in \u001b[0;36mforward\u001b[0;34m(self, input)\u001b[0m\n\u001b[1;32m    461\u001b[0m \u001b[0;34m\u001b[0m\u001b[0m\n\u001b[1;32m    462\u001b[0m     \u001b[0;32mdef\u001b[0m \u001b[0mforward\u001b[0m\u001b[0;34m(\u001b[0m\u001b[0mself\u001b[0m\u001b[0;34m,\u001b[0m \u001b[0minput\u001b[0m\u001b[0;34m:\u001b[0m \u001b[0mTensor\u001b[0m\u001b[0;34m)\u001b[0m \u001b[0;34m->\u001b[0m \u001b[0mTensor\u001b[0m\u001b[0;34m:\u001b[0m\u001b[0;34m\u001b[0m\u001b[0;34m\u001b[0m\u001b[0m\n\u001b[0;32m--> 463\u001b[0;31m         \u001b[0;32mreturn\u001b[0m \u001b[0mself\u001b[0m\u001b[0;34m.\u001b[0m\u001b[0m_conv_forward\u001b[0m\u001b[0;34m(\u001b[0m\u001b[0minput\u001b[0m\u001b[0;34m,\u001b[0m \u001b[0mself\u001b[0m\u001b[0;34m.\u001b[0m\u001b[0mweight\u001b[0m\u001b[0;34m,\u001b[0m \u001b[0mself\u001b[0m\u001b[0;34m.\u001b[0m\u001b[0mbias\u001b[0m\u001b[0;34m)\u001b[0m\u001b[0;34m\u001b[0m\u001b[0;34m\u001b[0m\u001b[0m\n\u001b[0m\u001b[1;32m    464\u001b[0m \u001b[0;34m\u001b[0m\u001b[0m\n\u001b[1;32m    465\u001b[0m \u001b[0;32mclass\u001b[0m \u001b[0mConv3d\u001b[0m\u001b[0;34m(\u001b[0m\u001b[0m_ConvNd\u001b[0m\u001b[0;34m)\u001b[0m\u001b[0;34m:\u001b[0m\u001b[0;34m\u001b[0m\u001b[0;34m\u001b[0m\u001b[0m\n",
            "\u001b[0;32m/usr/local/lib/python3.10/dist-packages/torch/nn/modules/conv.py\u001b[0m in \u001b[0;36m_conv_forward\u001b[0;34m(self, input, weight, bias)\u001b[0m\n\u001b[1;32m    457\u001b[0m                             \u001b[0mweight\u001b[0m\u001b[0;34m,\u001b[0m \u001b[0mbias\u001b[0m\u001b[0;34m,\u001b[0m \u001b[0mself\u001b[0m\u001b[0;34m.\u001b[0m\u001b[0mstride\u001b[0m\u001b[0;34m,\u001b[0m\u001b[0;34m\u001b[0m\u001b[0;34m\u001b[0m\u001b[0m\n\u001b[1;32m    458\u001b[0m                             _pair(0), self.dilation, self.groups)\n\u001b[0;32m--> 459\u001b[0;31m         return F.conv2d(input, weight, bias, self.stride,\n\u001b[0m\u001b[1;32m    460\u001b[0m                         self.padding, self.dilation, self.groups)\n\u001b[1;32m    461\u001b[0m \u001b[0;34m\u001b[0m\u001b[0m\n",
            "\u001b[0;31mKeyboardInterrupt\u001b[0m: "
          ]
        }
      ]
    },
    {
      "cell_type": "code",
      "source": [
        "# Concatenate object feature tensors along the batch dimension\n",
        "concatenated_features = torch.cat(object_feature_tensors, dim=0)"
      ],
      "metadata": {
        "id": "Q63U4qDHoD-I"
      },
      "execution_count": null,
      "outputs": []
    },
    {
      "cell_type": "code",
      "source": [
        "print(concatenated_features.shape)"
      ],
      "metadata": {
        "colab": {
          "base_uri": "https://localhost:8080/"
        },
        "id": "JJWd1BIvuuuS",
        "outputId": "30d05222-f485-4e8d-defb-c3cfc8a39cca"
      },
      "execution_count": null,
      "outputs": [
        {
          "output_type": "stream",
          "name": "stdout",
          "text": [
            "torch.Size([4680, 3, 224, 224])\n"
          ]
        }
      ]
    },
    {
      "cell_type": "markdown",
      "source": [
        "Defining the custom cnn model to obtain the visual_embed tensor from the object_features_tensor"
      ],
      "metadata": {
        "id": "1UqMNs0m2Lrf"
      }
    },
    {
      "cell_type": "code",
      "source": [
        "# Define a custom CNN model for visual embeddings\n",
        "class CustomCNN(nn.Module):\n",
        "    def __init__(self, input_channels, output_channels):\n",
        "        super(CustomCNN, self).__init__()\n",
        "        self.conv1 = nn.Conv2d(input_channels, 64, kernel_size=3, stride=1, padding=1)\n",
        "        self.conv2 = nn.Conv2d(64, 128, kernel_size=3, stride=1, padding=1)\n",
        "        self.conv3 = nn.Conv2d(128, output_channels, kernel_size=3, stride=1, padding=1)\n",
        "        self.relu = nn.ReLU()\n",
        "        self.maxpool = nn.MaxPool2d(kernel_size=2, stride=2)\n",
        "\n",
        "    def forward(self, x):\n",
        "        x = self.relu(self.conv1(x))\n",
        "        x = self.maxpool(x)\n",
        "        x = self.relu(self.conv2(x))\n",
        "        x = self.maxpool(x)\n",
        "        x = self.relu(self.conv3(x))\n",
        "        x = self.maxpool(x)\n",
        "        return x"
      ],
      "metadata": {
        "id": "3EUPKuX8ohZ4"
      },
      "execution_count": null,
      "outputs": []
    },
    {
      "cell_type": "code",
      "source": [
        "# Initialize the custom CNN model for visual embeddings\n",
        "custom_cnn_model = CustomCNN(input_channels=3, output_channels=512)\n",
        "\n",
        "# Pass the concatenated features through the custom CNN model to obtain visual embeddings\n",
        "visual_embeds = custom_cnn_model(concatenated_features)\n",
        "\n",
        "# Now, visual_embed has the shape (num_objects, 512) representing visual embeddings for each object\n",
        "print(\"Visual Embed Shape:\", visual_embeds.shape)"
      ],
      "metadata": {
        "id": "p1SYNdb5orea"
      },
      "execution_count": null,
      "outputs": []
    },
    {
      "cell_type": "markdown",
      "source": [
        "## QUESTION FEATURE EXTRACTION"
      ],
      "metadata": {
        "id": "vwJVsHw4irgz"
      }
    },
    {
      "cell_type": "code",
      "source": [
        "visual_embeds=concatenated_features"
      ],
      "metadata": {
        "id": "u2lhh5ut5uZI"
      },
      "execution_count": null,
      "outputs": []
    },
    {
      "cell_type": "code",
      "source": [
        "!pip install transformers"
      ],
      "metadata": {
        "colab": {
          "base_uri": "https://localhost:8080/"
        },
        "id": "1bi7XDekixtK",
        "outputId": "429dd1b6-128e-4dc8-e2c5-11b4713d54e7"
      },
      "execution_count": null,
      "outputs": [
        {
          "output_type": "stream",
          "name": "stdout",
          "text": [
            "Collecting transformers\n",
            "  Downloading transformers-4.34.1-py3-none-any.whl (7.7 MB)\n",
            "\u001b[2K     \u001b[90m━━━━━━━━━━━━━━━━━━━━━━━━━━━━━━━━━━━━━━━━\u001b[0m \u001b[32m7.7/7.7 MB\u001b[0m \u001b[31m25.4 MB/s\u001b[0m eta \u001b[36m0:00:00\u001b[0m\n",
            "\u001b[?25hRequirement already satisfied: filelock in /usr/local/lib/python3.10/dist-packages (from transformers) (3.12.4)\n",
            "Collecting huggingface-hub<1.0,>=0.16.4 (from transformers)\n",
            "  Downloading huggingface_hub-0.18.0-py3-none-any.whl (301 kB)\n",
            "\u001b[2K     \u001b[90m━━━━━━━━━━━━━━━━━━━━━━━━━━━━━━━━━━━━━━━━\u001b[0m \u001b[32m302.0/302.0 kB\u001b[0m \u001b[31m36.9 MB/s\u001b[0m eta \u001b[36m0:00:00\u001b[0m\n",
            "\u001b[?25hRequirement already satisfied: numpy>=1.17 in /usr/local/lib/python3.10/dist-packages (from transformers) (1.23.5)\n",
            "Requirement already satisfied: packaging>=20.0 in /usr/local/lib/python3.10/dist-packages (from transformers) (23.2)\n",
            "Requirement already satisfied: pyyaml>=5.1 in /usr/local/lib/python3.10/dist-packages (from transformers) (6.0.1)\n",
            "Requirement already satisfied: regex!=2019.12.17 in /usr/local/lib/python3.10/dist-packages (from transformers) (2023.6.3)\n",
            "Requirement already satisfied: requests in /usr/local/lib/python3.10/dist-packages (from transformers) (2.31.0)\n",
            "Collecting tokenizers<0.15,>=0.14 (from transformers)\n",
            "  Downloading tokenizers-0.14.1-cp310-cp310-manylinux_2_17_x86_64.manylinux2014_x86_64.whl (3.8 MB)\n",
            "\u001b[2K     \u001b[90m━━━━━━━━━━━━━━━━━━━━━━━━━━━━━━━━━━━━━━━━\u001b[0m \u001b[32m3.8/3.8 MB\u001b[0m \u001b[31m52.5 MB/s\u001b[0m eta \u001b[36m0:00:00\u001b[0m\n",
            "\u001b[?25hCollecting safetensors>=0.3.1 (from transformers)\n",
            "  Downloading safetensors-0.4.0-cp310-cp310-manylinux_2_17_x86_64.manylinux2014_x86_64.whl (1.3 MB)\n",
            "\u001b[2K     \u001b[90m━━━━━━━━━━━━━━━━━━━━━━━━━━━━━━━━━━━━━━━━\u001b[0m \u001b[32m1.3/1.3 MB\u001b[0m \u001b[31m62.9 MB/s\u001b[0m eta \u001b[36m0:00:00\u001b[0m\n",
            "\u001b[?25hRequirement already satisfied: tqdm>=4.27 in /usr/local/lib/python3.10/dist-packages (from transformers) (4.66.1)\n",
            "Requirement already satisfied: fsspec>=2023.5.0 in /usr/local/lib/python3.10/dist-packages (from huggingface-hub<1.0,>=0.16.4->transformers) (2023.6.0)\n",
            "Requirement already satisfied: typing-extensions>=3.7.4.3 in /usr/local/lib/python3.10/dist-packages (from huggingface-hub<1.0,>=0.16.4->transformers) (4.5.0)\n",
            "Collecting huggingface-hub<1.0,>=0.16.4 (from transformers)\n",
            "  Downloading huggingface_hub-0.17.3-py3-none-any.whl (295 kB)\n",
            "\u001b[2K     \u001b[90m━━━━━━━━━━━━━━━━━━━━━━━━━━━━━━━━━━━━━━━━\u001b[0m \u001b[32m295.0/295.0 kB\u001b[0m \u001b[31m31.5 MB/s\u001b[0m eta \u001b[36m0:00:00\u001b[0m\n",
            "\u001b[?25hRequirement already satisfied: charset-normalizer<4,>=2 in /usr/local/lib/python3.10/dist-packages (from requests->transformers) (3.3.0)\n",
            "Requirement already satisfied: idna<4,>=2.5 in /usr/local/lib/python3.10/dist-packages (from requests->transformers) (3.4)\n",
            "Requirement already satisfied: urllib3<3,>=1.21.1 in /usr/local/lib/python3.10/dist-packages (from requests->transformers) (2.0.6)\n",
            "Requirement already satisfied: certifi>=2017.4.17 in /usr/local/lib/python3.10/dist-packages (from requests->transformers) (2023.7.22)\n",
            "Installing collected packages: safetensors, huggingface-hub, tokenizers, transformers\n",
            "Successfully installed huggingface-hub-0.17.3 safetensors-0.4.0 tokenizers-0.14.1 transformers-4.34.1\n"
          ]
        }
      ]
    },
    {
      "cell_type": "markdown",
      "source": [
        "Question and answer tokens are obtained using BERT"
      ],
      "metadata": {
        "id": "I53JxIoc2aDe"
      }
    },
    {
      "cell_type": "code",
      "source": [
        "tokenizer = BertTokenizer.from_pretrained('bert-base-uncased')"
      ],
      "metadata": {
        "colab": {
          "base_uri": "https://localhost:8080/",
          "height": 145,
          "referenced_widgets": [
            "f08cad717fd148bcb7191534f86c15b7",
            "3375c0583dc54094b318dc076ca31378",
            "dbd1c8784f18425da056ad9a6e300a87",
            "642a990f81234324bb71ece25e26f47a",
            "c39d964266154d64815d9d9a2161269a",
            "ea23626f14a44c288bb5fb7445f45a10",
            "0daff219a0bb4bee9a1522d001c39019",
            "9e8bb6c2581542609a4529c806156bcc",
            "8e42e0d4958b4cb1b63b47f956ac2264",
            "59e2a586d56a4241a541c17fd838b2cf",
            "60b87082545a438cb7d17d19decb73cc",
            "f354aa50329e41e683a9c378e5a513ae",
            "966b24047d53494fadba7ba792ae3fd3",
            "8a297c3c19f84fdaaeef6658d3eef1f2",
            "e06f2789afef47939f934f257c990362",
            "c2e661ae11694290ad54f8474cc58927",
            "9f35c10fab054e2ba9e11e55772ccf9b",
            "1be6b409facd42d18cca25a2d108e015",
            "82ba4f4465d94b8ba8315f059d28b9e2",
            "8f61687c56ec41eeb5edffb969b2c4a2",
            "d394ed8cf95d47b59a6951c5e23bd09a",
            "ec858cb896b04b98b7b65f696c4e3f55",
            "b7da1c33cab245418021607747697a56",
            "605399d9e92643b09c8e0d9a16eeaf22",
            "812b534f9cd14583892290d2a1b2c8c8",
            "e8c66ce11d4143219f7d05786a56f362",
            "5f24cc0bbcaf464abcabd6caeae7e280",
            "ad82c0008c8446e6b96b8e79ef52ed75",
            "8b12d893738a420fbada237770bdb4e0",
            "a6fe02bd5c1e43ceafe0c009941271f3",
            "d4bcefccf4014b65a674ac697ee04926",
            "cfd9cc4d11fc40bc9889f316d7f4ec33",
            "a06e8bfc3ef5478b9eb1f38be4d11311",
            "d6cb0a14e7064e67ab344b11cebbcb4e",
            "7466f8b198ee49d289f443dc07e383a9",
            "29e0ff2444de467eba7bc4ec18b9121b",
            "e313eddc7f0a4d88acdf6e96ae427e6e",
            "4a3507928c074491a9bb9309e974f617",
            "fe52d34869a346d59197cccb4959f207",
            "b59301650f764c5a853198c9255e12cc",
            "d47ce0d6be39464fa616cc2c5f365d61",
            "953858c053fe497891f99fb2e7722fdd",
            "d8bf58c550b44381a12bba6dadb3f187",
            "6dc5eb7c2b10425d8a5268e57aa15101"
          ]
        },
        "id": "SQrr7Dqr8mj9",
        "outputId": "e0106392-467e-4494-8164-927976ba6760"
      },
      "execution_count": null,
      "outputs": [
        {
          "output_type": "display_data",
          "data": {
            "text/plain": [
              "Downloading (…)okenizer_config.json:   0%|          | 0.00/28.0 [00:00<?, ?B/s]"
            ],
            "application/vnd.jupyter.widget-view+json": {
              "version_major": 2,
              "version_minor": 0,
              "model_id": "f08cad717fd148bcb7191534f86c15b7"
            }
          },
          "metadata": {}
        },
        {
          "output_type": "display_data",
          "data": {
            "text/plain": [
              "Downloading (…)solve/main/vocab.txt:   0%|          | 0.00/232k [00:00<?, ?B/s]"
            ],
            "application/vnd.jupyter.widget-view+json": {
              "version_major": 2,
              "version_minor": 0,
              "model_id": "f354aa50329e41e683a9c378e5a513ae"
            }
          },
          "metadata": {}
        },
        {
          "output_type": "display_data",
          "data": {
            "text/plain": [
              "Downloading (…)/main/tokenizer.json:   0%|          | 0.00/466k [00:00<?, ?B/s]"
            ],
            "application/vnd.jupyter.widget-view+json": {
              "version_major": 2,
              "version_minor": 0,
              "model_id": "b7da1c33cab245418021607747697a56"
            }
          },
          "metadata": {}
        },
        {
          "output_type": "display_data",
          "data": {
            "text/plain": [
              "Downloading (…)lve/main/config.json:   0%|          | 0.00/570 [00:00<?, ?B/s]"
            ],
            "application/vnd.jupyter.widget-view+json": {
              "version_major": 2,
              "version_minor": 0,
              "model_id": "d6cb0a14e7064e67ab344b11cebbcb4e"
            }
          },
          "metadata": {}
        }
      ]
    },
    {
      "cell_type": "code",
      "source": [
        "print(visual_embeds.shape)"
      ],
      "metadata": {
        "colab": {
          "base_uri": "https://localhost:8080/"
        },
        "id": "ZI3rF0OR7imC",
        "outputId": "096bc8e2-4368-4e22-eb7f-2280720149a3"
      },
      "execution_count": null,
      "outputs": [
        {
          "output_type": "stream",
          "name": "stdout",
          "text": [
            "torch.Size([4680, 3, 224, 224])\n"
          ]
        }
      ]
    },
    {
      "cell_type": "code",
      "source": [
        "# Read the CSV file with a specific encoding\n",
        "df = pd.read_csv('/content/question_data_final.csv', encoding='ISO-8859-1')\n",
        "\n",
        "# Select the required columns: image_name, question, and answer\n",
        "new_df = df[['image_name', 'question', 'answer']]\n",
        "\n",
        "# Save the updated dataset back to q&a_space.csv\n",
        "new_df.to_csv('q&a_space.csv', index=False)\n"
      ],
      "metadata": {
        "id": "daZyXGTi77-u"
      },
      "execution_count": null,
      "outputs": []
    },
    {
      "cell_type": "code",
      "source": [
        "print(len(questions))"
      ],
      "metadata": {
        "colab": {
          "base_uri": "https://localhost:8080/"
        },
        "id": "CSW8Nm4r8Ddb",
        "outputId": "52570705-ad73-47a5-a6d8-e7f2c7c4d4a9"
      },
      "execution_count": null,
      "outputs": [
        {
          "output_type": "stream",
          "name": "stdout",
          "text": [
            "2248\n"
          ]
        }
      ]
    },
    {
      "cell_type": "code",
      "source": [
        "list=[]\n",
        "for i in range(0,2248):\n",
        "  list.append(questions[i])"
      ],
      "metadata": {
        "id": "9v_1punD8Mg5"
      },
      "execution_count": null,
      "outputs": []
    },
    {
      "cell_type": "code",
      "source": [
        "print(list)"
      ],
      "metadata": {
        "colab": {
          "base_uri": "https://localhost:8080/"
        },
        "id": "o0ofbNOA8SSG",
        "outputId": "735f194c-877d-41f4-be16-2da0238dea25"
      },
      "execution_count": null,
      "outputs": [
        {
          "output_type": "stream",
          "name": "stdout",
          "text": [
            "['Are regions of the brain infarcted?', 'Are the lungs normal appearing?', 'Is there evidence of a pneumothorax', 'What type of imaging does this not represent?', 'Is this a MRI of the chest?', 'What is not pictured in this image?', 'Is the trachea midline?', 'Is there evidence of an aortic aneurysm?', 'Where is the abnormality?', 'Is there blunting of the costovertebral angles?', 'Is there evidence of an aortic aneurysm?', 'Which organ system is abnormal in this image?', 'Is there airspace consolidation on the left side?', 'Is this an axial plane?', 'Where is the pathology in this image?', 'Is there a pneumothorax?', 'What type of imaging is this?', 'What organ system is pictured?', 'Is there a fracture?', 'How is the patient oriented?', 'Is there swelling of the grey matter?', 'Is there vascular pathology in this image?', 'Is this an anterior posterior image?', 'Is there cardiomyopathy?', 'Is this the brain?', 'Is there air under the diaphragm?', 'What type of image is this?', 'Is this a CT image?', 'Is this an anterior-posterior image', 'In what plane is this image oriented?', 'Is there a skull fracture pictured?', 'Are >12 ribs present in the image?', 'does this represent adequate inspiratory effort?', 'Is there a rib fracture?', 'Is there evidence of any fractures of the ribs?', 'Is there any intraparenchymal abnormalities in the lung fields?', 'Is there evidence of any abnormalities of the lung parenchyma?', 'was the arterial contrast phase selected?', 'does this plane of section include the gastric cardia?', 'Is there evidence of small bowel obstruction on this image?', 'Is there small bowel thickening present?', 'was the patient positioned appropriately \\twithout tilting?', 'was this taken with good x ray penetration', 'Are the common ileac arteries and veins patent in this section?', 'Are the common iliac vasculature open?', 'Is the spleen normal size?', 'Is the size of the spleen normal?', 'Are there air fluid levels present in the small bowel?', 'is there contrast material showing air-fluid levels in the small bowel', 'Is/Are the mass located near/in the mid brain?', 'Is the mass compressing the mid brain on this section?', 'Is the mass pushing on the midbrain structures?', 'Are brain structures shifted across the midline?', 'is there a midline shift of the cerebral parenchyma?', 'Is the gallbladder large in size?', 'Is the gallbladder distended?', 'Are there >8 ribs shown in this image?', 'Are there at least 8 ribs visible for good inspiratory effort?', 'is this an image of the cerebellum', 'Is this a transverse section?', \"Is the patient's vertebral body indicative of normal aging?\", 'any observed degenerative changes in the vertebral body?', 'is the small bowel appropriately identified with GI contrast?', 'Is there a small bowel obstruction?', 'Is there evidence of herniation of the small bowel into the abdominal wall?', 'Is there evidence of an abdominal hernia?', 'Are there air-fluid levels present on this CT radiograph?', \"Is there evidence of air fluid levels in the patient's bowel?\", 'Have brain structures crossed the midline of the brain?', 'Is there evidence of midlight shift of structures on this MRI?', 'was this taken in PA position?', 'Is there evidence of air in the peritoneum?', 'Is there air in the peritoneal cavity?', 'Are the hilar soft tissue densities symmetric?', 'Are the soft tissue densities in the left hilum equivalent in size to the soft tissue densities in the right hilum?', 'Is the descending aortic silhouette of normal contour?', 'Is the descending aortic silhouette of normal contour and size?', 'Is there tortuosity of the descending aorta?', 'Is the descending aortic silhouette of normal size?', 'Is the descending aortic silhouette of normal size?', 'are the vertebral arteries patent in this section?', 'Are the vertebral arteries in view?', 'Are there hyper attenuating material along the aortic walls?', 'are there calcifications present on the abdominal aorta?', 'Is the vertebro-basilar arterial network viewed in this section?', 'Is the vertebral artery/basilar artery located in this image?', 'Is there blurring of the grey-white matter junctions in the right temporal lobe?', 'Is there no definitive border between the grey matter and white matter in the right temporal lobe?', 'is there evidence of portal venous congestion?', 'Is the portal vein engorged?', 'is the plane of section transverse?', 'Is the liver parenchyma normal?', 'Is the liver parenchyma homogenous?', 'Is there no evidence of any hypo- or hyperattenuations located in the liver?', 'Is the liver parenchyma homogenous and normal?', 'was this chest x ray taken in PA format?', 'Is the stomach thickening regular and uniform or ragged/asymmetrical?', 'Is the stomach wall thickening symmetric or asymmetric?', 'Is there evidence of ectopic tissue present in surrounding organs?', 'Is there evidence of metastatic tissue on organs surrounding the liver?', 'Are lung opacities noted?', 'is there evidence of intraparenchymal lung nodules?', 'Does this patient have evidence of pneumoperitoneum?', 'Is there evidence of air in the peritoneal cavity?', 'Is the cardiac silhouette less than half the diameter of the diaphragm?', 'Is the cardiac silhouette within normal size limits?', 'Are there calcifications in the cerebral arteries?', 'Is there evidence of calcifications in the cerebral arteries?', 'Is there evidence of a right apical pneumothorax on this chest x-ray?', 'Is a pneumothorax present near the right lung field?', 'Are the branches of the superior mesenteric arteries filled with contrast?', 'Are the branches of the superior mesenteric arteries hyper attenuated?', 'Is there narrowing of the cardiac contour?', 'is the cardiac silhouette small/stretched', 'Are there any fractures in any of the ribs?', \"Are any of the patient's ribs fractured?\", 'is there evidence of pulmonary edema?', 'Is there enlargement of the pulmonary vasculature?', 'Is there evidence of fluid in the peritoneal cavity?', 'Is there evidence of ascites?', 'Has the small bowel perforated?', 'is there evidence of pneumoperitoneum?', 'Is this the small bowel on this image?', 'Is the cardiac contour normal?', 'Is the cardiac silhouette less than half the lateral diameter of the chest wall?', 'Are feces located in the colon?', 'Is there stool in the colon?', 'Do the left and right middle cerebral arteries appear patent on this section?', 'Is the left and right MCA present?', 'Is this a T2 weighted image?', 'Is the lesion causing significant brainstem herniation?', 'Is there herniation of the brainstem secondary to the lesion', 'is it difficult to delineate the left costophrenic angle?', 'Is there blunting of the left costophrenic angle?', 'Are structures associated with the midbrain located in this image?', 'Is the midbrain identified in this section?', 'Is there a left apical pneumothorax?', 'Is the outline of visceral pleura visible in the upper left lung field?', 'Are there more than 5 enlarged (>1 cm) lymph nodes around the stomach', 'Are there >5 lymph nodes located near the stomach?', 'Does the gallbladder appear distended?', 'Is the gallbladder enlarged?', 'Is this image plane taken inferior to the liver?', 'is there any shift of midline structures visible in this section?', 'Is there shifting of structures across the middle?', 'is there slight dilation of the right renal pelvis?', 'Is there enlargement of the right renal pelvis?', 'Is there evidence of a small bowel obstruction with perforated viscus on this CT?', 'Is there evidence of a pneumoperitoneum secondary to a perforation?', \"Is there edema in the patient's right temporal lobe?\", 'Is there evidence of cytotoxic edema in the right temporal lobe?', 'Does the mass have a smooth appearing border?', 'Is the mass well-defined?', 'Is there contrast in the colonic lumen?', 'Was the patient given oral contrast?', 'Is the celiac trunk visualized and patent?', 'Is the celiac trunk visualized?', 'Is the celiac trunk patent?', 'Is the celiac trunk able to be visualized in this patient and is it open?', 'Is the celiac trunk able to be visualized in this patient?', 'Is the celiac trunk open?', 'Has the midline of the mediastinum shifted?', 'Is there a mediastinal shift?', 'was this image taken without motion artifact', 'was this image taken with patient in symmetrical supine position?', 'Is the left lung field more radioopaque than the right side?', 'Is the left lung field more white?', 'Is this an image of the right and left temporal lobes?', 'Are the liver \\tsplee n\\tstomac h\\tand esophagus all visualized in this image?', 'Does the GI contrast hi-light the small bowel?', \"Is there oral contrast in the patient's small bowel?\", 'Is there enlargement of the abdominal aorta on this image?', 'Is the abdominal aorta large in size?', 'Are the costophrenic angles sharp?', 'Is there no evidence of blunting of the costophrenic angles?', 'is the lung parenchyma well visualized?', 'Has the brainstem herniated?', 'is there evidence of brainstem herniation in this section', 'are the heart and lungs displayed well in this film', 'Is the liver normal?', 'Is this a typical liver?', 'Describe the lung abnormalities?', 'What abnormalities are seen within the lungs?', 'What is under the right hemidiaphragm?', 'What is the abnormality by the right hemidiaphragm?', 'Is this in the posterior anterior plane?', 'Any abnormal findings in the lower lung fields?', 'Are the lower lung fields normal?', 'Is the mass loculated?', 'Is there a loculated pancreatic mass?', 'How would you describe the spleen abnormality', 'What is abnormal about the spleen?', 'What organ system is evaluated primarily?', 'Are there gallstones?', 'Are gallstones present?', 'Is the left hemidiaphragm normal?', 'Is the left hemidiaphragm normal?', 'Is this a chest x-ray?', 'How would you describe the lesion?', 'What are key characteristics of the lesion?', 'Is the image of the gastrointestinal system?', 'Are there abnormal findings on this image?', 'Is this brain scan normal?', 'Is the brain tissue ischemic?', 'Is there atrophy of the brain?', 'How would you describe the abnormality?', 'Is the abnormality focal or diffuse?', 'What kind of scan is this?', 'Is there evidence of calcification in the mass?', 'Is the mass calcified?', 'What kind of image is this?', 'Is this a normal image?', 'Is the brain scan normal?', 'What organ is enlarged?', 'Which organ has the abnormality?', 'where is the cavitary lesion?', 'where is the abnormality?', 'Is the abnormality hyper dense or hypo dense?', 'What density is the abnormality?', 'What part of the liver is the mass located in?', 'Where is the mass in the liver?', 'What organ is primarily evaluated in this image?', 'What hemisphere are the lesions located in?', 'Where are the abnormalities?', 'What does nodular liver suggest?', 'What does the shape of the liver suggest?', 'What is the brightness in the abdominal aorta?', 'What causes hyper intensity in aorta?', 'Is this a lateral film?', 'Where in the brain is the lesion?', 'Where is the lesion?', 'Which organ system is imaged?', 'Is there an abnormal lesion?', 'Is there a mass?', 'What does the hypodensity suggest?', 'What caused the lesion?', 'In what plane is this image taken?', 'Is this a study of the chest?', 'Which plane is this image taken?', 'What is abnormal about the hila?', 'Is the hila normal or enlarged?', 'What is happening in the right lung?', 'What is finding in the right lung?', 'Are there multiple or just 1 metastatic focus?', 'How many lesions are in the spleen?', 'What is most alarming about the appendix?', 'Is the liver normal?', 'Is this a normal image?', 'Are the lungs normal?', 'Is the chest x-ray normal?', 'What is abnormal about the pancreas?', 'Why is the pancreas abnormal?', 'What abnormalities are in the lung apices?', 'What is seen in the lung apices?', 'Where is the mass?', 'What can cause asymmetrical breasts?', 'Why are the breasts asymmetrical?', 'Is the mass enhancing?', 'Are the lungs normal?', 'Is the image study normal?', 'How would you describe the abnormalities', 'Are the lesions ring-enhancing?', 'What lobe is the lesion located in?', 'Where is the abnormality located?', 'What organ is the mass in?', 'Where is the mass?', 'What abnormalities are in the right upper quadrant?', 'What is in the right upper quadrant?', 'Which kidney is abnormal?', 'Which kidney has abnormalities?', 'Is there a pelvic fracture?', 'Is this a study of the brain?', 'What is the image suggestive of?', 'What is the lesion most likely to be?', 'Describe the lesions in the right kidney?', 'What is seen in the right kidney?', 'Did the patient have a cholecystectomy?', 'Has the gallbladder been removed?', 'How would you describe the aortopulmonary window?', 'What characteristic finding do you see in the aortopulmonary window?', 'Which sign do you see in the aortopulmonary window in this image?', 'Is there evidence of enhancement?', 'Is the lesion enhancing?', 'Is there contrast given?', 'Is this a CT scan?', 'Where is the diffuse pleural thickening?', 'Which lung is abnormal?', 'Describe the appendix', 'Is the mass calcified?', 'Are there 2 kidneys?', 'Are there normal number of kidneys?', 'Where is the mass?', 'Where is the abnormality?', 'Where is the hypodensity located?', 'Does this look like a healthy liver?', 'Is the liver normal?', 'Which hemisphere is the ischemia located?', 'Where is the abnormality?', 'Is this a normal x ray?', 'Is the right hemidiaphragm normal?', 'Is the mass homogeneous?', 'Where is the abnormality in this image?', 'Where is the catheter tip located?', 'Where does the catheter tip extend into?', 'What kind of image is this?', 'Does the mass affect neighboring structure?', 'Is there mass effect?', 'Is this image normal?', 'Is the small bowel filled with contrast?', 'Is the cecum dilated', 'What does the abnormality suggest?', 'What causes the hyperintensity?', 'Is this in a coronal plane?', 'Is there fat stranding?', 'Is the heart abnormal?', 'Does the heart appear enlarged?', 'Where is the mass?', 'Where is the mass located?', 'Is the surrounding phlegmon normal?', 'Is the fat surrounding the pancreas normal?', 'Which plane is the image taken?', 'Where is this plane relative to the eyes?', 'How was this x-ray taken?', 'Which ribs are located near the abnormality seen in this image?', 'What level is the abnormality located at?', 'Are lung markings present in the entire thoracic cavity?', 'Is there a pneumothorax present?', 'Do the lung markings extend to the periphery?', 'Is a pneumothorax present in this image?', 'Does the width of the heart exceed more than half of the thorax?', 'How wide is the cardiac shadow?', 'Is the diaphragm obscured?', 'Is the diaphragm clearly visualized on both sides?', 'Are nodular calcifications present in the lungs?', 'What lesions are present in the lungs?', 'How big is the liver lesion?', 'What is the size of the mass lesion?', 'What is the modality by which the image was taken?', 'Are the calcifications superior or inferior to the diaphragm?', 'Where in the image are the calcifications located?', 'Where is the aortic arch?', 'Which side of the image is the aortic arch visualized?', 'Is there more than one organ system present in the image?', 'Where is the lung lesion located?', 'Which lobe of the lung is the lesion located in?', \"Do bones appear lighter on this image's modality?\", 'Are the bowel loops on the right or left side of the patient?', 'Where in this image are the bowel loops?', 'Is there evidence of periappendiceal fluid and fat stranding?', 'What indicates that appendicitis is present?', 'Is the appendix visualized with contrast?', 'Is there contrast in the appendix?', 'How many instances of intussusception are in the image?', 'Is there more than one intussusception present?', 'Are any organs besides the intestines present in this image?', 'Besides the intestines, what other organs are present?', 'Is a cystic cavity present in the left kidney on this image?', 'Is there a cyst in the left kidney?', 'Is this in the lumbar vertebral level?', 'Is the pathologic part of this image the small bowel or colon?', 'Where is the intussesception located?', 'How many lesions are present in the image?', 'Is there more that one lesion present?', 'Is the liver normal?', 'Is a ring enhancing lesion present in the right lobe of the liver?', \"Is the lesion on the patient's right or left side?\", 'Where on the image is the lesion?', 'Which side is more clearly visualized?', 'Which lung is clearer?', 'What are the two major organs present in this image?', 'Is the diaphragm clearly visualized on both sides of the thorax?', 'Is the diaphragm obscured?', 'Is the liver abnormal?', 'Are there any abnormal hypodense lesions in the liver?', 'Is the heart wider than more than half the width of the thorax?', 'How wide is the heart compared to the thorax?', 'Is there evidence of subdiaphragmatic free air on the left?', 'Is the free air under the left hemidiaphragm pathologic?', 'Is the largest cyst in the left or right kidney?', 'Where is the largest cystic lesion in the image?', 'Was oral or IV contrast used?', 'Are the lesions in the image more or less dense than surrounding tissue?', 'What is denser, the cystic lesions or the kidney parenchyma?', 'Is the primary abnormality more or less dense than surrounding matter?', 'What is denser, the mass or the surrounding brain tissue?', 'Is the lesion in this image more or less dense than the surrounding tissue?', 'What is denser, the lesion or the surrounding tissue?', 'Was contrast applied?', 'Is this an AP image?', 'Are calcified lesions present in the lung fields?', 'Is there evidence of large calcified lesions in the lung fields?', 'Is the gallbladder present?', 'What is the dense mass visualized in the liver?', 'Where is free air trapped subcutaneously in this image?', 'Is there free air in the supraclavicular fossae?', 'What is the organ system visualized?', 'Is the air under the left hemidiaphragm pathologic?', 'Is there free air under the left diaphragm?', 'Is this image of the thorax?', 'Where is the lesion?', 'Which lung lobe is the lesion present in?', 'Where is the aneurysm located?', 'What is the most important abnormality found in this image?', 'Where is the ascending colon?', 'What structure lies directly posterior to the appendix in this image?', 'At which rib is the lesion located?', 'What rib is the lesion located inferior to?', 'On which side is the cardiac border more obscured?', 'Where is the cardiac border more obscured?', 'What organ system is primarily present in this image?', 'Which side of the cardiac border is more prominent?', 'Which cardiac border is more prominently visualized?', 'Is this image a CT scan?', 'Is there evidence of hematoma?', 'Is there blood present?', 'Are the borders of the heart clearly visualized?', 'Which lung has more extensive infiltration?', 'Where are the most infiltrates located?', 'How would you describe the duodenum?', 'Is the duodenum edematous?', \"Is the largest air collection on the patient's left or the right side?\", 'Where is the largest air collection in this image?', 'Where is the lesion located?', 'What is the location of the primary lesion?', 'Is the air under the left hemidiaphragm pathologic?', 'Is subdiaphragmatic air present on the left side?', 'Which side is the lateral ventricle visible on?', 'Where is the lateral ventricle?', 'Where is the lesion located?', 'Which liver lobe is the lesion in?', 'Is there an intussusception present?', 'Is there evidence of intussusception on the right side?', 'Is there a mass in the right hilum?', 'Is there evidence of a mass lesion at the right hilum?', 'Is there a fracture on the left 5th rib?', 'Is the left fifth rib broken?', 'Is subcutaneous air present?', 'Is there evidence of subcutaneous air collection?', 'Are any ribs in the image fractured?', 'Are there any fractures present?', 'Where is the subcutaneous air collection?', 'Is there subcutaneous air present in the right neck?', 'Is this image taken above the diaphragm?', 'Is the opacity near the left lung apex pathologic?', 'What is the opacity near the left lung apex?', 'What is in the left apex?', 'Is a pneumothorax present in the left apex?', 'Where is the lesion located?', 'Which side of the heart border is obscured?', 'How was this image taken?', 'Where are the kidney?', 'Are the kidneys present in this image?', 'Where is the lesion?', 'Which lobe is the lesion located in?', \"Is the colon more prominent on the patient's right or left side?\", 'Where is the colon most prominent from this view?', 'Is the heart size in this image smaller or larger than if the image was taken AP?', 'Is there any inappropriate air collection in subcutaneous tissue?', 'Is subcutaneous air present?', 'Where on the image is most obscured?', 'Is the costophrenic angle blunted?', 'What are the opacities to the left?', 'Is there any hemorrhage?', 'What are those densities in the wall of the aorta?', 'What is the radiological description of the color of the edema?', 'Is the cerebellum visible?', 'Is this an axial image?', 'Is the liver normal in size?', 'Is the liver visible in the image?', 'Is this an axial image?', 'Is this film properly exposed?', 'Is it possible to see the cerebellum in this image?', 'What structures are visible in this image?', 'Is the heart dilated?', 'What is this lucency amid densities in the right lung?', 'In which lobe is the nodule located?', \"Is the patient's kidney this large mass to the right?\", 'Are the temporal bones fractured?', 'Are these small opacities in the right lung calcifications?', 'Is there any shifting on the path of the trachea?', 'Is there swelling of the choroid fissure?', 'Is there consolidation in the lungs?', 'Is this a MRI image?', 'Is there swelling around the lesion?', 'What is the organ principally shown in this image?', 'Are the basal ganglia enlarged?', 'Is there any other alteration in the image?', 'What are those lines in the posterior brain?', 'Is the medulla swollen?', 'What are these densities inside the intestines?', \"What is the name of this image's plane?\", 'What type of image is this?', 'Is the lesion infiltrating?', 'Is the abdomen distended?', 'Is there leakage of contrast?', 'In which lobe is the enhancement?', 'Is this a solitary nodule?', 'Is there ascites?', 'What are these opacities anterior to the right kidney?', 'Is there any hemorrhage?', 'Is the right lung normal in size?', 'Is there a cyst in the right kidney?', 'What is the plane of this image?', 'Is there involvement of the temporal lobes?', 'Are the brain ventricles visible?', 'Are the brain gyri atrophied?', 'Is there fluid in the anterior abdominal wall?', 'Are the lateral ventricles compressed?', 'Is the anatomy of the brain gyri affected?', 'Is this a cyst in the left lung?', 'What is happening with the path of the trachea?', 'Is the stomach dilated?', 'Where are the enlarged feeding arteries located?', 'What is the medium density close to the anterior abdominal wall?', 'Is the right kidney at its normal height in the abdomen?', 'Is this an AP image?', 'Is this an infiltrating mass?', 'Is the renal mass distending the abdominal wall?', 'Is it contrast these hyperintensities in the intestines?', 'What is the hypodensity in the posterior left?', 'What is this mass to the left of the patient?', 'Is there lesion to other structures besides the medulla?', 'What are these hyperintensities to the right?', 'Are there any other cysts in the image?', 'Is there any lesion in the left kidney', 'Are there multiple masses or just a single big one?', 'Are the kidneys atrophied?', 'What is the plane of this image?', 'What are these hypodensities in the liver?', 'Is this a CT image?', 'In which lobe is the cyst?', 'What type of image is this?', 'Is there leakage of blood?', 'Is it possible to see the cerebellum?', 'Is this a CT image?', 'How do we call these wide undulations along the vertebral column?', 'To which side is the trachea deviated?', 'Is the left kidney affected?', 'Is the brain atrophied or shrunk?', 'Is there herniation?', 'Are there fractures on the skull?', 'Is there any lesion to bone structures?', 'Is the heart a normal size?', 'Is the heart size normal?', 'Can a pulmonary mass be appreciated?', 'Is a pulmonary mass present?', 'What bright white structures form an X?', 'What are the bright white structures, almost forming an X\"?\"', 'Is this a solid or cystic lesion?', 'Is the lesion a solid or cystic lesion?', 'Is this in the PA plane?', 'Is there anything abnormal about the heart size?', 'Is the heart enlarged?', 'Can you see the esophagus in this image?', 'Is the esophagus visible?', 'Is this supratentorial or infratentorial?', 'Is this patient male or female?', 'What is the likely sex of this patient?', 'Is the cerebellum present in the image?', 'Can this image highlight bone fractures (if present)?', 'Can you appreciate a pleural effusion?', 'Is a pleural effusion present?', 'Do you see a subdural hematoma?', 'Is there a subdural hematoma?', 'Approximately how much time was required to obtain this image?', 'Is the heart enlarged?', 'Is the heart size increased?', 'Is this a ring enhancing lesion?', 'Is there ring-enhancement?', 'Are the dark areas grey or white matter?', 'The dark areas of the image show what type of brain matter?', 'Which ventricles are visible?', 'Is there a fracture?', 'Is a fracture present?', 'Is this modality safe for pregnant women?', 'Is this image sufficient for a diagnosis?', 'Is the image enough to diagnose?', 'Would you suspect abcess or cancer for this finding?', 'Is this an abscess or cancer?', 'What are the dark areas at the top of the picture?', 'What is the dark space in the body cavity near the top of the image?', 'Is there a right-sided pleural effusion?', 'Is there an effusion present on the right-side?', 'Do you see a pleural effusion?', 'Is a pleural effusion present?', 'Are sections of bowel recognizable?', 'Is a pleural effusion present?', 'Is there a pleural effusion?', 'Is the heart size abnormal?', 'Is the heart enlarged?', 'Can fluids be highlighted with this modality?', 'What can be typically visualized in this plane?', 'In what space/cavity is the abnormal organ located?', 'Is the patient lying down?', 'How long does this imaging modality take to complete? (hours?\\tminutes?)', 'Can you evaluate the kidneys \\tbladde r\\tor ureters in this image?', 'Are the kidneys normal?', 'Do the kidneys appear to be normal?', 'Are the lateral ventricles visible?', 'Can the lateral ventricles be seen?', 'Can you appreciate a shift of the midline?', 'Is there a midline shift?', 'What hypoattenuated tissue is between the abdominal wall and skin?', 'What is the dark structure underneath the skin?', 'Can you diagnose a pericardial effusion from this image?', 'Is this image sufficient to diagnose pericardial effusion?', 'Can a diagnosis or impression be made in this plane?', 'Does this mass likely represent a neoplastic process?', 'IS this a neoplastic process?', 'Would perform this same modality in a patient with AKI?', 'Are abdominal fat pads prominently visualized?', 'Can you see the abdominal fat pads?', 'Is there a pleural effusion present?', 'Is there a pleural effusion', 'Did this patient sustain physical damage?', 'Do you suspect a physical injury?', 'Can you see all of the ribs on the left side?', 'Can the left ribs be evaluated?', 'Can you appreciate a pleural effusion anywhere?', 'Is pleural effusion present?', 'Are adrenal glands present in this image?', 'Can you see the adrenals?', 'Did the problem originate in the brain?', 'Do you suspect a primary brain process?', 'Is the vertebrae fractured?', 'Is there a verterbral fracture?', 'Can you evaluate a mediastinum in the shown image?', 'Is the mediastinum visualized?', 'Does the left humerus appear to be fractured?', 'Is there a fracture of the left humerus?', 'Can this plane detect an aortic aneurysm \\tif present?', 'Can a diagnosis of appendicitis be made from this image?', 'Is this confirmed appendicitis?', 'Are both lungs abnormally inflated?', 'Can you visualize the 4th ventricle?', 'Is the 4th ventricle present in this image?', 'Can a pleural effusion be appreciated on the right side?', 'Is there a right-sided pleural effusion?', 'Do you suspect a physical injury or a medical process?', 'What is the cause of this finding: medical process or physical injury?', 'Does the skull appear fractured?', 'Is there a skull fracture?', 'what is the secondary pathology?', 'What is the secondary abnormality in this image?', 'Is this an anoxic injury?', 'Is there anoxic brain infarction?', 'Where is the tip of the line?', 'Where is the tip of the Port-a-Cath catheter located?', 'Do you see hylar lymphadenopathy in this image?', 'is there hylar lymphadenopathy?', 'Is there a widened mediastinum?', 'Is the mediastinum wider than normal?', 'Does this image show heart failure?', 'is this heart failure', 'is the heart enlarged?', 'Is there cardiomegaly?', 'is the heart enlarged?', 'Is there cardiomegaly?', 'Is this coronal plane?', 'is the stomach wall thickened?', 'Is there thickening of the gastric wall?', 'What is the location of the mass', 'where is the mass located?', 'is this an axial plane image', 'Is there fluid in the lung?', 'Is this a pleural effusion', 'Is mass effect present?', 'Is there mass effect?', 'Is there a lung mass?', 'Is there a mass in the lung?', 'is there a bowel obstrution', 'Is the bowel obstructed?', 'Is there hemorrhage?', 'Is hemorrhage seen?', 'What is the primary abnormality in this image?', 'what is the primary pathology', 'is the peritoneum thickened?', 'Is there thickening of the peritoneum?', 'How was this image taken', 'Is this mass located in the liver?', 'Is this a hepatic mass?', 'The pathology is located in which lobes of the brain?', 'which lobes demonstrate pathology', 'What is the likely pathology?', 'What is the most likely cause of these abnormalities?', 'is there a mass', 'Is a mass present in this xray?', 'Describe the pathology', 'what is the pathology?', 'does this constitute a pulmonary pathology?', 'What organ system is displayed?', 'Are the sulci blunted?', 'Is there blunting of the sulci?', 'is the mass cystic?', 'Would you describe the mass as cystic?', 'what is the location of the mass?', 'Where is the mass?', 'Is this lesion loculated', 'Is there loculation of this lesion?', 'Is this a standing CXR', 'What organ system is this?', 'what it causing the widening?', 'What is the widened mediastinum caused by?', 'is this an AP CXR', 'Is this an axial image?', 'What organ system is the pathology?', 'What is the modality?', 'is there brain edema', 'Is the brain swollen?', 'is the pulmonary system shown?', 'in what system is the pathology?', 'What system is this pathology in?', 'Is the structure cystic?', 'Is the mass a cyst?', 'Do the masses contain calcification?', 'is there calcification', 'Is the mediastinum widened?', 'Is there a widened mediastium?', 'What plane is demonstrated?', 'is the stomach filled?', 'Is there gastric fullness?', 'How would you characterize the lesion?', 'What is the characterization of the lesion', 'what is the location of the cavitary lesion', 'Where is the cavitary lesion located?', 'is the renal system dilated?', 'Is there hydronephrosis?', 'are there increased vascular markings', 'Are the vascular markings increased?', 'Is the bowel dilated?', 'is there dilation of the bowel?', 'What is the pathology?', 'What pathology is shown?', 'Can you appreciate a mass in this image?', 'is there a mass demonstrated?', 'What plane is this film', 'Doe this image depict an interstitial lung process?', 'Is there an interstitial lung process?', 'is the caudate nucleus involved?', 'Is there involvement of the caudate nucleus?', \"What is the lesion's disease origin?\", 'What disease origin is the lesion(eg, vascular vs. neoplastic)?', 'Is this a PA film?', 'Does the pathology involve the CV system', 'Does this image show a normal gallbladder?', 'Is the GB normal?', 'what is the composition of the mass?', 'What is this mass primarily made of?', 'Is there gall bladder pathology?', 'Is there pathology of the gallbladder?', 'What is the pathology in this image?', 'what pathology is demonstrated?', 'Can you appreciate inflammation?', 'is there inflammation?', 'Is the chest xray underexposed?', 'Is this image underexposed?', 'Can you appreciate hemorrhage in this image?', 'Is there hemorrhage', 'This radiograph contains what foreign body?', 'what is the foreign body', 'what is the location of the mass?', 'Where is the mass located?', 'what is the plane?', 'What modality is shown?', 'Do you see a cavitary lesion in this chest xray?', 'is there a cavitary lesion?', 'The mass is found in which part of the pancreas?', 'Does this patient have cardiomegaly?', 'What type of MRI sequence is displayed in this image?', 'Is this patient intubated?', 'Is there intraperitoneal hemorrhage present in this image?', 'Can the kidneys be visualized in this CT scan?', 'Where can omental caking be seen in this image?', 'From what structure is the large hypodense mass emanating from?', 'Where is the lesion located?', 'Is this a PA image?', 'Does this patient have a pneumothorax?', 'In what ventricle is the enhancing intraventricular mass seen?', 'What signs of appendicitis are seen in this image?', 'Does this radiograph contain parts of the cardiovascular system?', 'Does this patient have a skull fracture?', 'Does this image show a normal gallbladder?', 'Is there fat stranding around the appendix?', 'Is the heart enlarged?', 'How would you describe this lesion?', 'Is there acute blood present on this head CT?', 'What lobe of the brain is the lesion located in?', 'Does this patient have a pleural effusion?', 'Was this image taken in the AP or PA plane?', 'What region of the brain shows hyperintensity?', 'Is this an MRI?', 'Does this patient have a pneumothorax?', 'Does this xray show an intubated patient?', 'Is this an axial image?', 'Which side is the pneumothorax on?', 'Does this image display the CNS?', 'Is this CT scan enhanced by IV contrast?', 'Does this image show a pneumothorax?', 'What is represented by the black parts of the image within the large intestine?', 'Does this image display hydrocephalus?', 'Which rib is fractured?', 'In what plane is this MRI taken?', 'What type of imaging modality is seen in this image?', 'What organ is seen in the Left posterior portion of this image, to the left of the spinal column?', 'Is this a CT scan?', 'What solid organ is seen on the right side of this image?', 'What is one organ system seen in this image?', 'Is this xray suggestive of aortic dissection?', 'Does this patient have any fractured ribs?', 'Is there fat stranding shown in this image?', 'What part of the body is being imaged?', 'What type of imaging modality is this?', 'What abnormality can be seen in the greater omentum?', 'Is this a contrast enhanced image?', 'Is this an MRI?', 'Is the width of the abdominal aorta within normal limits?', 'What type of MRI sequence is this?', 'In what plane was this image taken?', 'Is this image enhanced by contrast?', 'Is this an MRI or a CT scan?', 'What lobe of the brain is the lesion found in?', 'There is a mass found in which organ?', 'Does the appendix appear normal?', 'Was this a contrast CT or a non-contrast CT?', 'Do we see diffuse cerebral edema in this MRI?', 'What is the difference between the left and right costophrenic angles?', 'Is there a clavicle fracture shown in this radiograph?', 'On which side of the brain is the infarction?', 'There is a large enhancing mass growing from what organ in this CT scan?', 'Is this a contrast CT or a non-contrast CT?', 'Does this patient have an endotracheal tube placed?', 'Which lobe of the brain demonstrates a hyper-intense signal in this T2 weighted MRI image?', 'Does this CXR display pneumoperitoneum?', 'Is the appendix seen in this image ruptured?', 'Can the liver be seen in this image?', 'What imaging modality is seen here?', 'Can you see intraperitoneal bleeding in this CT?', 'What vessel is seen just anterior to the spine enhancing with contrast?', 'What two large vessels are seen directly anterior to the spinal column?', 'Is the appendix seen in this image inflamed?', 'Can the optic nerve be visualized in this MRI image?', 'Does this image display the contents of the abdomen?', 'Which side of the image is the thoracic mass located on?', 'Was contrast used with this image?', 'Does this image show a pleural effusion?', 'In which two ventricles can calcifications be seen on this CT scan?', 'What part of the body is being imaged here?', 'Does this patient have pneumomediastinum?', 'What abnormality is seen on the left side of the frontal lobe?', 'Is this a coronal view?', 'Where is the bleed?', 'What kind of brain bleed is this?', 'Are these normal kidney findings?', 'Where is the enhancement in left rectus muscles?', 'Which rectus muscles are enhanced on the left?', 'How do you tell which side is R vs L?', 'How can you tell contrast has been give orally?', 'Diaphragm is elevated on which side?', 'Which side of the diaphragm is elevated?', 'Where does the L renal vein connect to', 'Where does the L renal vein drain into?', 'Is the Saggital plane?', 'What type of image is this?', 'Is there evidence of pneumothorax?', 'Is there a pneumothorax?', 'What side are the infarcts located?', 'Where are the infarcts seen?', 'Are the pulmonary arteries enlarged?', 'Do the pulmonary arteries appear enlarged?', 'Is this an mri?', 'How would you describe the lesions?', 'What is one adjective to describe the lesion(s)?', 'Does the lesion appear to be wedge-shaped?', 'Is the lesion wedge-shaped?', 'Is the lesion on the left or right side of the brain?', 'What side of the brain is a lesion on?', 'Are the lesions in the cerebellum?', 'What kind of image is this?', 'What modality is this?', 'Are the findings normal?', 'Is this a normal image?', 'Where is the enhancement in right rectus muscles?', 'Which Rectus muscles are enhanced on the right?', 'Is this normal gallbladder finding?', 'Does the lesion demonstrate ring enhancement?', 'Is this lesion ring enhancing?', 'What plane is this?', 'Is there evidence of calcification?', 'Is the mass calcified?', 'What is the location of the mass?', 'Where is the mass located?', 'Do you always recommend using both IV and oral contrast?', 'Are the lungs hyperinflated?', 'Do the lungs appear hyperinflated?', 'The air fluid level is in which location?', 'Where is there an air fluid level?', 'Where is there evidence of a pleural effusion?', 'Where is the pleural effusion located?', 'Do you see dependent layering in the occipital horns of the lateral ventricles?', 'Is there dependent layering in the occipital horns of the lateral ventricles?', 'What do the hyperdensities represent?', 'What are the hyperdensities indicative of?', 'What could cause this finding?', 'What type of image modality is this?', 'Which image modality is this?', 'How is the image oriented?', 'What plane is this X-ray in?', 'Are the enhanced muscles also enlarged?', 'Do the enhanced muscles appear enlarged?', 'What side of the abdomen is the aorta on?', 'Where is the aorta located relative to the midline?', 'Which side is abnormal?', 'Which lung has a defect?', 'Is there an acute infarction?', 'Is this consistent with an acute infarction?', 'Is this a CT?', 'What area is abnormal?', 'Where is/are the abnormality located?', 'Where are the acute infarcts?', 'Where do you see acute infarcts?', 'In which area of the brain are the infarcts found?', 'Where are the infarcts located?', 'What organ systems can be evaluated with this image?', 'Is the trachea located normally?', 'Is the trachea midline?', 'What side is the lesion located on?', 'Where is the lesion?', 'Is the lesion located in gray or white matter?', 'Is the lesion seen in the gray or white matter?', 'Are the findings normal?', 'Is this image normal?', 'how can you tell this is a T2 weighted image?', 'Is this image best taken on expiration?', 'Is this the axial plane?', 'What is the best MRI weighting for ring enhancing lesions?', 'What is seen in the occipital lobe?', 'What is abnormal about the occipital lobe?', 'Does the R vertebral artery appear normal?', 'Is the Right vertebral artery normal?', 'How would you measure the length of the kidneys?', 'What plane is this image in?', 'Which plane is the image shown in?', 'Where are the lesions located?', 'Where are the lesions located?', 'Do you see fluid in the left lung?', 'Is there fluid in the left lung?', 'Where is the lesion located?', 'Which lobe is the lesion in?', 'Does the heart appear normal size?', 'Is the width of the cardiac silhouette normal?', 'What type of image is this?', 'What image modality is this?', 'What are the hyperdense findings in the mediastinum?', 'What are seen as hyperdense in the mediastinum of this image?', 'Any evidence of epidural or subdural hematoma?', 'Are there epidural or subdural bleeds as well?', 'Is there evidence of hemorrhage?', 'Is the mass hemorrhagic?', \"What is the abnormality seen above the heart on the patient's right side?\", \"what is the bump seen above the heart on the patient's right side?\", 'Is this a CT of the abdomen?', 'Brain structure shown in this image?', 'What part of the brain is seen in this image?', 'What type of imaging modality is used to acquire the above image?', 'What lobe of the brain is the lesion located in?', 'Where is the brain lesion located?', 'The image is taken in what plane?', 'What plane is the above image acquired in?', 'In what plane is the above taken?', 'Is the image above oriented in the axial plane?', 'Is this image taken with or without contrast?', 'Was contrast used to take this image?', 'Are there any bone fractures present?', 'Does the patient have any bone fractures?', 'What is the location of the lesion?', 'Where is the lesion located?', 'How large is the mass in the right upper quadrant?', 'Size of the mass in the right upper quadrant?', \"Are the patients' ribs symmetric on both sides?\", \"Is there symmetry of the patient's ribs on both sides?\", 'What is the location of the mass?', 'Where is the mass located?', 'Is the patient a female or male?', 'What is the biological sex of the patient?', 'MRI imaging modality used for this image?', 'What type of MRI is used to acquire this image?', \"The patient's left contains a bright round organ, what is it?\", \"What is the bright round organ seen on the patient's left?\", 'Is the heart enlarged?', 'Is the heart abnormally large?', 'What organ system is shown in the above image?', 'What is the organ system in this image?', 'Is this image showing the chest?', 'What organ system is being imaged?', 'Does this image show edema?', 'Is there edema?', 'The hemorrhage is adjacent to what structures?', 'What structures are located near the hemorrhage shown?', 'What cranial nerves may be affected by the lesion seen in the above image?', 'Which cranial nerves are possibly affected by this lesion?', 'Is this taken in the axial plane?', 'Are the colon walls thickened?', 'Are the walls of the colon thickened?', 'What type of MRI is this?', 'What is the modality of this MRI?', 'Imaging modality used to take this image?', 'What imaging modality is used to acquire this picture?', 'What major artery of the brain may be affected by the lesion seen in the above image?', 'Which major artery of the brain is affected by this lesion?', 'What MRI imaging sequence is shown above?', 'What type of MRI is shown in the above image?', 'Is the image an CT scan?', 'Was this image taken with or without contrast?', 'Was contrast used to take this image?', 'Did the patient ingest contrast prior to taking this image?', 'Was contrast used in this image?', 'Evidence of hemorrhage in the kidneys?', 'Is there any hemorrhage seen within the kidneys?', 'Does the lesion above enhance?', 'Is there enhancement of the lesion?', 'Is this a T1 weighted MRI?', 'Where are the brain lesions located?', 'Which hemisphere of the brain are the lesions located in?', 'Is the consistency of the abscess located in the left upper quadrant homogeneous or heterogeneous?', 'Is the abscess in the left upper quadrant homogenous or heterogenous?', 'Is there a pneumothorax seen in the above image?', 'Is there a pneumothorax present?', 'What ventricle is the lesion compressing?', 'Which ventricle is compressed by the lesion?', 'Is this a noncontrast CT?', 'Where do you see a large hematoma?', 'Where is the large hematoma located?', 'What organ system is shown in the above image?', 'Which organ system is shown in the image?', 'MRI imaging modality used?', 'What type of MRI is the above image?', 'Does the image show midline shift?', 'Is there midline shift?', 'In which brain area is the lesion located?', 'Where is the lesion located?', 'Does the heart look enlarged?', 'Is the heart enlarged?', 'In what plane is the image above captured?', 'What organ contains multiple lesions in the above image?', 'Which organ has multiple lesions?', 'Is the heart larger than normal?', 'Is the heart enlarged?', 'How was this image taken?', 'What imaging modality is seen?', 'Does this image show midline shift?', 'Is there midline shift in this image?', 'What organ system is being imaged?', 'The tissue within the hyperattenuating ovoid mass adjacent to the ascending colon is similar in density to what tissue normally found?', \"The tissue in the hyperattenuating ovoid mass on the patient's right is similar density wise to what tissue that is normally found?\", 'How was this MRI taken?', 'What type of MRI is this?', 'In which lobes do you see a higher density of masses?', 'Which lobes of the lung contain a higher density of masses?', 'Is there mass shift pathology?', 'Is there any mass shift?', 'The lesion seen in the image above is isointense to what object that is normally found in the brain?', 'The lesion is isointense to what object normally found in the brain?', 'Is the heart enlarged?', 'Is the heart abnormally large?', 'In what plane is this image taken?', 'What imaging modality is used?', 'The condition in which a patient has enlarged ventricles as seen in this image?', 'What is the condition in which the ventricles are enlarged as seen in this image?', 'What organ system is visualized in the above image?', 'How was this image taken?', 'What imaging modality is used?', 'Is this a PA film?', 'In which lobe do you see an abnormal mass in the above images?', 'Where is the abnormal mass located with respect to the lungs?', 'Are there multiple lesions in the chest of the above patient?', 'Does this patient have multiple lesions in their chest?', 'The azygoesophageal recess is deviated in which direction?', 'Which direction is the azygoesophageal recess deviated?', 'In which side is the hemidiaphragm elevated?', 'Which diaphragm is elevated?', 'Does the image show pericolonic fat stranding?', 'Is there pericolic fat stranding?', 'Is this an image of the brain?', 'What imaging modality was used to take this image?', 'Where is the abnormality?', 'What abnormality is present?', 'Is this MRI with contrast or without contrast?', 'Was this MRI taken with or without contrast?', 'Are the pulmonary nodules diffuse in the chest or lateralized to one side?', 'Is the location of the pulmonary nodules diffuse or lateralized to one side?', 'Are the lesions only in one lobe?', 'Are the opacities confined to one lung lobe?', 'Is the lesion in the image enhancing?', 'Is the mass contrast-enhancing?', 'Where is the lesion located?', 'Where is the abnormality in this image?', 'Is the cortex atrophied?', 'Is there cortical atrophy?', 'Is free air present in this image?', 'Is there free air in the abdomen?', 'Are these masses encompassing the aorta?', 'Are the liver masses growing around the aorta?', 'Are the ventricles enlarged?', 'Is the size of the ventricle abnormal?', 'How is the patient positioned for this scan?', 'Is this a mid-sagittal film?', 'Is there free air under the diaphragm?', 'Is there air in the abdominal cavity?', 'Is this an axial image?', 'Is a skull fracture present?', 'Is the skull fractured?', 'What is the hypodensity in the liver?', 'Is there a hypodense mass in the liver', 'What are the hyperdensities on the periphery of the left side', 'What are the foci of hyperdensities on the left?', 'Where is the abnormality in this image?', 'Where is the mass located?', 'Is there free air under the diaphragm?', 'Is subdiaphragmatic free air present?', 'Are there any consolidations present in the lungs?', 'Are there any pulmonary consolidations?', 'Is this patient male or female?', \"What is the patient's gender?\", 'Is the vertebrae fractured?', 'Is there a vertebral fracture?', 'Why are the chostrochondral junctions not seen on this film?', 'Is the heart shadow abnormally large?', 'Is the cardiac silhouette enlarged?', 'Is there a pneumothorax?', 'Is a pneumothorax present?', 'Is the trachea normal?', 'Is the trachea midline?', 'Is there pneumothorax?', 'How can you tell there is no pneumothorax present?', 'Is the pelvis of the left kidney dilated?', 'Is the left renal pelvis dilated?', 'Why is the right lung most common location for aspirations?', 'Is the bowel perforated?', 'Is there bowel perforation present?', 'Can the white and gray matter be differentiated?', 'Is there good gray-white matter differentiation?', 'Is there a pneumothorax present?', 'Is there free air in the thorax?', 'Are there cilia present at the level of alveoli?', 'What is located immediately inferior to the right hemidiaphragm?', 'Are any of the ribs fractured?', 'Are there rib fractures present?', 'Does a blocked alveoli cause a V/Q mismatch?', 'What radiographic sign is seen in the intestines', 'What is the finding in lumen of the intestine called?', 'Can a mass in the pancreatic head cause a liver injury?', 'What are the multiple round hyperdensities located immediately inferior to the musculature?', 'What are the anterior circular hyperdensities?', 'Are the ventricles enlarged?', 'Is there ventricular enlargement?', 'What is the air under the left hemidiaphragm?', 'What is hyperdensity under the diaphragm on the left?', 'Does the liver show an enhancing mass or lesion?', 'Is there an enhancing lesion in the liver?', 'Where is the infarct?', 'Which vessel is infarcted in this image?', 'What signs of cerebral edema are present?', 'Which signs of edema are visualized here?', 'Is the mass surrounding the aorta?', 'Is the aorta encompassed by the mass?', 'What area of cerebrum is visible?', 'Which lobe of the cerebrum is visible?', 'Which vertebral level is this image?', 'What level of the spine is most likely seen here?', 'What else do you need in order to localize lesions on a CXR?', 'Is the trachea deviated from midline?', 'Is there tracheal deviation?', 'What are the black areas at the top of the image?', 'What does the least dense region represent', 'What is the orientation of the patient?', 'Where is the lesion located?', 'Which lobe is the lesion in?', 'Can x rays be used to identify liver lesions?', 'Where is the lesion located?', 'Where is the cortical lesion?', 'Is the pancreatic mass enhancing?', 'Is the mass in the pancreas enhancing?', 'What does the black on an x ray indicate?', 'Can CT be used to assess soft tissues?', 'Are the hemidiaphragms flattened?', 'Is the diaphragm flattened on either side', 'Is the bowel perforated?', 'Is there sign of perforated bowel?', 'Where is the abnormality in this image?', 'Where is the lesion located?', 'Are any fractures present?', 'Is there a skull fracture?', 'Is there a skull fracture present?', 'Is the skull fractured?', 'Is this a coronal section?', 'Are there any skeletal joints in the CT?', 'What skeletal joint is seen in this image?', 'Is the cardiac silhouette enlarged?', 'Is the heart size abnormal', 'Is there a subarachnoid bleed in the image?', 'Is a subarachnoid bleed present?', 'What material is the peripheral hypodensity?', 'What is the the dark gray surrounding the periphery of the image?', 'Can a patient with a metal implant get a CXR?', 'Does the right kidney show signs of hydronephrosis?', 'Is the right kidney abnormal here?', 'Is the lesion on the left or right?', 'What side is the lesion on?', 'Is the aorta abnormally wide?', 'Is the aortic knob widened?', 'Is the trachea normal?', 'Is the trachea midline?', 'What are the hyperdensities on the periphery of the image?', 'What are the hyperdense opacities located around the periphery?', 'Are there skull fractures present?', 'Is the skull fractured?', 'Is there sign of a skull fracture?', 'Is the skull fractured?', 'Are the cortexes atrophied here?', 'Is cortical atrophy present?', 'Is there a pneumothorax?', 'Is a pneuomothorax present?', 'Is the skull fractured?', 'Is there a skull fracture?', 'What is better identified on a PA CXR vs a lateral CXR?', 'If the mass compressed the left renal vein in a male\\twhat else might you expect to see?', 'Does this image show a pneumothorax?', 'Is there a pneumothorax present?', 'Are the clavicles fractured?', 'Is a clavicular fracture present?', 'Is the liver lacerated?', 'Is there damage to the liver?', 'What does the small white lesions in the aorta mean', 'What do the hyperdensities in the aorta suggest?', 'Is a pleural effusion present?', 'Is there a pleural effusion?', 'Are the hemidiaphragms flattened?', 'Is the diaphragm flat on either side?', 'Is this in the coronal plane?', 'Is there lymphadenopathy?', 'Is lymphadenopathy present?', 'Are the ventricles unaltered?', 'Are the ventricles normal?', 'Is there any abnormality in this image?', 'Are there lesions in this image?', 'What is the shape of the mass?', 'What is the form of the mass?', 'Is this an MRI?', 'Describe the borders of the lesion.', 'How are the borders of the lesion?', 'What is the location of the mass?', 'Where is the mass?', 'Is the mass heterogenous?', 'Is the mass varied?', 'Is there mass effect seen on this image?', 'Is there bulging of structures in this image?', 'Are there clearly defined cardiac borders in this image?', 'Can you name the organ captured by this image?', 'How would you describe the lesion?', 'What is this type of lesion called?', 'What is the location of the abnormality?', 'Where is the abnormality?', 'What is the location of the abnormality?', 'Where is the abnormality?', 'Which plane is this image in?', 'The bottom of the image indicates what area of the brain?', 'Is there edema present near the lesion?', 'Is there fluid accumulation near the lesion?', 'Are there abnormal findings?', 'Is anything irregular in this image?', 'What injury does this brain image suggest?', 'What is evinced by this brain image?', 'Is this an image of normal physiology?', 'Is this patient healthy?', 'Name one organ that is captured by this image.', 'What is the location of the lesion?', 'Where is the lesion?', 'What is wrong with the ventricles?', 'What ventricular abnormalities are seen?', 'Is there a localized mass?', 'Is there a focal mass present?', 'Are the airway walls thickened in the bases?', 'Is there increased airway wall thickening of the bilateral bases?', 'Is the heart enlarged?', 'Is there cardiomegaly?', 'Are there abnormalities seen in the lungs?', 'How would you describe the location of the lesion?', 'Where is the lesion located?', 'Where is the nodule?', 'What is the abnormality?', 'Are there abnormalities?', 'Is anything wrong in this image?', 'Is anything wrong in the image?', 'Is there an abnormality?', 'Are there other abnormalities besides the mass in the temporal horn?', 'Besides the mass in the temporal horn, are there other enhancements in the image?', 'How was this image taken?', 'Is there air trapped in the body?', 'Is there free air present?', 'What is the condition of the patient', 'What abnormality is seen?', 'Are there pulmonary findings?', 'Is there any abnormality in the lungs?', 'What is the location of the mass?', 'Where is the mass?', 'Is this image in the transverse plane?', 'Are there any pulmonary findings?', 'Are the lungs affected?', 'In which lobe are the lesions?', 'Where are the lesions?', 'What type of image is this?', 'Is the gyral enhancement?', 'What is the location of the abnormality?', 'Where is the abnormal finding?', 'What plane is seen?', 'How would you describe the mass?', 'What are the characteristics of the mass?', 'Which plane is this image taken in?', 'Is the mass hyperintense or hypointense?', 'What is the radiological description of the mass?', 'What allows for the bright areas seen in this image?', 'Is this an MRI?', 'Is the mass heterogenous?', 'Is the mass heterogenous in consistency?', 'Are there abnormal findings?', 'Is anything not normal in the image?', 'Are there abnormalities with in the contrast between white and grey matter?', 'Is the gray-white matter junction altered?', 'Is there evidence of inflammation?', 'Is any structure inflamed?', 'What is the condition?', 'What is the pathology?', 'Is the image in the axial plane?', 'How can the distribution in this image be described?', 'What type of distributions is seen on this image?', 'What is the location of the mass?', 'Where is the mass?', 'Is this a T1 weighted image?', 'Is the right renal vein visualized?', 'Is it possible to identify the right renal vein?', 'Are the kidneys visible in this image?', 'Is air visible in the bowels?', 'Is there air in the bowel?', 'What do the two bright dots represent?', 'What are the two hyperlucent inferior dots?', 'In what plane was this image taken?', 'What are the locations of the hyperintensities?', 'Where are the hyperintensities located?', 'Are the kidneys visualized?', 'Can you see the kidneys', 'Is this a PA or AP film?', 'What laterality is this film?', 'What artery is the embolus from?', 'Where is the embolus located?', 'Is the heart enlarged?', 'Is cardiomegaly present?', 'The mass is located in what region?', 'Where is the mass located?', 'What are the bright specks in the gallbladder', 'Are gallstones identifiable?', 'The imaging modality is...?', 'What is the image modality?', 'Is there fluid in the lungs?', 'Is a pleural effusion present?', 'Is this an axial cut?', 'Is the trachea deviated?', 'Is tracheal deviation present?', 'What image modality is this?', 'What imaging modality was used', 'Is air present in the bowels?', 'Is there bowel gas?', 'Are patchy infiltrates depicted?', 'Are there patchy infiltrates present?', 'What two tributaries of blood vessels are impacted?', 'Which blood vessels are affected?', 'Are the margins of the cardiac silhouette normal?', 'Is the heart border normal?', 'Is this an axial plane', 'Is there intrahepatic ductal dilatation?', 'Is intrahepatic ductal dilatation present?', 'What imaging modality was used?', 'What type of image is this?', 'Are air fluid levels depicted in this image?', 'Is there an air fluid level present?', 'What organ is affected by pathology in this image?', 'What structures are involved?', 'Where is the pathology located?', 'Which region of the brain is impacted?', 'Is there air in the bowel?', 'Is air present in the bowel?', 'What is behind the liver?', 'What finding is associated with liver?', 'What type of image is this?', 'what imaging modality was used', 'Is there evidence of a pneumoperitoneum?', 'Is there free air underneath the diaphragm?', 'What imaging plane is depicted here?', 'What is the plane?', 'Is cardiomegaly shown?', 'Is the heart enlarged?', 'What is the location of the mass?', 'Where is the mass located?', 'How was this image taken?', 'What do the hyperintensities likely represent?', 'What are the hyperintensities signaling?', 'Can you see kidneys in this image', 'What organ system is shown?', 'What structure is depicted?', 'What pathology does the image represent', 'What is the mass most likely?', 'How was this image taken?', 'Is there contrast in this image', 'Is pericholecystic inflammation present?', 'What is the lighter substance around the gallbladder', 'What type of imaging was used?', 'Which image modality is this?', 'What is the plane?', 'What plane was used?', 'Does this image use contrast or not?', 'Does this CT have contrast or no contrast?', 'What is wrong with the pancreas?', 'What pathology does the pancreas deominstrate?', 'Is the liver cirrhotic?', 'What organ exhibits pathology', 'Which part of the bowel is involved by the mass?', 'What plane are we in?', 'What is the modality used?', 'What imaging method was used?', 'Are the borders of the mass well-defined ?', 'Are the borders of the mass well-defined and is the interior of the mass homogenous?', 'is the interior of the mass homogenous?', 'Is the mass well circumscribed?', 'Is the mass homogenous?', 'Is the mass well circumscribed and homogenous?', 'What is at the base of the right lung?', 'What pathology is shown at the lung bases?', 'How was the image taken?', 'What plane was used in this image?', 'Is this a PA film?', 'What image modality is this?', 'Is this an axial plane?', 'Is this a CT image?', 'The abscess is located in what structure?', 'Where is the abscess located?', 'Where are the hyperlucencies located?', 'Which areas are lighting up?', 'Are there multiple septations within the cyst?', 'Is the cyst complex?', 'What organ is involved?', 'Which organ is affected?', 'Where are the kidneys located?', 'Is there contrast in this image?', 'Is there evidence of mesenteric lymphadenopathy?', 'Is mesenteric lymphadenopathy present?', 'What imaging modality was used?', 'What type of image modality is this?', 'Is the right conal fascia inflammed?', 'Is inflammation present at the right conal fascia?', 'What organ is enlarged?', 'Which organ is abnormally large?', 'What does the enhancing periphery of the mass represent?', 'What is the outer rim of the mass?', 'What are the two humps\" at the base on the image signifying?\"', 'Are liver findings normal?', 'Does the liver look normal?', 'Blunting of the costophrenic angles indicate what condition?', 'What does the blunting of the costophrenic angles indicate?', 'What are the two bright images on either side', 'Is there air outside the bowel walls?', 'Is pneumoperitoneum evident?', 'Is there hilar adenopathy?', 'Is the ET tube properly placed?', 'Is there perinephric fat stranding?', 'Which plane is the image in?', 'What organ system is visualized?', 'Is this a singular or multilobulated lesion?', 'Is there cardiomegaly?', 'Is the air under the diaphragm pathologic?', 'Is there free air under the diaphragm?', 'Are the sulci visible in this image?', 'What imaging modality was used?', 'Is the trachea midline?', 'Are there any fractures in this image?', 'Was the patient given IV contrast?', \"Is there contrast in the patient's vasculature?\", 'Is there pleural thickening in the R lung?', 'Is there biliary duct dilation?', 'Is IV contrast used?', 'Which ventricle is the mass located in?', 'Is this process bilateral?', 'Is the sigmoid colon visualized at this axial section?', 'Is there a pneumothorax?', 'Is the abnormality hyper intense?', 'Is there ring-enhancement?', 'Is there air in the lesion?', 'What part of the posterior brain contains the lesions?', 'Which lung are the nodules located in?', 'Is this a normal liver?', 'Is there contrast used?', \"Is there contrast in the patient's arteries and veins?\", 'What is the signal intensity of the lesion?', 'Is there a shift of midline structures?', 'Is the lesion hyperdense?', 'In what lobe of the brain is the lesion located?', 'Is the air under the diaphragm pathologic?', 'Is there free air under the diaphragm?', 'Are the cerebellar infarcts hyper attenuated?', 'Is this patient intubated?', 'Where is the spleen located?', 'Is the spleen present?', 'What modality is used to take this image?', 'How many gallstones are identified?', 'What would be the most probably diagnosis for this patient?', 'Why is the left hemithorax more lucent?', 'How big is the mass?', 'Is there a rib fracture?', 'Are there decreased lung markings in the right upper lung field?', 'Is there an brain bleed?', 'What is the term for the sign in this image?', 'Is the aorta size abnormal?', 'Is the aorta dilated?', 'Are there increased interstitial markings?', 'Is the mass in the left or right side?', 'Which lung lobe has the least opacities?', 'Is the corpus callosum involved?', 'Which side is the diaphragm more depressed?', 'Term for the enhancement of the luminal surface seen in the image?', 'Is there pneumoperitoneum?', \"Is there contrast in the patient's small bowel?\", 'How large is the mass?', 'Is there grey-white matter differentiation?', 'The hyperattenuating ovoid mass is lateral to what structure?', 'Is there any lesion in the ventricles?', 'What do the two small hyperintensities indicate?', 'Is the abdominal aorta within normal size limits?', 'Is the lesion on the right or left side of the brain?', 'Is there cardiac enlargement?', 'Is there bilateral hilar enlargement?', 'Are the orbits in view of this image?', 'Where is the abnormality located?', 'Is there ectatic or aneurysmal enlargement of the abdominal aorta?', 'Are the kidneys hyper attenuated?', 'Is there a fracture in the vertebrae seen?', 'Is the aorta visualized?', \"Can the patient's encephalon be seen in this image?\", 'What is the size of the lesion', 'What part of the body does this radiograph show?', 'Are the clavicles fractured?', 'Is this an abnormal film?', 'Is there a cavitary lesion?', 'The increased signal is a result of what material?', 'Which kidney has fluid around it?', 'What does the abnormality in this image represent?', 'Is there a pneumothorax present?', 'Is the contrast in the bowels or the vasculature?', 'Is pneumo intestinalis present?', 'Is the heart enlarged?', 'What structures is identified in the middle of this image?', 'Is there bleeding in the brain?', 'Is there evidence of a pleural effusion?', 'What type of image modality is used?', 'Is this image abnormal?', 'Is there restricted diffusion?', 'Were both sides affected?', 'Is there an acute bleed present?', 'What is on the anterior wall of the right chest?', 'What type of imaging is this?', 'Are the lateral ventricles viewed in this section?', 'How many kidneys are visualizable in this image?', 'Is the trachea midline?', 'Is there evidence of free peritoneal fluid?', 'Is the liver abnormal?', 'Is the cerebellum seen on this axial section?', 'What do the masses contain?', 'Is there bone in the top of the image?', 'What organ is superimposed on the lung fields?', 'Is the image normal?', 'Is the left renal cyst uniform?', 'Which side is the abnormality on?', 'Is there blurring of the grey-white matter junction?', 'Is there a calcification on the upper left lobe?', 'Is this image abnormal?', 'Which lung has diffuse opacification?', 'Is there evidence of pneumoperitoneum?', \"Is there hydronephrosis in the patient's kidneys?\", 'What modality is used in this image?', 'Is this image abnormal?', 'What does the abnormal contour of the left hilum suggest in terms of pathology?', 'Are the kidney present?', 'Are the clavicles broken?', 'The cystic findings in the bilateral apices are consistent with what pathology?', 'Is there an air-fluid level?', 'IS there anything wrong with the lungs?', 'Is there a chest tube placed?', 'How would you describe the sulci in this image?', 'Is this picture abnormal?', 'What does the black area signify?', 'What side of the brain is the lesion on?', 'Is this image abnormal?', 'Are the ventricles smaller than normal?', 'Is there evidence of pneumoperitoneum?', 'Was contrast used?', 'Is the mass heterogeneous or homogeneous in appearance?', 'Is there a fracture of the skull?', 'What is the gender of this patient?', 'Is this a contrast-enhanced CT?', 'Are nodules present in both lungs?', 'Is the heart greater than 50% of the chest diameter', 'Is this image normal?', 'Where is the location of the mass?', 'Are the structures in the pancreas cystic or solid?', 'How many ring enhancing lesions can be found in this image?', 'Is there consolidation in the lungs?', 'Which orientation is the image acquired?', 'Is the gallbladder wall thickened?', 'Is there an air-fluid level?', 'Is the finding normal?', 'What imaging modality is used?', 'Is there free air in the abdomen?', 'Is the liver normal?', 'Is there mass effect?', 'Is there a nodule in the left lung?', 'What is the hyperdensity in the image?', 'Is there contrast in the vasculature?', 'Was this patient given IV contrast?', 'How large is the mass?', 'Are any intestinal abnormalities present?', 'Is there a pneumothorax present?', 'Are there EKG leads on this patient?', 'Is the stomach visualized here?', 'Is the lesion uniform in density?', 'Is this a normal image?', 'Are the nodules well circumscribed?', 'Is this a normal image?', 'Is the appendix enlarged?', 'What image plane is this?', 'Are the ribs broken?', 'What modality was used?', 'Is there adequate inspiration?', 'Which side was affected?', 'Are there rib fractures present?', 'Is there air present under the diaphragm?', 'In what lobes are the lesions located?', 'Is this image normal or abnormal?', 'Is there an NG tube present?', 'Is there a blood clot?', 'What is on the differential?', 'Is the trachea midline?', 'What modality was used for this image?', 'Is the lesion ring enhancing?', 'Is there free air under the diaphragm?', 'Is this patient lying supine?', 'Is the cardiac contour normal in shape?', 'Is the pancreas edematous?', 'Where are the signals most intense?', 'Are there rib fractures present?', 'Where are the infarcts?', 'Is there air-fluid levels?', 'What is the image plane?', 'Is there a shift of midline structures?', 'Is the image normal?', 'In what plane is the above image?', 'What is abnormal about the image?', 'Is there a mediastinal shift?', 'Is the contrast in the bowels or the vasculature?', 'Is there fat stranding?', 'What imaging modality is used?', 'What plane is the image in?', 'Is there abnormal air present under the diaphragm?', 'Is the skull fractured?', 'Is there contrast in the bowels?', 'The hypointense nature of the hemorrhage signifies what in terms of the timeline?', 'Is the spleen present?', 'Is the left kidney abnormal?', 'How would you describe the R vertebral artery shape?', 'Is there a pneumothorax present?', 'Are there air fluid levels?', 'Is there any adenopathy?', 'Which side of the lungs are hyperinflated?', 'How many masses are there?', 'Is there evidence of grey matter edema?', 'What type of MR image modality is seen?', 'Is there fat in these masses?', 'How many kidneys are in this image?', 'Is there a fracture of the clavicle?', 'In what plane is the CT scan?', 'Is there mass effect from the lesion?', 'The enhancing soft tissue mass and fluid seen in the left upper quadrant is consistent with what pathology?', 'Are the kidneys in this image abnormal?', 'Is the mass enhancing?', 'Are the bronchial airways enlarged?', 'Is there a shift of midline structures?', 'What does this represent?', 'Does the patient have a central line placed?', 'Does the L sided lesion enhance?', 'Which organ contains the air-fluid level?', 'What type of MRI modality is used?', 'How many masses are there?', 'Are the findings normal?', 'What type of thrombosis is shown?', 'Is the heart too big?', 'Where is the liver?', 'Do the ventricles have blood in them?', 'Is this a normal image?', 'Are the cystic and common bile ducts dilated?', 'Is the cerebellum in view?', 'Is there contrast used in the above image?', 'Is there contrast present in the bowel?', 'Is there cortical atrophy?', 'Is there cardiomegaly?', 'Are the hepatic lesions ring enhancing?', 'What image modality is used?', 'How many masses are there?', 'Anything abnormal in this image?', 'Are the costophrenic angles preserved?', 'Is the gall bladder enlarged?', 'Is there contrast used?', 'Is the right diaphragm visualized?', 'What type of contrast agent is used in this MRI?', 'Is the abdominal aorta enlarged?', 'Is there restricted diffusion?', 'Is there mass effect?', 'Is there hilar lymphadenopathy?', 'Is a pneumothorax present?', 'Is the gastric bubble shown on the left or right side of the patient?', 'Does this scan represent an abnormality?', 'Is the heart clearly visible?', 'Where is the opacity located?', 'Are calcifications present?', 'Is there evidence of rib fracture?', 'Was contrast used?', 'Is the trachea midline?', 'What imaging modality was used?', 'Are the findings normal?', 'How big is the mass in cm?', 'Are there rib fractures present?', 'What plane is this image?', 'Is the trachea midline?', 'Did this patient receive IV contrast?', 'Was IV contrast given to the patient?', 'Is the CSF radiolucent or radioopaque?', 'What is the intensity signal of CSF?', 'Are the ventricles larger than normal?', 'Is there enlargement of the ventricles', 'Are there multiple circumferential opacities located throughout all lung fields?', 'Does this chest x-ray show signs of diffuse opacities in both right and left lung fields?', 'Was this image taken via MRI?', 'Are pleural opacities located on the left, right, or both sides of the lung?', 'Are the pleural opacities bilateral or unilateral?', 'What modality is this image taken?', 'Is this image taken from the top slice of the brain?', 'Was this image taken from a superior-most section of the brain?', 'What imaging modality is seen here?', 'Was this image taken with an MRI or CT scanner?', 'What plane of section is the brain taken in?', 'What cut of the brain is this image taken?', 'Can you view the colon in this image?', 'Is the transverse colon in view?', 'Is the CSF enhanced or non enhanced?', 'How is the CSF enhancement characterized?', 'Are the air fluid levels located in colon?', 'What plane was this chest film taken in?', 'Is this an AP or PA film?', 'What is the section level of this image?', 'Where is this slice located in the human body?', 'Is the appendix non-enlarged?', 'Is the appendix normal in size?', 'What type of radiograph is this?', 'Is this patient rotated?', 'Was the patient positioned inappropriately?', 'Is this a T1 weighted, T2 weighted, or FLAIR image?', 'Is this MRI taken with FLAIR protocol?', 'Is this image of a saggital plane?', 'What structure is seen in the left hemidiaphragmatic area?', 'What structure is superimposed on the left hemidiaphragm?', 'Is there right hemidiaphragm elevation?', 'Is the right hemidiaphragm higher than the left?', 'Is the jejunal wall enlarged?', 'Is there thickening of the jejunum', 'Where is the gastric bubble located?', 'Where is the gastric bubble placed?', 'What was this image taken with?', 'What is the location of the brain mass?', 'Where is the mass located?', 'Is this patient in a supine position?', 'Is the patient lying supine?', 'Is the heart contour backwards?', 'Is the heart contour a mirror image of normal?', 'What is the location of the three circular opacities?', 'Where are the three circular opacities located?', 'What organ is this image of?', 'Does the left temporal lobe appear normal?', 'Is there a lesion in the left temporal lobe?', 'What brain territory is the hemorrhage located?', 'Which fissure is the hemorrhage located?', 'Is this an axial view of the brain?', 'Is this a saggital brain section?', 'Is this a saggital view of the brain?', 'Does the liver contain at least one hypodensity?', 'Is there a hypodensity located in the liver?', 'What vein is the central venous catheter located in the patient?', 'Where is the central venous catheter placed?', 'Was this image taken by x-ray?', 'Is the aorta visible in this section?', 'Is the aorta in view?', 'Are the kidneys hyper attenuated?', 'Do the kidneys show a high level of contrast enhancement?', 'Are both kidneys in view?', 'Are both kidneys visible?', 'Does the appendix appear normal or abnormal?', 'Is there appendix normal or abnormal in appearance?', 'What plane of the abdomen is this image?', 'Is this a chest radiograph?', 'Does the heart border appear normal?', 'Is there a normal contour of the heart?', 'Is this an AP or PA film?', 'What form of contrast did the patient receive?', 'What types of contrast did this patient have?', 'Is the heart enlarged?', 'Is there evidence of cardiomegaly?', 'What cut of the body is this image?', 'Is this an AP or PA film?', 'How was this film taken?', 'Are the ground glass opacities located more in the apex or base of the lung?', 'What parts of the lung fields contain the most prominent ground glass opacities?', 'How is the artifact in this image categorized?', 'What type of artifact is shown in this image?', 'What is located in the sigmoid colon?', 'What are the findings in the sigmoid colon?', 'What brain region demonstrates edema?', 'What area of the brain is edematous?', 'What type of plane is this image of?', 'What plane was this image taken in?', 'What is the muscle adjacent to the vertebrae?', 'What muscle surrounds the vertebrae?', 'What section is this image?', 'What plane is this image taken?', 'Is there oral contrast located in the colon?', 'Is there oral contrast in the colon?', 'Is this an axial or saggital view of the brain?', 'What cross section of the brain is this image?', 'Did this patient receive IV contrast?', 'Was this patient given IV contrast?', 'What category is the hemmorhage?', 'What type of hemorrhage is shown?', 'Did this patient receive IV contrast?', 'Was IV contrast given to the patient?', 'Does the CSF have high signal intensity?', 'Is there high signal intensity in the CSF?', 'What modality is this image taken?', 'Is this a T1 weighted, T2 weighted, or FLAIR image?', 'What is the MRI modality depicted in this image?', 'What contrast was administered to this patient?', 'What types of contrast does this patient have?', 'Which half the cerebellum is the largest mass located?', 'Which side of the cerebellum contains the largest mass?', 'What organ is this image of?', 'Does this image use GI contrast?', 'Is this a contrast enhanced image?', 'What type of modality was this image taken?', 'What is the MR weighting in this image?', 'Where are the densities identified in the patient?', 'What are the hyperattenuations located around the patient?', 'Is there cardiomegaly?', 'Is the heart enlarged?', 'Is this a T1 weighted, T2 weighted, or FLAIR image?', 'What is the imaging modality?', 'What are the hyperdense lesions noted at the edges of the aorta?', 'What are the hyperintensities surrounding the aorta?', 'What are the internal morphologic features of this mass?', 'Is this a cystic or solid mass?', 'Does this CT use IV contrast material?', 'Is this a contrast or non contrast CT?', 'Are the lungs hyperinflated?', 'Is there hypoinflation or hyperinflation of the lung', 'Does the left hemidiaphragm appear flat?', 'Is there flattening of the left hemidiaphragm?', 'Is this a PA film?', 'Are the small bubbles of air seen normal or abnormal?', 'The small bubbles of air seen in the lumen are normal or abnormal?', 'Is there any costophrenic angle blunting present?', 'Is there presence of any costophrenic angle blunting?', 'What part of the CNS is this image showing?', 'Do you see a pleural effusion?', 'Is there a pleural effusion present?', 'Are the ventricles visualized in this image?', 'Are you able to see the ventricles in this image?', 'What is the sequence of this MRI?', 'The lesion is located where in this image?', 'Where is the lesion located in this image?', 'In which vessel is calcification present?', 'The calcification is located in what vessel?', 'What condition is found in the above image?', 'What pathology is seen in this image?', 'In what organ do you see swelling?', 'What organ is edematous in this image?', 'What pathology is seen in this image?', \"What is wrong with the patient's scan?\", 'This image is suspicious of what cancerous pathology?', 'What cancer does this patient have?', 'Is this a noncontrast CT?', 'The infarcts seen are most likely what type?', 'What types of infarcts are these most likely?', 'Is this a pneumonia vs. pleural effusion?', 'Is a pneumonia or pleural effusion seen in this image?', 'How was this film taken?', 'Are the sulci abnormal?', 'Do the sulci look abnormal in this image?', 'On what side of the body is there pathology, and what is it?', 'What is the pathology?', 'What pathology is seen int his image? ', 'What pathology is seen int his image? What side?', 'On what side of the body is there pathology?', 'What side is the pathology?', 'The image probably had what incidental finding?', 'What was probably found incidentally on this image?', 'Is there deviation in the trachea?', 'Is there tracheal deviation?', 'What organ system is highlighted by contrast?', 'Describe the intensity of the abnormality seen in this image? (central vs. surrounding)', 'How would you describe the central and surrounding intesities of the abnormality seen?', 'Is this a CT or an MRI?', 'Was a CT or MRI used to take the above image?', 'Is the pathology seen hyperintense or hypointense in nature?', 'Is the abnormality hyperintense or hypointense?', 'This image is taken in what plane?', 'The contrast is enhancing what inside the lesion?', 'What is enhanced by contrast in the lesion?', 'Describe the density of this lesion?', 'What is the density of the lesion?', 'Describe the size of this lesion?', 'What is the size of the lesion?', 'Describe the size and density of this lesion?', 'What is the size and density of the lesion?', 'What vascular problem is seen above?', 'What vein is occluded?', 'Do you see cardiomegaly?', 'Is cardiomegaly present?', 'Is this an axial plane image?', 'Why are there no sulci seen in this image?', 'Why do you not see sulci in the image?', 'Is this a KUB film?', 'Is a noncontrast CT the first imaging test for a suspected brain bleed?', 'What plane is this image in?', 'Is the heart size abnormal?', 'Are the ventricles an abnormal size?', 'Is the size of the ventricles abnormal?', 'Is there any tracheal deviation present?', 'Is the trachea deviated in this image?', 'This image is consistent with what condition?', 'What condition does the patient have?', 'In what plane was this image taken?', 'What plane was this image taken in?', 'The image has an abnormality located where?', 'Where is the abnormality located in this image?', 'Are there any abnormalities seen in the spleen?', 'What is the pathology seen in the spleen?', 'What structure in the left basal ganglia is spared?', 'What is spared in the left basal ganglia?', 'Pathology seen in this image?', 'What is the condition seen in this image?', 'Are there pleural effusions present?', 'Is there presence of pleural effusions in this patient?', 'Where Is there obstruction present?', 'Where is obstruction present, if any?', 'Free air is seen where in this image?', 'Where is the free-air seen in this image?', 'Is this an MRI image?', 'The infarction is likely caused by what vessel?', 'What vessel is likely the cause of this infarction?', 'Is this film taken AP?', 'Are there any abnormalities in the kidneys?', 'Notice any abnormality in the kidneys?', 'What would you call the lesions seen?', 'What is the name of the lesions seen in this image?', 'Is this a plain film xray?', 'Are the costophrenic angles blunted?', 'Is there any blunting of the costophrenic angle(s)?', 'There is mesenteric lymphadenopathy present, what additional region is seeded?', 'We see mesenteric lymphadenopathy in the above image, where else is there cancer?', 'What is the vascular distribution of these infarcts?', 'Where are the infarcts located?', 'The pathology seen in this image is typical of what disease?', 'What disease does the pathology suggest?', 'In what parts of the brain are the lesions located?', 'Where do you see the lesions?', 'Any tracheal deviation present?', 'Is there any presence of tracheal deviation?', 'Where is the abnormality located?', 'Where is the pathology located?', 'The image shows what abnormality?', 'What is abnormal in this image?', 'Is this image a CT or MRI image?', 'Is the GI tract is highlighted by contrast?', 'Is this a special kind of X-ray?', 'This image is concerning for what lung pathology?', 'What lung pathology is this image concerning for?', 'Do you see cardiomegaly?', 'Is there cardiomegaly present?', 'The soft-tissue density seen in this image contains what?', 'What is filling the soft-tissue density seen in this image?', 'Is this a sagittal plane image?', 'From what do you see stranding?', 'What is stranding in this image?', 'The image above shows an abnormality where?', 'Where is the abnormality in this image?', 'Is there evidence of left lung field hyperinflation?', 'Has the left lung collapsed?', 'Is the grey/white matter border well differentiated?', 'Is there blurring of the grey-white matter junction?', 'Does the pancreatic head appear enlarged?', 'Is the size of the pancreatic head large?', 'Is there evidence of mediastinal shift?', 'Is there a midline shift?', 'Is there evidence of hilar enlargement?', 'Is there increased lung markings near the hilum?', 'Is the mass compressing the inferior vena cava?', 'Is the inferior vena cava compressed by the tumor?', 'Are the kidneys normal?', 'Are these normal looking kidneys?', 'What is happening to the right heart border?', 'How would you describe the R heart border?', 'What is the small mass near the left kidney?', 'What is located near the Left kidney', 'Is the right costophrenic angle sharp?', 'Is the right costophrenic angle easily visualized?', 'Are the ventricles symmetrical?', 'Are the ventricles the same size?', 'What does the brighter outer ring of the lesion represent?', 'What is indicated by the bright ring around the lesion?', 'Where in relation to the mass is the left kidney located in this image?', 'Where is the mass located in relation to the left kidney?', 'On which side is air under the diaphragm?', \"Is free air present under the patient's left or right hemidiaphragm?\", 'Are any ventricles visualized on this image?', 'Can you see ventricles?', 'Are there any other organs visualized in this image?', 'What other organs are present?', 'Which lung are more markings present in?', 'Where are the most lung markings?', 'Are both kidneys visualized?', 'Can you see both kidneys in this image?', 'Is there evidence of calcification in the pancreas?', 'Is the pancreas calcified?', 'what test or procedure might reveal the diagnosis?', 'What can be done to get to a diagnosis?', 'What is your differential diagnoses?', 'What are the possible diagnoses?', 'Which is more likely? Cancer or hemorrhage?', 'Is this cancer or hemorrhage?', 'What is the most likely explanation for a enlarged kidney in this image?', 'Why is the right kidney enlarged?', 'what is the alternate name for lens-shaped\"\"', 'What term is synonymous with lens-shaped?', 'What are the hypoattenuated round structures surrounding the veterbral column?', 'What are the structures near the vertebral column?', 'What is the most likely diagnosis?', 'What is going on with this patient?', 'Do you favor a viral process or parasitic process or other?', 'Is this a viral or parasitic process?', 'Is the heart displaced?', 'Is the heart in the wrong position?', 'How do you determine cardiomegaly?', 'How do you determine if the heart is enlarged?', 'the internal gas and enhancing rim suggests what type of lesion?', 'What type of hepatic lesion has internal gas and enhancing rim?', 'What does tram-track\"-ing indictate?\"', 'What is meant by tram-track?', 'Is there hyperinflation of the lung(s)?', 'Are the lungs increased in size?', 'Is there an aortic aneurysm?', 'Can an aortic aneurysm be appreciated?', 'How can you tell if contrast has been utilized?', 'What are the signs of contrast being used?', 'Is mass effect obvious?', 'Does there seem to be a mass effect?', 'The dark space in the central portion of the image represents what structure(s)?', 'What do the dark spaces in the center show?', 'Is there a midline shift?', 'Is the trachea shifted?', 'What indicates a pleural effusion?', 'What is a pleural effusion', 'How can you confirm contrast was used?', 'How do you know if contrast was used?', 'Is the vertebra fractured?', 'Is there a vertebral fracture?', 'Which way is the trachea deviating in this image?', 'Is the trachea deviated to the right or left?', 'Do you suspect vascular process or a genetic process?', 'Is the etiology genetic or vascular?', 'what shape would the lesion be if this were a subdural hematoma?', 'What shape is the lesion in a subdural hematoma?', 'can this patient be managed with medical therapy alone?', 'Will medical therapy be enough?', 'what is the pathology?', 'What is abnormal in this image?', 'What vascular territory is the lesion?', 'In what vascular territory is the lesion located?', 'Is this a vascular lesion', 'Does this lesion involve the vascular system?', 'What is the foreign body?', 'Please identify the foreign body.', 'is there wall enhancement of the GB?', 'Is the gallbladder wall enhanced by contrast?', 'Are the lymph nodes enlarged', 'Is there hilar lymphadenopathy?', 'What neuro deficits will are predicted by image location?', 'What deficits are suggested by the location of the lesion?', 'Is this a tension pneumothorax?', 'Does this image show a tension pneumothorax?', 'what is the most likely etiology', 'What is most likely causing these lesions?', 'where is the pathology?', 'Where is the pathology located?', 'Is there a pancreatic pseudocsyst?', 'Is there a pseudocyst in the pancreas?', 'is there tracheal deviation?', 'Is the trachea deviated?', 'what is the pathology', 'What is abnormal in this image?', 'How can you tell the mass is hemorrhagic and pushing the optic chiasm?', 'Where is the mass?', 'What is the hypodensity on the posteriolateral edge of the left kidney?', 'What is seen in the posterolateral L kidney?', 'How can you tell that one side is small Bowen and the other side is large bowel?', 'How do you know that small bowel and colon are on different sides of midline?', 'Would you expect pleural plaques on other pleural surfaces vs just the hemithoraces?', 'Do you expect the patient to have plaques on other pleura as well?', 'What are the white nodules on bilateral kidneys?', 'What are the hyperintensities seen in the bilateral kidneys?', 'What symptoms would this patient present with?', 'What did the patient likely complain of?', 'What are the densities in both mid-lung fields?', 'What do the densities in the lung fields represent?', 'what are defining Radiological features of large bowel?', 'How do you distinguish large bowel?', 'How can you tell if it?s the common bile duct vs the cystic duct?', 'What differentiates the common bile duct and cystic duct?', 'What are common causes of cystic and cbd obstruction?', 'What can cause these findings on imaging?', 'Is gray or white matter highlighted in this image?', 'Which is highlighted in this image, white or gray matter?', 'What lung are the pulmonary nodules in?', 'Where are the nodules located?', 'Do the two findings have the same etiology?', 'Is there a unified process?', 'What are defining radiological features of the small bowel?', 'How do you identify small bowel?', 'Are there any abnormalities with the shape of the aortic arch?', 'Is the aortic arch shape abnormal?', 'Why does less enhancement mean less acute?', 'What makes a lesion less acute?', 'How do you know this is a T2 weighted image?', 'What tells you that the image is T2?', 'What are the lesions indicative of?', 'What are the lesions consistent with?', 'Is this an infectious process?', 'Does this represent infectious process?', 'Where are the lesions located?', 'Where are the lesions?', 'How common is bilateral Wilms?', 'About how often do you see bilateral Wilms tumor?', 'How would you describe the pathology seen in the above image?', 'What is the pathology seen in this image?', 'What is the pathology seen above?', 'What abnormality is seen in this image?', \"Is the patient's heart enlarged?\", 'Does the heart look enlarged?', \"Is there any bleeding in this patient's brain?\", \"Is there bleeding present in this patient's brain?\", 'What brain structures would be affected by the lesion in the right frontal area of the brain?', 'Which brain structures could be affected by the lesion located in the right frontal brain area?', 'Where do we see multiple infarcts in the above image?', 'Location of the multiple infarcts?', 'What organ system is shown in the above image?', 'The image shows what organ system?', 'Does the patient have ascites?', 'Is there ascites present?', 'In what position was the patient in when this image was taken?', 'What position is the patient in for this image?', 'Can gray-white differentiation be well assessed with this image?', 'Is there significant difference between gray and white matter here?', 'What indicates there is no pleural effusion present?', 'What sign determines the absence of a pleural effusion?', 'Is the occipital lobe visible in this image?', 'Is the occipital lobe present?', 'Is there infiltrate in the sinuses?', 'Are the sinuses abnormal?', 'What lobe is the infarct in?', 'Which lobe is infarcted', 'What is the organ pictured superior to the aorta?', 'What is above the aorta in this image?', 'Where in the cortex are the lesions present?', 'Which cerebral cortex contains the lesion?', 'Why is there air seen in the bottom of the image?', 'Why is free air present in the image?', 'Is cerebral cortex present in this image?', 'Can the cerebral cortex be visualized at this level?', 'Is the hyperinflation unilateral or bilateral?', 'Is the lung hyperinflated on one or both sides?', 'Are the lines seen on the exterior or interior of the patient?', 'Are the lines in the image inside or outside of the patient?', 'What indicates there is a consolidation in the right lung?', 'What is the observed sign of pulmonary consolidation on the right side?', 'Name one abnormality in the radiograph.', 'What is one abnormality that can be seen in the image?', 'What is the abnormality?', 'What is wrong in this image?', 'What abnormal findings are present in this image?', 'What is the lesion in this image?', 'Are the lungs clear?', 'Are there lungs free of consolidation?', 'Is there fat stranding?', 'Is fat stranding present?', 'Do the lungs appear hyperinflated?', 'Is hyperinflation depicted?', 'What is wrong with the aortic area?', 'What pathology is shown in the aorta?', 'How would you describe the mass on the left kidney?', 'What is the left kidney mass?', 'What is the appearance of the liver?', 'how would you describe the liver?', 'What does the hyperlucency indicate?', 'What pathology does the hyperlucency represent?', 'Is the bowel distended?', 'Is bowel distension present?', 'Is the cardiac silhouette enlarged?', 'Is cardiomegaly present?', 'Is there fat stranding present?', 'Is fat stranding depicted in this image?', 'Where are the hyperintensities located?', 'What is the location of the hyperintensitites?', 'Is the mass in the liver regular or irregular in contour?', 'What is the shape of the liver mass?', 'How many ribs are superimposed on the lung fields?', 'How many ribs are present in vertical order on this chest radiograph', 'Is there a midline shift?', 'Is there structural deviation from the midline?', 'Is the circular opacity (located in the middle of this image) found on top of the patient or within the patient?', \"Is the opacity located in the middle of the image inside the patient or superficial to the patient's skin?\", 'Is there decreased aeration at the apex?', 'Is the apical aeration normal or decreased?', 'Is this a T1 weighted, T2 weighted, or FLAIR image?', 'Is this image modality T1, T2, or FLAIR?', 'Is this a PA film?', 'Is this film taken in a PA modality?', 'What is the hypodensity located inside the vertebrae?', 'What is the hypo-dense area seen in the vertebrae?']\n"
          ]
        }
      ]
    },
    {
      "cell_type": "code",
      "source": [
        "questions=df['question']\n",
        "tokens = tokenizer(questions[0], padding='max_length', max_length=50)"
      ],
      "metadata": {
        "id": "CZLcOXt4jNsE"
      },
      "execution_count": null,
      "outputs": []
    },
    {
      "cell_type": "markdown",
      "source": [
        "## Fusion Layer"
      ],
      "metadata": {
        "id": "A_OuuixnkTV2"
      }
    },
    {
      "cell_type": "markdown",
      "source": [
        "Using VisualBERT for fusion"
      ],
      "metadata": {
        "id": "YqYMpjDk8cVN"
      }
    },
    {
      "cell_type": "code",
      "source": [
        "input_ids = torch.tensor(tokens[\"input_ids\"])\n",
        "attention_mask = torch.tensor(tokens[\"attention_mask\"])\n",
        "token_type_ids = torch.tensor(tokens[\"token_type_ids\"])"
      ],
      "metadata": {
        "id": "Kyo0oDkPkEWq"
      },
      "execution_count": null,
      "outputs": []
    },
    {
      "cell_type": "code",
      "source": [
        "model = VisualBertForPreTraining.from_pretrained('uclanlp/visualbert-nlvr2-coco-pre') # this checkpoint has 1024 dimensional visual embeddings projection"
      ],
      "metadata": {
        "colab": {
          "base_uri": "https://localhost:8080/",
          "height": 81,
          "referenced_widgets": [
            "f4a11cc9abca4ce8ad7d2abb2142d92a",
            "07a1423a292a4d049da20e1e812b535b",
            "c6a2b34dde964469949eda2c8f3387e1",
            "d8eb3081a98947ada5d07af814e06003",
            "8484e8145e564c639609e8c76148aa40",
            "dcb725099d1f4bd6a940633d71d80fa3",
            "cc4e7e72ecf34b108940cd22fb12d974",
            "8e9c859dba484c5bb8df2848e51c3294",
            "2b0524e0255a44828e1c54f3dec97967",
            "b777d0bc6c2344e19b97a8f0edf7600c",
            "8e5d126326c94f7ca57cc7550810c34c",
            "70f2b2d9b863469da0c31851eab54024",
            "d3406430783b4ca98ce0cd63ce0b5659",
            "087c9b511663442dba72f97963999a6d",
            "2a57f193812a4ca7a445f9580d8a9146",
            "ee6d533322264f6da4117c54054f8f05",
            "8b191c3191a8437aa932c17e7b30b941",
            "4c30de07c0e94e01981c9f464e14d3be",
            "5929c345ff3a4b05bf5352de20fafdfa",
            "732349335d4445f181cf339f8aa8332e",
            "f12dd7eefb0245c4bde411a099346246",
            "fc71eeaa9ef34f55af440a721088e735"
          ]
        },
        "id": "mc1hTg47kJl5",
        "outputId": "852f15e9-9119-495d-8350-03b2ee1601c0"
      },
      "execution_count": null,
      "outputs": [
        {
          "output_type": "display_data",
          "data": {
            "text/plain": [
              "Downloading (…)lve/main/config.json:   0%|          | 0.00/631 [00:00<?, ?B/s]"
            ],
            "application/vnd.jupyter.widget-view+json": {
              "version_major": 2,
              "version_minor": 0,
              "model_id": "f4a11cc9abca4ce8ad7d2abb2142d92a"
            }
          },
          "metadata": {}
        },
        {
          "output_type": "display_data",
          "data": {
            "text/plain": [
              "Downloading pytorch_model.bin:   0%|          | 0.00/445M [00:00<?, ?B/s]"
            ],
            "application/vnd.jupyter.widget-view+json": {
              "version_major": 2,
              "version_minor": 0,
              "model_id": "70f2b2d9b863469da0c31851eab54024"
            }
          },
          "metadata": {}
        }
      ]
    },
    {
      "cell_type": "code",
      "source": [
        "# Assuming visual_embeds is already a tensor with shape [4680, 3, 224, 224]\n",
        "visual_attention_mask = torch.ones(visual_embeds.shape[:-1], dtype=torch.long)\n",
        "visual_token_type_ids = torch.ones(visual_embeds.shape[:-1], dtype=torch.long)\n"
      ],
      "metadata": {
        "id": "vWRYP_eCkhpO"
      },
      "execution_count": null,
      "outputs": []
    },
    {
      "cell_type": "code",
      "source": [
        "print(input_ids.shape)\n",
        "print(attention_mask.shape)\n",
        "print(token_type_ids.shape)\n",
        "print(visual_embeds.shape)\n",
        "print(visual_attention_mask.shape)\n",
        "print(visual_token_type_ids.shape)"
      ],
      "metadata": {
        "colab": {
          "base_uri": "https://localhost:8080/"
        },
        "id": "5CQsGcze96rS",
        "outputId": "b1406605-b6be-4c95-f839-ab4b1da1956f"
      },
      "execution_count": null,
      "outputs": [
        {
          "output_type": "stream",
          "name": "stdout",
          "text": [
            "torch.Size([50])\n",
            "torch.Size([50])\n",
            "torch.Size([50])\n",
            "torch.Size([4680, 3, 224, 224])\n",
            "torch.Size([4680, 3, 224])\n",
            "torch.Size([4680, 3, 224])\n"
          ]
        }
      ]
    },
    {
      "cell_type": "code",
      "source": [
        "# Assuming you have the tensors as you described\n",
        "input_ids = input_ids.unsqueeze(1)  # Add sequence length dimension: [50] -> [50, 1]\n",
        "attention_mask = attention_mask.unsqueeze(1)  # Add sequence length dimension: [50] -> [50, 1]\n",
        "token_type_ids = token_type_ids.unsqueeze(1)  # Add sequence length dimension: [50] -> [50, 1]\n",
        "\n",
        "# Assuming visual_attention_mask and visual_token_type_ids need to be adjusted\n",
        "visual_attention_mask = visual_attention_mask[:, :, :1]  # Adjust dimensions, keep only the first element\n",
        "visual_token_type_ids = visual_token_type_ids[:, :, :1]  # Adjust dimensions, keep only the first element"
      ],
      "metadata": {
        "id": "IZjM4zS_-cdW"
      },
      "execution_count": null,
      "outputs": []
    },
    {
      "cell_type": "code",
      "source": [
        "print(input_ids.shape)\n",
        "print(attention_mask.shape)\n",
        "print(token_type_ids.shape)\n",
        "print(visual_embeds.shape)\n",
        "print(visual_attention_mask.shape)\n",
        "print(visual_token_type_ids.shape)"
      ],
      "metadata": {
        "colab": {
          "base_uri": "https://localhost:8080/"
        },
        "id": "ekjbkEZZ-mIz",
        "outputId": "58522420-aa6a-42ea-a360-97ec432c000f"
      },
      "execution_count": null,
      "outputs": [
        {
          "output_type": "stream",
          "name": "stdout",
          "text": [
            "torch.Size([50, 1, 1])\n",
            "torch.Size([50, 1, 1])\n",
            "torch.Size([50, 1, 1])\n",
            "torch.Size([4680, 3, 224, 224])\n",
            "torch.Size([4680, 3, 1])\n",
            "torch.Size([4680, 3, 1])\n"
          ]
        }
      ]
    },
    {
      "cell_type": "code",
      "source": [
        "# Assuming you have the tensors as you described\n",
        "input_ids = input_ids.view(-1, 1)  # Reshape to [50, 1]\n",
        "attention_mask = attention_mask.view(-1, 1)  # Reshape to [50, 1]\n",
        "token_type_ids = token_type_ids.view(-1, 1)  # Reshape to [50, 1]\n",
        "\n",
        "# Flatten the visual_embeds tensor\n",
        "visual_embeds = visual_embeds.view(4680, -1)  # Reshape to [4680, 3 * 224 * 224]\n",
        "\n",
        "# Flatten the visual_attention_mask and visual_token_type_ids tensors\n",
        "visual_attention_mask = visual_attention_mask.view(4680, -1)  # Reshape to [4680, 3 * 224]\n",
        "visual_token_type_ids = visual_token_type_ids.view(4680, -1)  # Reshape to [4680, 3 * 224]\n"
      ],
      "metadata": {
        "id": "2pgCWWsE-22t"
      },
      "execution_count": null,
      "outputs": []
    },
    {
      "cell_type": "code",
      "source": [
        "print(input_ids.shape)\n",
        "print(attention_mask.shape)\n",
        "print(token_type_ids.shape)\n",
        "print(visual_embeds.shape)\n",
        "print(visual_attention_mask.shape)\n",
        "print(visual_token_type_ids.shape)"
      ],
      "metadata": {
        "colab": {
          "base_uri": "https://localhost:8080/"
        },
        "id": "aTpd3RsS-44l",
        "outputId": "73959d84-626d-4795-87aa-4350b32aeb3a"
      },
      "execution_count": null,
      "outputs": [
        {
          "output_type": "stream",
          "name": "stdout",
          "text": [
            "torch.Size([50, 1])\n",
            "torch.Size([50, 1])\n",
            "torch.Size([50, 1])\n",
            "torch.Size([4680, 150528])\n",
            "torch.Size([4680, 3])\n",
            "torch.Size([4680, 3])\n"
          ]
        }
      ]
    },
    {
      "cell_type": "markdown",
      "source": [
        "training code"
      ],
      "metadata": {
        "id": "-N_rfzNy2lLB"
      }
    },
    {
      "cell_type": "code",
      "source": [
        "outputs = model\n",
        " (input_ids=input_ids,\n",
        "  attention_mask=attention_mask,\n",
        "  token_type_ids=token_type_ids,\n",
        "  visual_embeds=visual_embeds,\n",
        "  visual_attention_mask=visual_attention_mask\n",
        "  , visual_token_type_ids=visual_token_type_ids)"
      ],
      "metadata": {
        "colab": {
          "base_uri": "https://localhost:8080/",
          "height": 425
        },
        "id": "KDeRhh77kcNv",
        "outputId": "122cb418-0bd6-49db-fdfa-bb14fad9652d"
      },
      "execution_count": null,
      "outputs": [
        {
          "output_type": "error",
          "ename": "RuntimeError",
          "evalue": "ignored",
          "traceback": [
            "\u001b[0;31m---------------------------------------------------------------------------\u001b[0m",
            "\u001b[0;31mRuntimeError\u001b[0m                              Traceback (most recent call last)",
            "\u001b[0;32m<ipython-input-42-6878c8bf51c6>\u001b[0m in \u001b[0;36m<cell line: 1>\u001b[0;34m()\u001b[0m\n\u001b[0;32m----> 1\u001b[0;31m \u001b[0moutputs\u001b[0m \u001b[0;34m=\u001b[0m \u001b[0mmodel\u001b[0m\u001b[0;34m(\u001b[0m\u001b[0minput_ids\u001b[0m\u001b[0;34m=\u001b[0m\u001b[0minput_ids\u001b[0m\u001b[0;34m,\u001b[0m \u001b[0mattention_mask\u001b[0m\u001b[0;34m=\u001b[0m\u001b[0mattention_mask\u001b[0m\u001b[0;34m,\u001b[0m \u001b[0mtoken_type_ids\u001b[0m\u001b[0;34m=\u001b[0m\u001b[0mtoken_type_ids\u001b[0m\u001b[0;34m,\u001b[0m \u001b[0mvisual_embeds\u001b[0m\u001b[0;34m=\u001b[0m\u001b[0mvisual_embeds\u001b[0m\u001b[0;34m,\u001b[0m \u001b[0mvisual_attention_mask\u001b[0m\u001b[0;34m=\u001b[0m\u001b[0mvisual_attention_mask\u001b[0m\u001b[0;34m,\u001b[0m \u001b[0mvisual_token_type_ids\u001b[0m\u001b[0;34m=\u001b[0m\u001b[0mvisual_token_type_ids\u001b[0m\u001b[0;34m)\u001b[0m\u001b[0;34m\u001b[0m\u001b[0;34m\u001b[0m\u001b[0m\n\u001b[0m",
            "\u001b[0;32m/usr/local/lib/python3.10/dist-packages/torch/nn/modules/module.py\u001b[0m in \u001b[0;36m_call_impl\u001b[0;34m(self, *args, **kwargs)\u001b[0m\n\u001b[1;32m   1499\u001b[0m                 \u001b[0;32mor\u001b[0m \u001b[0m_global_backward_pre_hooks\u001b[0m \u001b[0;32mor\u001b[0m \u001b[0m_global_backward_hooks\u001b[0m\u001b[0;34m\u001b[0m\u001b[0;34m\u001b[0m\u001b[0m\n\u001b[1;32m   1500\u001b[0m                 or _global_forward_hooks or _global_forward_pre_hooks):\n\u001b[0;32m-> 1501\u001b[0;31m             \u001b[0;32mreturn\u001b[0m \u001b[0mforward_call\u001b[0m\u001b[0;34m(\u001b[0m\u001b[0;34m*\u001b[0m\u001b[0margs\u001b[0m\u001b[0;34m,\u001b[0m \u001b[0;34m**\u001b[0m\u001b[0mkwargs\u001b[0m\u001b[0;34m)\u001b[0m\u001b[0;34m\u001b[0m\u001b[0;34m\u001b[0m\u001b[0m\n\u001b[0m\u001b[1;32m   1502\u001b[0m         \u001b[0;31m# Do not call functions when jit is used\u001b[0m\u001b[0;34m\u001b[0m\u001b[0;34m\u001b[0m\u001b[0m\n\u001b[1;32m   1503\u001b[0m         \u001b[0mfull_backward_hooks\u001b[0m\u001b[0;34m,\u001b[0m \u001b[0mnon_full_backward_hooks\u001b[0m \u001b[0;34m=\u001b[0m \u001b[0;34m[\u001b[0m\u001b[0;34m]\u001b[0m\u001b[0;34m,\u001b[0m \u001b[0;34m[\u001b[0m\u001b[0;34m]\u001b[0m\u001b[0;34m\u001b[0m\u001b[0;34m\u001b[0m\u001b[0m\n",
            "\u001b[0;32m/usr/local/lib/python3.10/dist-packages/transformers/models/visual_bert/modeling_visual_bert.py\u001b[0m in \u001b[0;36mforward\u001b[0;34m(self, input_ids, attention_mask, token_type_ids, position_ids, head_mask, inputs_embeds, visual_embeds, visual_attention_mask, visual_token_type_ids, image_text_alignment, output_attentions, output_hidden_states, return_dict, labels, sentence_image_labels)\u001b[0m\n\u001b[1;32m    960\u001b[0m         \u001b[0mreturn_dict\u001b[0m \u001b[0;34m=\u001b[0m \u001b[0mreturn_dict\u001b[0m \u001b[0;32mif\u001b[0m \u001b[0mreturn_dict\u001b[0m \u001b[0;32mis\u001b[0m \u001b[0;32mnot\u001b[0m \u001b[0;32mNone\u001b[0m \u001b[0;32melse\u001b[0m \u001b[0mself\u001b[0m\u001b[0;34m.\u001b[0m\u001b[0mconfig\u001b[0m\u001b[0;34m.\u001b[0m\u001b[0muse_return_dict\u001b[0m\u001b[0;34m\u001b[0m\u001b[0;34m\u001b[0m\u001b[0m\n\u001b[1;32m    961\u001b[0m \u001b[0;34m\u001b[0m\u001b[0m\n\u001b[0;32m--> 962\u001b[0;31m         outputs = self.visual_bert(\n\u001b[0m\u001b[1;32m    963\u001b[0m             \u001b[0minput_ids\u001b[0m\u001b[0;34m,\u001b[0m\u001b[0;34m\u001b[0m\u001b[0;34m\u001b[0m\u001b[0m\n\u001b[1;32m    964\u001b[0m             \u001b[0mattention_mask\u001b[0m\u001b[0;34m=\u001b[0m\u001b[0mattention_mask\u001b[0m\u001b[0;34m,\u001b[0m\u001b[0;34m\u001b[0m\u001b[0;34m\u001b[0m\u001b[0m\n",
            "\u001b[0;32m/usr/local/lib/python3.10/dist-packages/torch/nn/modules/module.py\u001b[0m in \u001b[0;36m_call_impl\u001b[0;34m(self, *args, **kwargs)\u001b[0m\n\u001b[1;32m   1499\u001b[0m                 \u001b[0;32mor\u001b[0m \u001b[0m_global_backward_pre_hooks\u001b[0m \u001b[0;32mor\u001b[0m \u001b[0m_global_backward_hooks\u001b[0m\u001b[0;34m\u001b[0m\u001b[0;34m\u001b[0m\u001b[0m\n\u001b[1;32m   1500\u001b[0m                 or _global_forward_hooks or _global_forward_pre_hooks):\n\u001b[0;32m-> 1501\u001b[0;31m             \u001b[0;32mreturn\u001b[0m \u001b[0mforward_call\u001b[0m\u001b[0;34m(\u001b[0m\u001b[0;34m*\u001b[0m\u001b[0margs\u001b[0m\u001b[0;34m,\u001b[0m \u001b[0;34m**\u001b[0m\u001b[0mkwargs\u001b[0m\u001b[0;34m)\u001b[0m\u001b[0;34m\u001b[0m\u001b[0;34m\u001b[0m\u001b[0m\n\u001b[0m\u001b[1;32m   1502\u001b[0m         \u001b[0;31m# Do not call functions when jit is used\u001b[0m\u001b[0;34m\u001b[0m\u001b[0;34m\u001b[0m\u001b[0m\n\u001b[1;32m   1503\u001b[0m         \u001b[0mfull_backward_hooks\u001b[0m\u001b[0;34m,\u001b[0m \u001b[0mnon_full_backward_hooks\u001b[0m \u001b[0;34m=\u001b[0m \u001b[0;34m[\u001b[0m\u001b[0;34m]\u001b[0m\u001b[0;34m,\u001b[0m \u001b[0;34m[\u001b[0m\u001b[0;34m]\u001b[0m\u001b[0;34m\u001b[0m\u001b[0;34m\u001b[0m\u001b[0m\n",
            "\u001b[0;32m/usr/local/lib/python3.10/dist-packages/transformers/models/visual_bert/modeling_visual_bert.py\u001b[0m in \u001b[0;36mforward\u001b[0;34m(self, input_ids, attention_mask, token_type_ids, position_ids, head_mask, inputs_embeds, visual_embeds, visual_attention_mask, visual_token_type_ids, image_text_alignment, output_attentions, output_hidden_states, return_dict)\u001b[0m\n\u001b[1;32m    796\u001b[0m         \u001b[0;31m# ourselves in which case we just need to make it broadcastable to all heads.\u001b[0m\u001b[0;34m\u001b[0m\u001b[0;34m\u001b[0m\u001b[0m\n\u001b[1;32m    797\u001b[0m         \u001b[0;32mif\u001b[0m \u001b[0mvisual_embeds\u001b[0m \u001b[0;32mis\u001b[0m \u001b[0;32mnot\u001b[0m \u001b[0;32mNone\u001b[0m\u001b[0;34m:\u001b[0m\u001b[0;34m\u001b[0m\u001b[0;34m\u001b[0m\u001b[0m\n\u001b[0;32m--> 798\u001b[0;31m             \u001b[0mcombined_attention_mask\u001b[0m \u001b[0;34m=\u001b[0m \u001b[0mtorch\u001b[0m\u001b[0;34m.\u001b[0m\u001b[0mcat\u001b[0m\u001b[0;34m(\u001b[0m\u001b[0;34m(\u001b[0m\u001b[0mattention_mask\u001b[0m\u001b[0;34m,\u001b[0m \u001b[0mvisual_attention_mask\u001b[0m\u001b[0;34m)\u001b[0m\u001b[0;34m,\u001b[0m \u001b[0mdim\u001b[0m\u001b[0;34m=\u001b[0m\u001b[0;34m-\u001b[0m\u001b[0;36m1\u001b[0m\u001b[0;34m)\u001b[0m\u001b[0;34m\u001b[0m\u001b[0;34m\u001b[0m\u001b[0m\n\u001b[0m\u001b[1;32m    799\u001b[0m             extended_attention_mask: torch.Tensor = self.get_extended_attention_mask(\n\u001b[1;32m    800\u001b[0m                 \u001b[0mcombined_attention_mask\u001b[0m\u001b[0;34m,\u001b[0m \u001b[0;34m(\u001b[0m\u001b[0mbatch_size\u001b[0m\u001b[0;34m,\u001b[0m \u001b[0minput_shape\u001b[0m \u001b[0;34m+\u001b[0m \u001b[0mvisual_input_shape\u001b[0m\u001b[0;34m)\u001b[0m\u001b[0;34m\u001b[0m\u001b[0;34m\u001b[0m\u001b[0m\n",
            "\u001b[0;31mRuntimeError\u001b[0m: Sizes of tensors must match except in dimension 1. Expected size 50 but got size 4680 for tensor number 1 in the list."
          ]
        }
      ]
    },
    {
      "cell_type": "code",
      "source": [
        "outputs"
      ],
      "metadata": {
        "id": "DzsAMcsGkibl"
      },
      "execution_count": null,
      "outputs": []
    }
  ]
}